{
  "nbformat": 4,
  "nbformat_minor": 0,
  "metadata": {
    "colab": {
      "provenance": [],
      "gpuType": "T4",
      "mount_file_id": "1yyeiVXypOdRpfhunEihIOY7_d80gn4ky",
      "authorship_tag": "ABX9TyOvDsHwW3ab4c9viPgcQ1sC",
      "include_colab_link": true
    },
    "kernelspec": {
      "name": "python3",
      "display_name": "Python 3"
    },
    "language_info": {
      "name": "python"
    },
    "accelerator": "GPU"
  },
  "cells": [
    {
      "cell_type": "markdown",
      "metadata": {
        "id": "view-in-github",
        "colab_type": "text"
      },
      "source": [
        "<a href=\"https://colab.research.google.com/github/HoseinNekouei/PyTorch_Binary-Prediction-of-Poisonous-Mushrooms/blob/main/Torch_binary_prediction_MLP.ipynb\" target=\"_parent\"><img src=\"https://colab.research.google.com/assets/colab-badge.svg\" alt=\"Open In Colab\"/></a>"
      ]
    },
    {
      "cell_type": "markdown",
      "source": [
        "# **Import Dataset**"
      ],
      "metadata": {
        "id": "6xog5znB3_bt"
      }
    },
    {
      "cell_type": "code",
      "execution_count": 2,
      "metadata": {
        "id": "WNUCNUR-kOhm",
        "colab": {
          "base_uri": "https://localhost:8080/"
        },
        "outputId": "04353981-1a99-4c6a-e76f-1580f49f3e7e"
      },
      "outputs": [
        {
          "output_type": "stream",
          "name": "stdout",
          "text": [
            "Mounted at /content/drive\n"
          ]
        }
      ],
      "source": [
        "from google.colab import drive\n",
        "drive.mount('/content/drive')"
      ]
    },
    {
      "cell_type": "code",
      "source": [
        "!mkdir /content/data"
      ],
      "metadata": {
        "id": "kxP1SbrFs1uN",
        "colab": {
          "base_uri": "https://localhost:8080/"
        },
        "outputId": "e03bd656-834a-4f0c-8501-fbff3a603524"
      },
      "execution_count": 12,
      "outputs": [
        {
          "output_type": "stream",
          "name": "stdout",
          "text": [
            "mkdir: cannot create directory ‘/content/data’: File exists\n"
          ]
        }
      ]
    },
    {
      "cell_type": "code",
      "source": [
        "!cp /content/drive/MyDrive/dataset/playground-series-s4e8_2.zip /content/data"
      ],
      "metadata": {
        "id": "OEVAVPV6kvFi"
      },
      "execution_count": 14,
      "outputs": []
    },
    {
      "cell_type": "code",
      "source": [
        "!unzip /content/data/playground-series-s4e8_2.zip -d /content/data"
      ],
      "metadata": {
        "id": "NcDDVmvQs7t-",
        "colab": {
          "base_uri": "https://localhost:8080/"
        },
        "outputId": "a25a68ab-fd12-4003-841e-8289efa80c73"
      },
      "execution_count": 15,
      "outputs": [
        {
          "output_type": "stream",
          "name": "stdout",
          "text": [
            "Archive:  /content/data/playground-series-s4e8_2.zip\n",
            "  inflating: /content/data/sample_submission.csv  \n",
            "  inflating: /content/data/test.csv  \n",
            "  inflating: /content/data/train.csv  \n"
          ]
        }
      ]
    },
    {
      "cell_type": "code",
      "source": [
        "# !rm /content/test.csv\n",
        "# !rm /content/train.csv\n",
        "# !rm /content/sample_submission.csv"
      ],
      "metadata": {
        "id": "BrctzKQttAm0"
      },
      "execution_count": 6,
      "outputs": []
    },
    {
      "cell_type": "markdown",
      "source": [
        "# **Import Library**"
      ],
      "metadata": {
        "id": "wZMvzMcl4Jfg"
      }
    },
    {
      "cell_type": "code",
      "source": [
        "import pandas as pd\n",
        "import numpy as np\n",
        "import matplotlib.pyplot as plt\n",
        "\n",
        "from sklearn.model_selection import train_test_split\n",
        "from sklearn.preprocessing import StandardScaler, LabelEncoder, OrdinalEncoder\n",
        "from sklearn.metrics import matthews_corrcoef\n",
        "import joblib  # For saving and loading the encoder"
      ],
      "metadata": {
        "id": "ux12uwaUtzC1"
      },
      "execution_count": 16,
      "outputs": []
    },
    {
      "cell_type": "code",
      "source": [
        "import torch\n",
        "import torch.nn as nn\n",
        "from torch.utils.data import TensorDataset, DataLoader"
      ],
      "metadata": {
        "id": "RKJri4_6u-bo"
      },
      "execution_count": 17,
      "outputs": []
    },
    {
      "cell_type": "code",
      "source": [
        "device = 'cuda' if torch.cuda.is_available() else 'cpu'\n",
        "device"
      ],
      "metadata": {
        "colab": {
          "base_uri": "https://localhost:8080/",
          "height": 36
        },
        "id": "yhp5K0_ATAOE",
        "outputId": "2c0c3062-3305-4dc9-9e7c-fc42842a1f58"
      },
      "execution_count": 18,
      "outputs": [
        {
          "output_type": "execute_result",
          "data": {
            "text/plain": [
              "'cuda'"
            ],
            "application/vnd.google.colaboratory.intrinsic+json": {
              "type": "string"
            }
          },
          "metadata": {},
          "execution_count": 18
        }
      ]
    },
    {
      "cell_type": "markdown",
      "source": [
        "# **Step1: Data**\n",
        "\n",
        "\n"
      ],
      "metadata": {
        "id": "NlvdkgJqxzgu"
      }
    },
    {
      "cell_type": "markdown",
      "source": [
        "## **Preprocessing**"
      ],
      "metadata": {
        "id": "sKsvCrKgyjci"
      }
    },
    {
      "cell_type": "markdown",
      "source": [
        "### *Load Train set*\n",
        "\n",
        "\n"
      ],
      "metadata": {
        "id": "eaLnBlsK2_Zc"
      }
    },
    {
      "cell_type": "code",
      "source": [
        "train_df= pd.read_csv('/content/data/train.csv')\n",
        "train_df= train_df.drop(columns=['id'])\n",
        "train_df"
      ],
      "metadata": {
        "id": "5i0hAaSQvTa3",
        "outputId": "5f294aae-a94b-4f6d-9f69-03966f6802dc",
        "colab": {
          "base_uri": "https://localhost:8080/",
          "height": 495
        }
      },
      "execution_count": 19,
      "outputs": [
        {
          "output_type": "execute_result",
          "data": {
            "text/plain": [
              "        class  cap-diameter cap-shape cap-surface cap-color  \\\n",
              "0           e          8.80         f           s         u   \n",
              "1           p          4.51         x           h         o   \n",
              "2           e          6.94         f           s         b   \n",
              "3           e          3.88         f           y         g   \n",
              "4           e          5.85         x           l         w   \n",
              "...       ...           ...       ...         ...       ...   \n",
              "3116940     e          9.29         f         NaN         n   \n",
              "3116941     e         10.88         s         NaN         w   \n",
              "3116942     p          7.82         x           e         e   \n",
              "3116943     e          9.45         p           i         n   \n",
              "3116944     p          3.20         x           s         g   \n",
              "\n",
              "        does-bruise-or-bleed gill-attachment gill-spacing gill-color  \\\n",
              "0                          f               a            c          w   \n",
              "1                          f               a            c          n   \n",
              "2                          f               x            c          w   \n",
              "3                          f               s          NaN          g   \n",
              "4                          f               d          NaN          w   \n",
              "...                      ...             ...          ...        ...   \n",
              "3116940                    t             NaN          NaN          w   \n",
              "3116941                    t               d            c          p   \n",
              "3116942                    f               a          NaN          w   \n",
              "3116943                    t               e          NaN          p   \n",
              "3116944                    f               d            c          w   \n",
              "\n",
              "         stem-height  ...  stem-root stem-surface stem-color veil-type  \\\n",
              "0               4.51  ...        NaN          NaN          w       NaN   \n",
              "1               4.79  ...        NaN            y          o       NaN   \n",
              "2               6.85  ...        NaN            s          n       NaN   \n",
              "3               4.16  ...        NaN          NaN          w       NaN   \n",
              "4               3.37  ...        NaN          NaN          w       NaN   \n",
              "...              ...  ...        ...          ...        ...       ...   \n",
              "3116940        12.14  ...          b          NaN          w         u   \n",
              "3116941         6.65  ...        NaN          NaN          w       NaN   \n",
              "3116942         9.51  ...        NaN          NaN          y       NaN   \n",
              "3116943         9.13  ...        NaN            y          w       NaN   \n",
              "3116944         2.82  ...        NaN          NaN          w       NaN   \n",
              "\n",
              "        veil-color has-ring ring-type spore-print-color habitat season  \n",
              "0              NaN        f         f               NaN       d      a  \n",
              "1              NaN        t         z               NaN       d      w  \n",
              "2              NaN        f         f               NaN       l      w  \n",
              "3              NaN        f         f               NaN       d      u  \n",
              "4              NaN        f         f               NaN       g      a  \n",
              "...            ...      ...       ...               ...     ...    ...  \n",
              "3116940          w        t         g               NaN       d      u  \n",
              "3116941        NaN        f         f               NaN       d      u  \n",
              "3116942          w        t         z               NaN       d      a  \n",
              "3116943        NaN        t         p               NaN       d      u  \n",
              "3116944        NaN        f         f               NaN       g      u  \n",
              "\n",
              "[3116945 rows x 21 columns]"
            ],
            "text/html": [
              "\n",
              "  <div id=\"df-d3da57e0-46b2-4d39-a1b9-bd18cb333a2d\" class=\"colab-df-container\">\n",
              "    <div>\n",
              "<style scoped>\n",
              "    .dataframe tbody tr th:only-of-type {\n",
              "        vertical-align: middle;\n",
              "    }\n",
              "\n",
              "    .dataframe tbody tr th {\n",
              "        vertical-align: top;\n",
              "    }\n",
              "\n",
              "    .dataframe thead th {\n",
              "        text-align: right;\n",
              "    }\n",
              "</style>\n",
              "<table border=\"1\" class=\"dataframe\">\n",
              "  <thead>\n",
              "    <tr style=\"text-align: right;\">\n",
              "      <th></th>\n",
              "      <th>class</th>\n",
              "      <th>cap-diameter</th>\n",
              "      <th>cap-shape</th>\n",
              "      <th>cap-surface</th>\n",
              "      <th>cap-color</th>\n",
              "      <th>does-bruise-or-bleed</th>\n",
              "      <th>gill-attachment</th>\n",
              "      <th>gill-spacing</th>\n",
              "      <th>gill-color</th>\n",
              "      <th>stem-height</th>\n",
              "      <th>...</th>\n",
              "      <th>stem-root</th>\n",
              "      <th>stem-surface</th>\n",
              "      <th>stem-color</th>\n",
              "      <th>veil-type</th>\n",
              "      <th>veil-color</th>\n",
              "      <th>has-ring</th>\n",
              "      <th>ring-type</th>\n",
              "      <th>spore-print-color</th>\n",
              "      <th>habitat</th>\n",
              "      <th>season</th>\n",
              "    </tr>\n",
              "  </thead>\n",
              "  <tbody>\n",
              "    <tr>\n",
              "      <th>0</th>\n",
              "      <td>e</td>\n",
              "      <td>8.80</td>\n",
              "      <td>f</td>\n",
              "      <td>s</td>\n",
              "      <td>u</td>\n",
              "      <td>f</td>\n",
              "      <td>a</td>\n",
              "      <td>c</td>\n",
              "      <td>w</td>\n",
              "      <td>4.51</td>\n",
              "      <td>...</td>\n",
              "      <td>NaN</td>\n",
              "      <td>NaN</td>\n",
              "      <td>w</td>\n",
              "      <td>NaN</td>\n",
              "      <td>NaN</td>\n",
              "      <td>f</td>\n",
              "      <td>f</td>\n",
              "      <td>NaN</td>\n",
              "      <td>d</td>\n",
              "      <td>a</td>\n",
              "    </tr>\n",
              "    <tr>\n",
              "      <th>1</th>\n",
              "      <td>p</td>\n",
              "      <td>4.51</td>\n",
              "      <td>x</td>\n",
              "      <td>h</td>\n",
              "      <td>o</td>\n",
              "      <td>f</td>\n",
              "      <td>a</td>\n",
              "      <td>c</td>\n",
              "      <td>n</td>\n",
              "      <td>4.79</td>\n",
              "      <td>...</td>\n",
              "      <td>NaN</td>\n",
              "      <td>y</td>\n",
              "      <td>o</td>\n",
              "      <td>NaN</td>\n",
              "      <td>NaN</td>\n",
              "      <td>t</td>\n",
              "      <td>z</td>\n",
              "      <td>NaN</td>\n",
              "      <td>d</td>\n",
              "      <td>w</td>\n",
              "    </tr>\n",
              "    <tr>\n",
              "      <th>2</th>\n",
              "      <td>e</td>\n",
              "      <td>6.94</td>\n",
              "      <td>f</td>\n",
              "      <td>s</td>\n",
              "      <td>b</td>\n",
              "      <td>f</td>\n",
              "      <td>x</td>\n",
              "      <td>c</td>\n",
              "      <td>w</td>\n",
              "      <td>6.85</td>\n",
              "      <td>...</td>\n",
              "      <td>NaN</td>\n",
              "      <td>s</td>\n",
              "      <td>n</td>\n",
              "      <td>NaN</td>\n",
              "      <td>NaN</td>\n",
              "      <td>f</td>\n",
              "      <td>f</td>\n",
              "      <td>NaN</td>\n",
              "      <td>l</td>\n",
              "      <td>w</td>\n",
              "    </tr>\n",
              "    <tr>\n",
              "      <th>3</th>\n",
              "      <td>e</td>\n",
              "      <td>3.88</td>\n",
              "      <td>f</td>\n",
              "      <td>y</td>\n",
              "      <td>g</td>\n",
              "      <td>f</td>\n",
              "      <td>s</td>\n",
              "      <td>NaN</td>\n",
              "      <td>g</td>\n",
              "      <td>4.16</td>\n",
              "      <td>...</td>\n",
              "      <td>NaN</td>\n",
              "      <td>NaN</td>\n",
              "      <td>w</td>\n",
              "      <td>NaN</td>\n",
              "      <td>NaN</td>\n",
              "      <td>f</td>\n",
              "      <td>f</td>\n",
              "      <td>NaN</td>\n",
              "      <td>d</td>\n",
              "      <td>u</td>\n",
              "    </tr>\n",
              "    <tr>\n",
              "      <th>4</th>\n",
              "      <td>e</td>\n",
              "      <td>5.85</td>\n",
              "      <td>x</td>\n",
              "      <td>l</td>\n",
              "      <td>w</td>\n",
              "      <td>f</td>\n",
              "      <td>d</td>\n",
              "      <td>NaN</td>\n",
              "      <td>w</td>\n",
              "      <td>3.37</td>\n",
              "      <td>...</td>\n",
              "      <td>NaN</td>\n",
              "      <td>NaN</td>\n",
              "      <td>w</td>\n",
              "      <td>NaN</td>\n",
              "      <td>NaN</td>\n",
              "      <td>f</td>\n",
              "      <td>f</td>\n",
              "      <td>NaN</td>\n",
              "      <td>g</td>\n",
              "      <td>a</td>\n",
              "    </tr>\n",
              "    <tr>\n",
              "      <th>...</th>\n",
              "      <td>...</td>\n",
              "      <td>...</td>\n",
              "      <td>...</td>\n",
              "      <td>...</td>\n",
              "      <td>...</td>\n",
              "      <td>...</td>\n",
              "      <td>...</td>\n",
              "      <td>...</td>\n",
              "      <td>...</td>\n",
              "      <td>...</td>\n",
              "      <td>...</td>\n",
              "      <td>...</td>\n",
              "      <td>...</td>\n",
              "      <td>...</td>\n",
              "      <td>...</td>\n",
              "      <td>...</td>\n",
              "      <td>...</td>\n",
              "      <td>...</td>\n",
              "      <td>...</td>\n",
              "      <td>...</td>\n",
              "      <td>...</td>\n",
              "    </tr>\n",
              "    <tr>\n",
              "      <th>3116940</th>\n",
              "      <td>e</td>\n",
              "      <td>9.29</td>\n",
              "      <td>f</td>\n",
              "      <td>NaN</td>\n",
              "      <td>n</td>\n",
              "      <td>t</td>\n",
              "      <td>NaN</td>\n",
              "      <td>NaN</td>\n",
              "      <td>w</td>\n",
              "      <td>12.14</td>\n",
              "      <td>...</td>\n",
              "      <td>b</td>\n",
              "      <td>NaN</td>\n",
              "      <td>w</td>\n",
              "      <td>u</td>\n",
              "      <td>w</td>\n",
              "      <td>t</td>\n",
              "      <td>g</td>\n",
              "      <td>NaN</td>\n",
              "      <td>d</td>\n",
              "      <td>u</td>\n",
              "    </tr>\n",
              "    <tr>\n",
              "      <th>3116941</th>\n",
              "      <td>e</td>\n",
              "      <td>10.88</td>\n",
              "      <td>s</td>\n",
              "      <td>NaN</td>\n",
              "      <td>w</td>\n",
              "      <td>t</td>\n",
              "      <td>d</td>\n",
              "      <td>c</td>\n",
              "      <td>p</td>\n",
              "      <td>6.65</td>\n",
              "      <td>...</td>\n",
              "      <td>NaN</td>\n",
              "      <td>NaN</td>\n",
              "      <td>w</td>\n",
              "      <td>NaN</td>\n",
              "      <td>NaN</td>\n",
              "      <td>f</td>\n",
              "      <td>f</td>\n",
              "      <td>NaN</td>\n",
              "      <td>d</td>\n",
              "      <td>u</td>\n",
              "    </tr>\n",
              "    <tr>\n",
              "      <th>3116942</th>\n",
              "      <td>p</td>\n",
              "      <td>7.82</td>\n",
              "      <td>x</td>\n",
              "      <td>e</td>\n",
              "      <td>e</td>\n",
              "      <td>f</td>\n",
              "      <td>a</td>\n",
              "      <td>NaN</td>\n",
              "      <td>w</td>\n",
              "      <td>9.51</td>\n",
              "      <td>...</td>\n",
              "      <td>NaN</td>\n",
              "      <td>NaN</td>\n",
              "      <td>y</td>\n",
              "      <td>NaN</td>\n",
              "      <td>w</td>\n",
              "      <td>t</td>\n",
              "      <td>z</td>\n",
              "      <td>NaN</td>\n",
              "      <td>d</td>\n",
              "      <td>a</td>\n",
              "    </tr>\n",
              "    <tr>\n",
              "      <th>3116943</th>\n",
              "      <td>e</td>\n",
              "      <td>9.45</td>\n",
              "      <td>p</td>\n",
              "      <td>i</td>\n",
              "      <td>n</td>\n",
              "      <td>t</td>\n",
              "      <td>e</td>\n",
              "      <td>NaN</td>\n",
              "      <td>p</td>\n",
              "      <td>9.13</td>\n",
              "      <td>...</td>\n",
              "      <td>NaN</td>\n",
              "      <td>y</td>\n",
              "      <td>w</td>\n",
              "      <td>NaN</td>\n",
              "      <td>NaN</td>\n",
              "      <td>t</td>\n",
              "      <td>p</td>\n",
              "      <td>NaN</td>\n",
              "      <td>d</td>\n",
              "      <td>u</td>\n",
              "    </tr>\n",
              "    <tr>\n",
              "      <th>3116944</th>\n",
              "      <td>p</td>\n",
              "      <td>3.20</td>\n",
              "      <td>x</td>\n",
              "      <td>s</td>\n",
              "      <td>g</td>\n",
              "      <td>f</td>\n",
              "      <td>d</td>\n",
              "      <td>c</td>\n",
              "      <td>w</td>\n",
              "      <td>2.82</td>\n",
              "      <td>...</td>\n",
              "      <td>NaN</td>\n",
              "      <td>NaN</td>\n",
              "      <td>w</td>\n",
              "      <td>NaN</td>\n",
              "      <td>NaN</td>\n",
              "      <td>f</td>\n",
              "      <td>f</td>\n",
              "      <td>NaN</td>\n",
              "      <td>g</td>\n",
              "      <td>u</td>\n",
              "    </tr>\n",
              "  </tbody>\n",
              "</table>\n",
              "<p>3116945 rows × 21 columns</p>\n",
              "</div>\n",
              "    <div class=\"colab-df-buttons\">\n",
              "\n",
              "  <div class=\"colab-df-container\">\n",
              "    <button class=\"colab-df-convert\" onclick=\"convertToInteractive('df-d3da57e0-46b2-4d39-a1b9-bd18cb333a2d')\"\n",
              "            title=\"Convert this dataframe to an interactive table.\"\n",
              "            style=\"display:none;\">\n",
              "\n",
              "  <svg xmlns=\"http://www.w3.org/2000/svg\" height=\"24px\" viewBox=\"0 -960 960 960\">\n",
              "    <path d=\"M120-120v-720h720v720H120Zm60-500h600v-160H180v160Zm220 220h160v-160H400v160Zm0 220h160v-160H400v160ZM180-400h160v-160H180v160Zm440 0h160v-160H620v160ZM180-180h160v-160H180v160Zm440 0h160v-160H620v160Z\"/>\n",
              "  </svg>\n",
              "    </button>\n",
              "\n",
              "  <style>\n",
              "    .colab-df-container {\n",
              "      display:flex;\n",
              "      gap: 12px;\n",
              "    }\n",
              "\n",
              "    .colab-df-convert {\n",
              "      background-color: #E8F0FE;\n",
              "      border: none;\n",
              "      border-radius: 50%;\n",
              "      cursor: pointer;\n",
              "      display: none;\n",
              "      fill: #1967D2;\n",
              "      height: 32px;\n",
              "      padding: 0 0 0 0;\n",
              "      width: 32px;\n",
              "    }\n",
              "\n",
              "    .colab-df-convert:hover {\n",
              "      background-color: #E2EBFA;\n",
              "      box-shadow: 0px 1px 2px rgba(60, 64, 67, 0.3), 0px 1px 3px 1px rgba(60, 64, 67, 0.15);\n",
              "      fill: #174EA6;\n",
              "    }\n",
              "\n",
              "    .colab-df-buttons div {\n",
              "      margin-bottom: 4px;\n",
              "    }\n",
              "\n",
              "    [theme=dark] .colab-df-convert {\n",
              "      background-color: #3B4455;\n",
              "      fill: #D2E3FC;\n",
              "    }\n",
              "\n",
              "    [theme=dark] .colab-df-convert:hover {\n",
              "      background-color: #434B5C;\n",
              "      box-shadow: 0px 1px 3px 1px rgba(0, 0, 0, 0.15);\n",
              "      filter: drop-shadow(0px 1px 2px rgba(0, 0, 0, 0.3));\n",
              "      fill: #FFFFFF;\n",
              "    }\n",
              "  </style>\n",
              "\n",
              "    <script>\n",
              "      const buttonEl =\n",
              "        document.querySelector('#df-d3da57e0-46b2-4d39-a1b9-bd18cb333a2d button.colab-df-convert');\n",
              "      buttonEl.style.display =\n",
              "        google.colab.kernel.accessAllowed ? 'block' : 'none';\n",
              "\n",
              "      async function convertToInteractive(key) {\n",
              "        const element = document.querySelector('#df-d3da57e0-46b2-4d39-a1b9-bd18cb333a2d');\n",
              "        const dataTable =\n",
              "          await google.colab.kernel.invokeFunction('convertToInteractive',\n",
              "                                                    [key], {});\n",
              "        if (!dataTable) return;\n",
              "\n",
              "        const docLinkHtml = 'Like what you see? Visit the ' +\n",
              "          '<a target=\"_blank\" href=https://colab.research.google.com/notebooks/data_table.ipynb>data table notebook</a>'\n",
              "          + ' to learn more about interactive tables.';\n",
              "        element.innerHTML = '';\n",
              "        dataTable['output_type'] = 'display_data';\n",
              "        await google.colab.output.renderOutput(dataTable, element);\n",
              "        const docLink = document.createElement('div');\n",
              "        docLink.innerHTML = docLinkHtml;\n",
              "        element.appendChild(docLink);\n",
              "      }\n",
              "    </script>\n",
              "  </div>\n",
              "\n",
              "\n",
              "<div id=\"df-27c37cc9-3102-4628-92bd-a4ea2727a642\">\n",
              "  <button class=\"colab-df-quickchart\" onclick=\"quickchart('df-27c37cc9-3102-4628-92bd-a4ea2727a642')\"\n",
              "            title=\"Suggest charts\"\n",
              "            style=\"display:none;\">\n",
              "\n",
              "<svg xmlns=\"http://www.w3.org/2000/svg\" height=\"24px\"viewBox=\"0 0 24 24\"\n",
              "     width=\"24px\">\n",
              "    <g>\n",
              "        <path d=\"M19 3H5c-1.1 0-2 .9-2 2v14c0 1.1.9 2 2 2h14c1.1 0 2-.9 2-2V5c0-1.1-.9-2-2-2zM9 17H7v-7h2v7zm4 0h-2V7h2v10zm4 0h-2v-4h2v4z\"/>\n",
              "    </g>\n",
              "</svg>\n",
              "  </button>\n",
              "\n",
              "<style>\n",
              "  .colab-df-quickchart {\n",
              "      --bg-color: #E8F0FE;\n",
              "      --fill-color: #1967D2;\n",
              "      --hover-bg-color: #E2EBFA;\n",
              "      --hover-fill-color: #174EA6;\n",
              "      --disabled-fill-color: #AAA;\n",
              "      --disabled-bg-color: #DDD;\n",
              "  }\n",
              "\n",
              "  [theme=dark] .colab-df-quickchart {\n",
              "      --bg-color: #3B4455;\n",
              "      --fill-color: #D2E3FC;\n",
              "      --hover-bg-color: #434B5C;\n",
              "      --hover-fill-color: #FFFFFF;\n",
              "      --disabled-bg-color: #3B4455;\n",
              "      --disabled-fill-color: #666;\n",
              "  }\n",
              "\n",
              "  .colab-df-quickchart {\n",
              "    background-color: var(--bg-color);\n",
              "    border: none;\n",
              "    border-radius: 50%;\n",
              "    cursor: pointer;\n",
              "    display: none;\n",
              "    fill: var(--fill-color);\n",
              "    height: 32px;\n",
              "    padding: 0;\n",
              "    width: 32px;\n",
              "  }\n",
              "\n",
              "  .colab-df-quickchart:hover {\n",
              "    background-color: var(--hover-bg-color);\n",
              "    box-shadow: 0 1px 2px rgba(60, 64, 67, 0.3), 0 1px 3px 1px rgba(60, 64, 67, 0.15);\n",
              "    fill: var(--button-hover-fill-color);\n",
              "  }\n",
              "\n",
              "  .colab-df-quickchart-complete:disabled,\n",
              "  .colab-df-quickchart-complete:disabled:hover {\n",
              "    background-color: var(--disabled-bg-color);\n",
              "    fill: var(--disabled-fill-color);\n",
              "    box-shadow: none;\n",
              "  }\n",
              "\n",
              "  .colab-df-spinner {\n",
              "    border: 2px solid var(--fill-color);\n",
              "    border-color: transparent;\n",
              "    border-bottom-color: var(--fill-color);\n",
              "    animation:\n",
              "      spin 1s steps(1) infinite;\n",
              "  }\n",
              "\n",
              "  @keyframes spin {\n",
              "    0% {\n",
              "      border-color: transparent;\n",
              "      border-bottom-color: var(--fill-color);\n",
              "      border-left-color: var(--fill-color);\n",
              "    }\n",
              "    20% {\n",
              "      border-color: transparent;\n",
              "      border-left-color: var(--fill-color);\n",
              "      border-top-color: var(--fill-color);\n",
              "    }\n",
              "    30% {\n",
              "      border-color: transparent;\n",
              "      border-left-color: var(--fill-color);\n",
              "      border-top-color: var(--fill-color);\n",
              "      border-right-color: var(--fill-color);\n",
              "    }\n",
              "    40% {\n",
              "      border-color: transparent;\n",
              "      border-right-color: var(--fill-color);\n",
              "      border-top-color: var(--fill-color);\n",
              "    }\n",
              "    60% {\n",
              "      border-color: transparent;\n",
              "      border-right-color: var(--fill-color);\n",
              "    }\n",
              "    80% {\n",
              "      border-color: transparent;\n",
              "      border-right-color: var(--fill-color);\n",
              "      border-bottom-color: var(--fill-color);\n",
              "    }\n",
              "    90% {\n",
              "      border-color: transparent;\n",
              "      border-bottom-color: var(--fill-color);\n",
              "    }\n",
              "  }\n",
              "</style>\n",
              "\n",
              "  <script>\n",
              "    async function quickchart(key) {\n",
              "      const quickchartButtonEl =\n",
              "        document.querySelector('#' + key + ' button');\n",
              "      quickchartButtonEl.disabled = true;  // To prevent multiple clicks.\n",
              "      quickchartButtonEl.classList.add('colab-df-spinner');\n",
              "      try {\n",
              "        const charts = await google.colab.kernel.invokeFunction(\n",
              "            'suggestCharts', [key], {});\n",
              "      } catch (error) {\n",
              "        console.error('Error during call to suggestCharts:', error);\n",
              "      }\n",
              "      quickchartButtonEl.classList.remove('colab-df-spinner');\n",
              "      quickchartButtonEl.classList.add('colab-df-quickchart-complete');\n",
              "    }\n",
              "    (() => {\n",
              "      let quickchartButtonEl =\n",
              "        document.querySelector('#df-27c37cc9-3102-4628-92bd-a4ea2727a642 button');\n",
              "      quickchartButtonEl.style.display =\n",
              "        google.colab.kernel.accessAllowed ? 'block' : 'none';\n",
              "    })();\n",
              "  </script>\n",
              "</div>\n",
              "    </div>\n",
              "  </div>\n"
            ],
            "application/vnd.google.colaboratory.intrinsic+json": {
              "type": "dataframe",
              "variable_name": "train_df"
            }
          },
          "metadata": {},
          "execution_count": 19
        }
      ]
    },
    {
      "cell_type": "code",
      "source": [
        "test_df= pd.read_csv('/content/data/test.csv')\n",
        "test_df= test_df.drop(columns=['id'])\n",
        "test_df.insert(0, 'class', 'z')\n",
        "test_df.info()"
      ],
      "metadata": {
        "colab": {
          "base_uri": "https://localhost:8080/"
        },
        "id": "s-puDMshbVvE",
        "outputId": "e0c127d0-3f15-40be-984e-44677232d6e1"
      },
      "execution_count": 20,
      "outputs": [
        {
          "output_type": "stream",
          "name": "stdout",
          "text": [
            "<class 'pandas.core.frame.DataFrame'>\n",
            "RangeIndex: 2077964 entries, 0 to 2077963\n",
            "Data columns (total 21 columns):\n",
            " #   Column                Dtype  \n",
            "---  ------                -----  \n",
            " 0   class                 object \n",
            " 1   cap-diameter          float64\n",
            " 2   cap-shape             object \n",
            " 3   cap-surface           object \n",
            " 4   cap-color             object \n",
            " 5   does-bruise-or-bleed  object \n",
            " 6   gill-attachment       object \n",
            " 7   gill-spacing          object \n",
            " 8   gill-color            object \n",
            " 9   stem-height           float64\n",
            " 10  stem-width            float64\n",
            " 11  stem-root             object \n",
            " 12  stem-surface          object \n",
            " 13  stem-color            object \n",
            " 14  veil-type             object \n",
            " 15  veil-color            object \n",
            " 16  has-ring              object \n",
            " 17  ring-type             object \n",
            " 18  spore-print-color     object \n",
            " 19  habitat               object \n",
            " 20  season                object \n",
            "dtypes: float64(3), object(18)\n",
            "memory usage: 332.9+ MB\n"
          ]
        }
      ]
    },
    {
      "cell_type": "code",
      "source": [
        "test_df.info()"
      ],
      "metadata": {
        "colab": {
          "base_uri": "https://localhost:8080/"
        },
        "id": "kbig6NBBt3uZ",
        "outputId": "b3dc46f8-cdc8-4df4-a8f2-dad6c684f65a"
      },
      "execution_count": 21,
      "outputs": [
        {
          "output_type": "stream",
          "name": "stdout",
          "text": [
            "<class 'pandas.core.frame.DataFrame'>\n",
            "RangeIndex: 2077964 entries, 0 to 2077963\n",
            "Data columns (total 21 columns):\n",
            " #   Column                Dtype  \n",
            "---  ------                -----  \n",
            " 0   class                 object \n",
            " 1   cap-diameter          float64\n",
            " 2   cap-shape             object \n",
            " 3   cap-surface           object \n",
            " 4   cap-color             object \n",
            " 5   does-bruise-or-bleed  object \n",
            " 6   gill-attachment       object \n",
            " 7   gill-spacing          object \n",
            " 8   gill-color            object \n",
            " 9   stem-height           float64\n",
            " 10  stem-width            float64\n",
            " 11  stem-root             object \n",
            " 12  stem-surface          object \n",
            " 13  stem-color            object \n",
            " 14  veil-type             object \n",
            " 15  veil-color            object \n",
            " 16  has-ring              object \n",
            " 17  ring-type             object \n",
            " 18  spore-print-color     object \n",
            " 19  habitat               object \n",
            " 20  season                object \n",
            "dtypes: float64(3), object(18)\n",
            "memory usage: 332.9+ MB\n"
          ]
        }
      ]
    },
    {
      "cell_type": "markdown",
      "source": [
        "### *NaN*"
      ],
      "metadata": {
        "id": "TGds_O8X3Wxo"
      }
    },
    {
      "cell_type": "code",
      "source": [
        "train_df.isna().mean()"
      ],
      "metadata": {
        "id": "doVv4vGXvqc-",
        "outputId": "84639723-93e7-4aaa-c0b4-4563d666ee30",
        "colab": {
          "base_uri": "https://localhost:8080/",
          "height": 742
        }
      },
      "execution_count": 22,
      "outputs": [
        {
          "output_type": "execute_result",
          "data": {
            "text/plain": [
              "class                   0.000000\n",
              "cap-diameter            0.000001\n",
              "cap-shape               0.000013\n",
              "cap-surface             0.215282\n",
              "cap-color               0.000004\n",
              "does-bruise-or-bleed    0.000003\n",
              "gill-attachment         0.168093\n",
              "gill-spacing            0.403740\n",
              "gill-color              0.000018\n",
              "stem-height             0.000000\n",
              "stem-width              0.000000\n",
              "stem-root               0.884527\n",
              "stem-surface            0.635514\n",
              "stem-color              0.000012\n",
              "veil-type               0.948843\n",
              "veil-color              0.879370\n",
              "has-ring                0.000008\n",
              "ring-type               0.041348\n",
              "spore-print-color       0.914255\n",
              "habitat                 0.000014\n",
              "season                  0.000000\n",
              "dtype: float64"
            ],
            "text/html": [
              "<div>\n",
              "<style scoped>\n",
              "    .dataframe tbody tr th:only-of-type {\n",
              "        vertical-align: middle;\n",
              "    }\n",
              "\n",
              "    .dataframe tbody tr th {\n",
              "        vertical-align: top;\n",
              "    }\n",
              "\n",
              "    .dataframe thead th {\n",
              "        text-align: right;\n",
              "    }\n",
              "</style>\n",
              "<table border=\"1\" class=\"dataframe\">\n",
              "  <thead>\n",
              "    <tr style=\"text-align: right;\">\n",
              "      <th></th>\n",
              "      <th>0</th>\n",
              "    </tr>\n",
              "  </thead>\n",
              "  <tbody>\n",
              "    <tr>\n",
              "      <th>class</th>\n",
              "      <td>0.000000</td>\n",
              "    </tr>\n",
              "    <tr>\n",
              "      <th>cap-diameter</th>\n",
              "      <td>0.000001</td>\n",
              "    </tr>\n",
              "    <tr>\n",
              "      <th>cap-shape</th>\n",
              "      <td>0.000013</td>\n",
              "    </tr>\n",
              "    <tr>\n",
              "      <th>cap-surface</th>\n",
              "      <td>0.215282</td>\n",
              "    </tr>\n",
              "    <tr>\n",
              "      <th>cap-color</th>\n",
              "      <td>0.000004</td>\n",
              "    </tr>\n",
              "    <tr>\n",
              "      <th>does-bruise-or-bleed</th>\n",
              "      <td>0.000003</td>\n",
              "    </tr>\n",
              "    <tr>\n",
              "      <th>gill-attachment</th>\n",
              "      <td>0.168093</td>\n",
              "    </tr>\n",
              "    <tr>\n",
              "      <th>gill-spacing</th>\n",
              "      <td>0.403740</td>\n",
              "    </tr>\n",
              "    <tr>\n",
              "      <th>gill-color</th>\n",
              "      <td>0.000018</td>\n",
              "    </tr>\n",
              "    <tr>\n",
              "      <th>stem-height</th>\n",
              "      <td>0.000000</td>\n",
              "    </tr>\n",
              "    <tr>\n",
              "      <th>stem-width</th>\n",
              "      <td>0.000000</td>\n",
              "    </tr>\n",
              "    <tr>\n",
              "      <th>stem-root</th>\n",
              "      <td>0.884527</td>\n",
              "    </tr>\n",
              "    <tr>\n",
              "      <th>stem-surface</th>\n",
              "      <td>0.635514</td>\n",
              "    </tr>\n",
              "    <tr>\n",
              "      <th>stem-color</th>\n",
              "      <td>0.000012</td>\n",
              "    </tr>\n",
              "    <tr>\n",
              "      <th>veil-type</th>\n",
              "      <td>0.948843</td>\n",
              "    </tr>\n",
              "    <tr>\n",
              "      <th>veil-color</th>\n",
              "      <td>0.879370</td>\n",
              "    </tr>\n",
              "    <tr>\n",
              "      <th>has-ring</th>\n",
              "      <td>0.000008</td>\n",
              "    </tr>\n",
              "    <tr>\n",
              "      <th>ring-type</th>\n",
              "      <td>0.041348</td>\n",
              "    </tr>\n",
              "    <tr>\n",
              "      <th>spore-print-color</th>\n",
              "      <td>0.914255</td>\n",
              "    </tr>\n",
              "    <tr>\n",
              "      <th>habitat</th>\n",
              "      <td>0.000014</td>\n",
              "    </tr>\n",
              "    <tr>\n",
              "      <th>season</th>\n",
              "      <td>0.000000</td>\n",
              "    </tr>\n",
              "  </tbody>\n",
              "</table>\n",
              "</div><br><label><b>dtype:</b> float64</label>"
            ]
          },
          "metadata": {},
          "execution_count": 22
        }
      ]
    },
    {
      "cell_type": "code",
      "source": [
        "test_df.isna().mean()"
      ],
      "metadata": {
        "colab": {
          "base_uri": "https://localhost:8080/",
          "height": 742
        },
        "id": "y0M2Kji3bN-V",
        "outputId": "4025dda8-a98d-4f0e-d6e6-071e261bdeaf"
      },
      "execution_count": 23,
      "outputs": [
        {
          "output_type": "execute_result",
          "data": {
            "text/plain": [
              "class                   0.000000e+00\n",
              "cap-diameter            3.368682e-06\n",
              "cap-shape               1.491845e-05\n",
              "cap-surface             2.150682e-01\n",
              "cap-color               6.256124e-06\n",
              "does-bruise-or-bleed    4.812403e-06\n",
              "gill-attachment         1.683480e-01\n",
              "gill-spacing            4.040469e-01\n",
              "gill-color              2.358077e-05\n",
              "stem-height             4.812403e-07\n",
              "stem-width              0.000000e+00\n",
              "stem-root               8.845254e-01\n",
              "stem-surface            6.359533e-01\n",
              "stem-color              1.010605e-05\n",
              "veil-type               9.487869e-01\n",
              "veil-color              8.788044e-01\n",
              "has-ring                9.143566e-06\n",
              "ring-type               4.148051e-02\n",
              "spore-print-color       9.141722e-01\n",
              "habitat                 1.203101e-05\n",
              "season                  0.000000e+00\n",
              "dtype: float64"
            ],
            "text/html": [
              "<div>\n",
              "<style scoped>\n",
              "    .dataframe tbody tr th:only-of-type {\n",
              "        vertical-align: middle;\n",
              "    }\n",
              "\n",
              "    .dataframe tbody tr th {\n",
              "        vertical-align: top;\n",
              "    }\n",
              "\n",
              "    .dataframe thead th {\n",
              "        text-align: right;\n",
              "    }\n",
              "</style>\n",
              "<table border=\"1\" class=\"dataframe\">\n",
              "  <thead>\n",
              "    <tr style=\"text-align: right;\">\n",
              "      <th></th>\n",
              "      <th>0</th>\n",
              "    </tr>\n",
              "  </thead>\n",
              "  <tbody>\n",
              "    <tr>\n",
              "      <th>class</th>\n",
              "      <td>0.000000e+00</td>\n",
              "    </tr>\n",
              "    <tr>\n",
              "      <th>cap-diameter</th>\n",
              "      <td>3.368682e-06</td>\n",
              "    </tr>\n",
              "    <tr>\n",
              "      <th>cap-shape</th>\n",
              "      <td>1.491845e-05</td>\n",
              "    </tr>\n",
              "    <tr>\n",
              "      <th>cap-surface</th>\n",
              "      <td>2.150682e-01</td>\n",
              "    </tr>\n",
              "    <tr>\n",
              "      <th>cap-color</th>\n",
              "      <td>6.256124e-06</td>\n",
              "    </tr>\n",
              "    <tr>\n",
              "      <th>does-bruise-or-bleed</th>\n",
              "      <td>4.812403e-06</td>\n",
              "    </tr>\n",
              "    <tr>\n",
              "      <th>gill-attachment</th>\n",
              "      <td>1.683480e-01</td>\n",
              "    </tr>\n",
              "    <tr>\n",
              "      <th>gill-spacing</th>\n",
              "      <td>4.040469e-01</td>\n",
              "    </tr>\n",
              "    <tr>\n",
              "      <th>gill-color</th>\n",
              "      <td>2.358077e-05</td>\n",
              "    </tr>\n",
              "    <tr>\n",
              "      <th>stem-height</th>\n",
              "      <td>4.812403e-07</td>\n",
              "    </tr>\n",
              "    <tr>\n",
              "      <th>stem-width</th>\n",
              "      <td>0.000000e+00</td>\n",
              "    </tr>\n",
              "    <tr>\n",
              "      <th>stem-root</th>\n",
              "      <td>8.845254e-01</td>\n",
              "    </tr>\n",
              "    <tr>\n",
              "      <th>stem-surface</th>\n",
              "      <td>6.359533e-01</td>\n",
              "    </tr>\n",
              "    <tr>\n",
              "      <th>stem-color</th>\n",
              "      <td>1.010605e-05</td>\n",
              "    </tr>\n",
              "    <tr>\n",
              "      <th>veil-type</th>\n",
              "      <td>9.487869e-01</td>\n",
              "    </tr>\n",
              "    <tr>\n",
              "      <th>veil-color</th>\n",
              "      <td>8.788044e-01</td>\n",
              "    </tr>\n",
              "    <tr>\n",
              "      <th>has-ring</th>\n",
              "      <td>9.143566e-06</td>\n",
              "    </tr>\n",
              "    <tr>\n",
              "      <th>ring-type</th>\n",
              "      <td>4.148051e-02</td>\n",
              "    </tr>\n",
              "    <tr>\n",
              "      <th>spore-print-color</th>\n",
              "      <td>9.141722e-01</td>\n",
              "    </tr>\n",
              "    <tr>\n",
              "      <th>habitat</th>\n",
              "      <td>1.203101e-05</td>\n",
              "    </tr>\n",
              "    <tr>\n",
              "      <th>season</th>\n",
              "      <td>0.000000e+00</td>\n",
              "    </tr>\n",
              "  </tbody>\n",
              "</table>\n",
              "</div><br><label><b>dtype:</b> float64</label>"
            ]
          },
          "metadata": {},
          "execution_count": 23
        }
      ]
    },
    {
      "cell_type": "code",
      "source": [
        "missing_threshold= 0.85\n",
        "\n",
        "high_missing_train_columns= train_df.columns[train_df.isna().mean() > missing_threshold]\n",
        "high_missing_train_columns\n",
        "\n",
        "train_df= train_df.drop(columns= high_missing_train_columns)\n",
        "train_df.head()"
      ],
      "metadata": {
        "id": "Fv0NuuIBvvvm",
        "outputId": "3414195d-6708-4167-ad3f-8ad19191cf0b",
        "colab": {
          "base_uri": "https://localhost:8080/",
          "height": 278
        }
      },
      "execution_count": 24,
      "outputs": [
        {
          "output_type": "execute_result",
          "data": {
            "text/plain": [
              "  class  cap-diameter cap-shape cap-surface cap-color does-bruise-or-bleed  \\\n",
              "0     e          8.80         f           s         u                    f   \n",
              "1     p          4.51         x           h         o                    f   \n",
              "2     e          6.94         f           s         b                    f   \n",
              "3     e          3.88         f           y         g                    f   \n",
              "4     e          5.85         x           l         w                    f   \n",
              "\n",
              "  gill-attachment gill-spacing gill-color  stem-height  stem-width  \\\n",
              "0               a            c          w         4.51       15.39   \n",
              "1               a            c          n         4.79        6.48   \n",
              "2               x            c          w         6.85        9.93   \n",
              "3               s          NaN          g         4.16        6.53   \n",
              "4               d          NaN          w         3.37        8.36   \n",
              "\n",
              "  stem-surface stem-color has-ring ring-type habitat season  \n",
              "0          NaN          w        f         f       d      a  \n",
              "1            y          o        t         z       d      w  \n",
              "2            s          n        f         f       l      w  \n",
              "3          NaN          w        f         f       d      u  \n",
              "4          NaN          w        f         f       g      a  "
            ],
            "text/html": [
              "\n",
              "  <div id=\"df-5db4dfcd-3637-4534-8526-4cb95fbcdbcc\" class=\"colab-df-container\">\n",
              "    <div>\n",
              "<style scoped>\n",
              "    .dataframe tbody tr th:only-of-type {\n",
              "        vertical-align: middle;\n",
              "    }\n",
              "\n",
              "    .dataframe tbody tr th {\n",
              "        vertical-align: top;\n",
              "    }\n",
              "\n",
              "    .dataframe thead th {\n",
              "        text-align: right;\n",
              "    }\n",
              "</style>\n",
              "<table border=\"1\" class=\"dataframe\">\n",
              "  <thead>\n",
              "    <tr style=\"text-align: right;\">\n",
              "      <th></th>\n",
              "      <th>class</th>\n",
              "      <th>cap-diameter</th>\n",
              "      <th>cap-shape</th>\n",
              "      <th>cap-surface</th>\n",
              "      <th>cap-color</th>\n",
              "      <th>does-bruise-or-bleed</th>\n",
              "      <th>gill-attachment</th>\n",
              "      <th>gill-spacing</th>\n",
              "      <th>gill-color</th>\n",
              "      <th>stem-height</th>\n",
              "      <th>stem-width</th>\n",
              "      <th>stem-surface</th>\n",
              "      <th>stem-color</th>\n",
              "      <th>has-ring</th>\n",
              "      <th>ring-type</th>\n",
              "      <th>habitat</th>\n",
              "      <th>season</th>\n",
              "    </tr>\n",
              "  </thead>\n",
              "  <tbody>\n",
              "    <tr>\n",
              "      <th>0</th>\n",
              "      <td>e</td>\n",
              "      <td>8.80</td>\n",
              "      <td>f</td>\n",
              "      <td>s</td>\n",
              "      <td>u</td>\n",
              "      <td>f</td>\n",
              "      <td>a</td>\n",
              "      <td>c</td>\n",
              "      <td>w</td>\n",
              "      <td>4.51</td>\n",
              "      <td>15.39</td>\n",
              "      <td>NaN</td>\n",
              "      <td>w</td>\n",
              "      <td>f</td>\n",
              "      <td>f</td>\n",
              "      <td>d</td>\n",
              "      <td>a</td>\n",
              "    </tr>\n",
              "    <tr>\n",
              "      <th>1</th>\n",
              "      <td>p</td>\n",
              "      <td>4.51</td>\n",
              "      <td>x</td>\n",
              "      <td>h</td>\n",
              "      <td>o</td>\n",
              "      <td>f</td>\n",
              "      <td>a</td>\n",
              "      <td>c</td>\n",
              "      <td>n</td>\n",
              "      <td>4.79</td>\n",
              "      <td>6.48</td>\n",
              "      <td>y</td>\n",
              "      <td>o</td>\n",
              "      <td>t</td>\n",
              "      <td>z</td>\n",
              "      <td>d</td>\n",
              "      <td>w</td>\n",
              "    </tr>\n",
              "    <tr>\n",
              "      <th>2</th>\n",
              "      <td>e</td>\n",
              "      <td>6.94</td>\n",
              "      <td>f</td>\n",
              "      <td>s</td>\n",
              "      <td>b</td>\n",
              "      <td>f</td>\n",
              "      <td>x</td>\n",
              "      <td>c</td>\n",
              "      <td>w</td>\n",
              "      <td>6.85</td>\n",
              "      <td>9.93</td>\n",
              "      <td>s</td>\n",
              "      <td>n</td>\n",
              "      <td>f</td>\n",
              "      <td>f</td>\n",
              "      <td>l</td>\n",
              "      <td>w</td>\n",
              "    </tr>\n",
              "    <tr>\n",
              "      <th>3</th>\n",
              "      <td>e</td>\n",
              "      <td>3.88</td>\n",
              "      <td>f</td>\n",
              "      <td>y</td>\n",
              "      <td>g</td>\n",
              "      <td>f</td>\n",
              "      <td>s</td>\n",
              "      <td>NaN</td>\n",
              "      <td>g</td>\n",
              "      <td>4.16</td>\n",
              "      <td>6.53</td>\n",
              "      <td>NaN</td>\n",
              "      <td>w</td>\n",
              "      <td>f</td>\n",
              "      <td>f</td>\n",
              "      <td>d</td>\n",
              "      <td>u</td>\n",
              "    </tr>\n",
              "    <tr>\n",
              "      <th>4</th>\n",
              "      <td>e</td>\n",
              "      <td>5.85</td>\n",
              "      <td>x</td>\n",
              "      <td>l</td>\n",
              "      <td>w</td>\n",
              "      <td>f</td>\n",
              "      <td>d</td>\n",
              "      <td>NaN</td>\n",
              "      <td>w</td>\n",
              "      <td>3.37</td>\n",
              "      <td>8.36</td>\n",
              "      <td>NaN</td>\n",
              "      <td>w</td>\n",
              "      <td>f</td>\n",
              "      <td>f</td>\n",
              "      <td>g</td>\n",
              "      <td>a</td>\n",
              "    </tr>\n",
              "  </tbody>\n",
              "</table>\n",
              "</div>\n",
              "    <div class=\"colab-df-buttons\">\n",
              "\n",
              "  <div class=\"colab-df-container\">\n",
              "    <button class=\"colab-df-convert\" onclick=\"convertToInteractive('df-5db4dfcd-3637-4534-8526-4cb95fbcdbcc')\"\n",
              "            title=\"Convert this dataframe to an interactive table.\"\n",
              "            style=\"display:none;\">\n",
              "\n",
              "  <svg xmlns=\"http://www.w3.org/2000/svg\" height=\"24px\" viewBox=\"0 -960 960 960\">\n",
              "    <path d=\"M120-120v-720h720v720H120Zm60-500h600v-160H180v160Zm220 220h160v-160H400v160Zm0 220h160v-160H400v160ZM180-400h160v-160H180v160Zm440 0h160v-160H620v160ZM180-180h160v-160H180v160Zm440 0h160v-160H620v160Z\"/>\n",
              "  </svg>\n",
              "    </button>\n",
              "\n",
              "  <style>\n",
              "    .colab-df-container {\n",
              "      display:flex;\n",
              "      gap: 12px;\n",
              "    }\n",
              "\n",
              "    .colab-df-convert {\n",
              "      background-color: #E8F0FE;\n",
              "      border: none;\n",
              "      border-radius: 50%;\n",
              "      cursor: pointer;\n",
              "      display: none;\n",
              "      fill: #1967D2;\n",
              "      height: 32px;\n",
              "      padding: 0 0 0 0;\n",
              "      width: 32px;\n",
              "    }\n",
              "\n",
              "    .colab-df-convert:hover {\n",
              "      background-color: #E2EBFA;\n",
              "      box-shadow: 0px 1px 2px rgba(60, 64, 67, 0.3), 0px 1px 3px 1px rgba(60, 64, 67, 0.15);\n",
              "      fill: #174EA6;\n",
              "    }\n",
              "\n",
              "    .colab-df-buttons div {\n",
              "      margin-bottom: 4px;\n",
              "    }\n",
              "\n",
              "    [theme=dark] .colab-df-convert {\n",
              "      background-color: #3B4455;\n",
              "      fill: #D2E3FC;\n",
              "    }\n",
              "\n",
              "    [theme=dark] .colab-df-convert:hover {\n",
              "      background-color: #434B5C;\n",
              "      box-shadow: 0px 1px 3px 1px rgba(0, 0, 0, 0.15);\n",
              "      filter: drop-shadow(0px 1px 2px rgba(0, 0, 0, 0.3));\n",
              "      fill: #FFFFFF;\n",
              "    }\n",
              "  </style>\n",
              "\n",
              "    <script>\n",
              "      const buttonEl =\n",
              "        document.querySelector('#df-5db4dfcd-3637-4534-8526-4cb95fbcdbcc button.colab-df-convert');\n",
              "      buttonEl.style.display =\n",
              "        google.colab.kernel.accessAllowed ? 'block' : 'none';\n",
              "\n",
              "      async function convertToInteractive(key) {\n",
              "        const element = document.querySelector('#df-5db4dfcd-3637-4534-8526-4cb95fbcdbcc');\n",
              "        const dataTable =\n",
              "          await google.colab.kernel.invokeFunction('convertToInteractive',\n",
              "                                                    [key], {});\n",
              "        if (!dataTable) return;\n",
              "\n",
              "        const docLinkHtml = 'Like what you see? Visit the ' +\n",
              "          '<a target=\"_blank\" href=https://colab.research.google.com/notebooks/data_table.ipynb>data table notebook</a>'\n",
              "          + ' to learn more about interactive tables.';\n",
              "        element.innerHTML = '';\n",
              "        dataTable['output_type'] = 'display_data';\n",
              "        await google.colab.output.renderOutput(dataTable, element);\n",
              "        const docLink = document.createElement('div');\n",
              "        docLink.innerHTML = docLinkHtml;\n",
              "        element.appendChild(docLink);\n",
              "      }\n",
              "    </script>\n",
              "  </div>\n",
              "\n",
              "\n",
              "<div id=\"df-84cd142a-5beb-4b90-9a72-911adcf3f7d6\">\n",
              "  <button class=\"colab-df-quickchart\" onclick=\"quickchart('df-84cd142a-5beb-4b90-9a72-911adcf3f7d6')\"\n",
              "            title=\"Suggest charts\"\n",
              "            style=\"display:none;\">\n",
              "\n",
              "<svg xmlns=\"http://www.w3.org/2000/svg\" height=\"24px\"viewBox=\"0 0 24 24\"\n",
              "     width=\"24px\">\n",
              "    <g>\n",
              "        <path d=\"M19 3H5c-1.1 0-2 .9-2 2v14c0 1.1.9 2 2 2h14c1.1 0 2-.9 2-2V5c0-1.1-.9-2-2-2zM9 17H7v-7h2v7zm4 0h-2V7h2v10zm4 0h-2v-4h2v4z\"/>\n",
              "    </g>\n",
              "</svg>\n",
              "  </button>\n",
              "\n",
              "<style>\n",
              "  .colab-df-quickchart {\n",
              "      --bg-color: #E8F0FE;\n",
              "      --fill-color: #1967D2;\n",
              "      --hover-bg-color: #E2EBFA;\n",
              "      --hover-fill-color: #174EA6;\n",
              "      --disabled-fill-color: #AAA;\n",
              "      --disabled-bg-color: #DDD;\n",
              "  }\n",
              "\n",
              "  [theme=dark] .colab-df-quickchart {\n",
              "      --bg-color: #3B4455;\n",
              "      --fill-color: #D2E3FC;\n",
              "      --hover-bg-color: #434B5C;\n",
              "      --hover-fill-color: #FFFFFF;\n",
              "      --disabled-bg-color: #3B4455;\n",
              "      --disabled-fill-color: #666;\n",
              "  }\n",
              "\n",
              "  .colab-df-quickchart {\n",
              "    background-color: var(--bg-color);\n",
              "    border: none;\n",
              "    border-radius: 50%;\n",
              "    cursor: pointer;\n",
              "    display: none;\n",
              "    fill: var(--fill-color);\n",
              "    height: 32px;\n",
              "    padding: 0;\n",
              "    width: 32px;\n",
              "  }\n",
              "\n",
              "  .colab-df-quickchart:hover {\n",
              "    background-color: var(--hover-bg-color);\n",
              "    box-shadow: 0 1px 2px rgba(60, 64, 67, 0.3), 0 1px 3px 1px rgba(60, 64, 67, 0.15);\n",
              "    fill: var(--button-hover-fill-color);\n",
              "  }\n",
              "\n",
              "  .colab-df-quickchart-complete:disabled,\n",
              "  .colab-df-quickchart-complete:disabled:hover {\n",
              "    background-color: var(--disabled-bg-color);\n",
              "    fill: var(--disabled-fill-color);\n",
              "    box-shadow: none;\n",
              "  }\n",
              "\n",
              "  .colab-df-spinner {\n",
              "    border: 2px solid var(--fill-color);\n",
              "    border-color: transparent;\n",
              "    border-bottom-color: var(--fill-color);\n",
              "    animation:\n",
              "      spin 1s steps(1) infinite;\n",
              "  }\n",
              "\n",
              "  @keyframes spin {\n",
              "    0% {\n",
              "      border-color: transparent;\n",
              "      border-bottom-color: var(--fill-color);\n",
              "      border-left-color: var(--fill-color);\n",
              "    }\n",
              "    20% {\n",
              "      border-color: transparent;\n",
              "      border-left-color: var(--fill-color);\n",
              "      border-top-color: var(--fill-color);\n",
              "    }\n",
              "    30% {\n",
              "      border-color: transparent;\n",
              "      border-left-color: var(--fill-color);\n",
              "      border-top-color: var(--fill-color);\n",
              "      border-right-color: var(--fill-color);\n",
              "    }\n",
              "    40% {\n",
              "      border-color: transparent;\n",
              "      border-right-color: var(--fill-color);\n",
              "      border-top-color: var(--fill-color);\n",
              "    }\n",
              "    60% {\n",
              "      border-color: transparent;\n",
              "      border-right-color: var(--fill-color);\n",
              "    }\n",
              "    80% {\n",
              "      border-color: transparent;\n",
              "      border-right-color: var(--fill-color);\n",
              "      border-bottom-color: var(--fill-color);\n",
              "    }\n",
              "    90% {\n",
              "      border-color: transparent;\n",
              "      border-bottom-color: var(--fill-color);\n",
              "    }\n",
              "  }\n",
              "</style>\n",
              "\n",
              "  <script>\n",
              "    async function quickchart(key) {\n",
              "      const quickchartButtonEl =\n",
              "        document.querySelector('#' + key + ' button');\n",
              "      quickchartButtonEl.disabled = true;  // To prevent multiple clicks.\n",
              "      quickchartButtonEl.classList.add('colab-df-spinner');\n",
              "      try {\n",
              "        const charts = await google.colab.kernel.invokeFunction(\n",
              "            'suggestCharts', [key], {});\n",
              "      } catch (error) {\n",
              "        console.error('Error during call to suggestCharts:', error);\n",
              "      }\n",
              "      quickchartButtonEl.classList.remove('colab-df-spinner');\n",
              "      quickchartButtonEl.classList.add('colab-df-quickchart-complete');\n",
              "    }\n",
              "    (() => {\n",
              "      let quickchartButtonEl =\n",
              "        document.querySelector('#df-84cd142a-5beb-4b90-9a72-911adcf3f7d6 button');\n",
              "      quickchartButtonEl.style.display =\n",
              "        google.colab.kernel.accessAllowed ? 'block' : 'none';\n",
              "    })();\n",
              "  </script>\n",
              "</div>\n",
              "    </div>\n",
              "  </div>\n"
            ],
            "application/vnd.google.colaboratory.intrinsic+json": {
              "type": "dataframe",
              "variable_name": "train_df"
            }
          },
          "metadata": {},
          "execution_count": 24
        }
      ]
    },
    {
      "cell_type": "code",
      "source": [
        "high_missing_test_columns= test_df.columns[test_df.isna().mean() > missing_threshold]\n",
        "print(high_missing_test_columns)\n",
        "\n",
        "test_df= test_df.drop(columns= high_missing_test_columns)\n",
        "test_df.head()"
      ],
      "metadata": {
        "colab": {
          "base_uri": "https://localhost:8080/",
          "height": 296
        },
        "id": "nGiSr4NUbc9z",
        "outputId": "731fde88-9a67-426d-a07d-a23713775458"
      },
      "execution_count": 25,
      "outputs": [
        {
          "output_type": "stream",
          "name": "stdout",
          "text": [
            "Index(['stem-root', 'veil-type', 'veil-color', 'spore-print-color'], dtype='object')\n"
          ]
        },
        {
          "output_type": "execute_result",
          "data": {
            "text/plain": [
              "  class  cap-diameter cap-shape cap-surface cap-color does-bruise-or-bleed  \\\n",
              "0     z          8.64         x         NaN         n                    t   \n",
              "1     z          6.90         o           t         o                    f   \n",
              "2     z          2.00         b           g         n                    f   \n",
              "3     z          3.47         x           t         n                    f   \n",
              "4     z          6.17         x           h         y                    f   \n",
              "\n",
              "  gill-attachment gill-spacing gill-color  stem-height  stem-width  \\\n",
              "0             NaN          NaN          w        11.13       17.12   \n",
              "1             NaN            c          y         1.27       10.75   \n",
              "2             NaN            c          n         6.18        3.14   \n",
              "3               s            c          n         4.98        8.51   \n",
              "4               p          NaN          y         6.73       13.70   \n",
              "\n",
              "  stem-surface stem-color has-ring ring-type habitat season  \n",
              "0          NaN          w        t         g       d      a  \n",
              "1          NaN          n        f         f       d      a  \n",
              "2          NaN          n        f         f       d      s  \n",
              "3          NaN          w        t         z       d      u  \n",
              "4          NaN          y        t       NaN       d      u  "
            ],
            "text/html": [
              "\n",
              "  <div id=\"df-02fb97e0-bc57-4697-9970-3699817598f9\" class=\"colab-df-container\">\n",
              "    <div>\n",
              "<style scoped>\n",
              "    .dataframe tbody tr th:only-of-type {\n",
              "        vertical-align: middle;\n",
              "    }\n",
              "\n",
              "    .dataframe tbody tr th {\n",
              "        vertical-align: top;\n",
              "    }\n",
              "\n",
              "    .dataframe thead th {\n",
              "        text-align: right;\n",
              "    }\n",
              "</style>\n",
              "<table border=\"1\" class=\"dataframe\">\n",
              "  <thead>\n",
              "    <tr style=\"text-align: right;\">\n",
              "      <th></th>\n",
              "      <th>class</th>\n",
              "      <th>cap-diameter</th>\n",
              "      <th>cap-shape</th>\n",
              "      <th>cap-surface</th>\n",
              "      <th>cap-color</th>\n",
              "      <th>does-bruise-or-bleed</th>\n",
              "      <th>gill-attachment</th>\n",
              "      <th>gill-spacing</th>\n",
              "      <th>gill-color</th>\n",
              "      <th>stem-height</th>\n",
              "      <th>stem-width</th>\n",
              "      <th>stem-surface</th>\n",
              "      <th>stem-color</th>\n",
              "      <th>has-ring</th>\n",
              "      <th>ring-type</th>\n",
              "      <th>habitat</th>\n",
              "      <th>season</th>\n",
              "    </tr>\n",
              "  </thead>\n",
              "  <tbody>\n",
              "    <tr>\n",
              "      <th>0</th>\n",
              "      <td>z</td>\n",
              "      <td>8.64</td>\n",
              "      <td>x</td>\n",
              "      <td>NaN</td>\n",
              "      <td>n</td>\n",
              "      <td>t</td>\n",
              "      <td>NaN</td>\n",
              "      <td>NaN</td>\n",
              "      <td>w</td>\n",
              "      <td>11.13</td>\n",
              "      <td>17.12</td>\n",
              "      <td>NaN</td>\n",
              "      <td>w</td>\n",
              "      <td>t</td>\n",
              "      <td>g</td>\n",
              "      <td>d</td>\n",
              "      <td>a</td>\n",
              "    </tr>\n",
              "    <tr>\n",
              "      <th>1</th>\n",
              "      <td>z</td>\n",
              "      <td>6.90</td>\n",
              "      <td>o</td>\n",
              "      <td>t</td>\n",
              "      <td>o</td>\n",
              "      <td>f</td>\n",
              "      <td>NaN</td>\n",
              "      <td>c</td>\n",
              "      <td>y</td>\n",
              "      <td>1.27</td>\n",
              "      <td>10.75</td>\n",
              "      <td>NaN</td>\n",
              "      <td>n</td>\n",
              "      <td>f</td>\n",
              "      <td>f</td>\n",
              "      <td>d</td>\n",
              "      <td>a</td>\n",
              "    </tr>\n",
              "    <tr>\n",
              "      <th>2</th>\n",
              "      <td>z</td>\n",
              "      <td>2.00</td>\n",
              "      <td>b</td>\n",
              "      <td>g</td>\n",
              "      <td>n</td>\n",
              "      <td>f</td>\n",
              "      <td>NaN</td>\n",
              "      <td>c</td>\n",
              "      <td>n</td>\n",
              "      <td>6.18</td>\n",
              "      <td>3.14</td>\n",
              "      <td>NaN</td>\n",
              "      <td>n</td>\n",
              "      <td>f</td>\n",
              "      <td>f</td>\n",
              "      <td>d</td>\n",
              "      <td>s</td>\n",
              "    </tr>\n",
              "    <tr>\n",
              "      <th>3</th>\n",
              "      <td>z</td>\n",
              "      <td>3.47</td>\n",
              "      <td>x</td>\n",
              "      <td>t</td>\n",
              "      <td>n</td>\n",
              "      <td>f</td>\n",
              "      <td>s</td>\n",
              "      <td>c</td>\n",
              "      <td>n</td>\n",
              "      <td>4.98</td>\n",
              "      <td>8.51</td>\n",
              "      <td>NaN</td>\n",
              "      <td>w</td>\n",
              "      <td>t</td>\n",
              "      <td>z</td>\n",
              "      <td>d</td>\n",
              "      <td>u</td>\n",
              "    </tr>\n",
              "    <tr>\n",
              "      <th>4</th>\n",
              "      <td>z</td>\n",
              "      <td>6.17</td>\n",
              "      <td>x</td>\n",
              "      <td>h</td>\n",
              "      <td>y</td>\n",
              "      <td>f</td>\n",
              "      <td>p</td>\n",
              "      <td>NaN</td>\n",
              "      <td>y</td>\n",
              "      <td>6.73</td>\n",
              "      <td>13.70</td>\n",
              "      <td>NaN</td>\n",
              "      <td>y</td>\n",
              "      <td>t</td>\n",
              "      <td>NaN</td>\n",
              "      <td>d</td>\n",
              "      <td>u</td>\n",
              "    </tr>\n",
              "  </tbody>\n",
              "</table>\n",
              "</div>\n",
              "    <div class=\"colab-df-buttons\">\n",
              "\n",
              "  <div class=\"colab-df-container\">\n",
              "    <button class=\"colab-df-convert\" onclick=\"convertToInteractive('df-02fb97e0-bc57-4697-9970-3699817598f9')\"\n",
              "            title=\"Convert this dataframe to an interactive table.\"\n",
              "            style=\"display:none;\">\n",
              "\n",
              "  <svg xmlns=\"http://www.w3.org/2000/svg\" height=\"24px\" viewBox=\"0 -960 960 960\">\n",
              "    <path d=\"M120-120v-720h720v720H120Zm60-500h600v-160H180v160Zm220 220h160v-160H400v160Zm0 220h160v-160H400v160ZM180-400h160v-160H180v160Zm440 0h160v-160H620v160ZM180-180h160v-160H180v160Zm440 0h160v-160H620v160Z\"/>\n",
              "  </svg>\n",
              "    </button>\n",
              "\n",
              "  <style>\n",
              "    .colab-df-container {\n",
              "      display:flex;\n",
              "      gap: 12px;\n",
              "    }\n",
              "\n",
              "    .colab-df-convert {\n",
              "      background-color: #E8F0FE;\n",
              "      border: none;\n",
              "      border-radius: 50%;\n",
              "      cursor: pointer;\n",
              "      display: none;\n",
              "      fill: #1967D2;\n",
              "      height: 32px;\n",
              "      padding: 0 0 0 0;\n",
              "      width: 32px;\n",
              "    }\n",
              "\n",
              "    .colab-df-convert:hover {\n",
              "      background-color: #E2EBFA;\n",
              "      box-shadow: 0px 1px 2px rgba(60, 64, 67, 0.3), 0px 1px 3px 1px rgba(60, 64, 67, 0.15);\n",
              "      fill: #174EA6;\n",
              "    }\n",
              "\n",
              "    .colab-df-buttons div {\n",
              "      margin-bottom: 4px;\n",
              "    }\n",
              "\n",
              "    [theme=dark] .colab-df-convert {\n",
              "      background-color: #3B4455;\n",
              "      fill: #D2E3FC;\n",
              "    }\n",
              "\n",
              "    [theme=dark] .colab-df-convert:hover {\n",
              "      background-color: #434B5C;\n",
              "      box-shadow: 0px 1px 3px 1px rgba(0, 0, 0, 0.15);\n",
              "      filter: drop-shadow(0px 1px 2px rgba(0, 0, 0, 0.3));\n",
              "      fill: #FFFFFF;\n",
              "    }\n",
              "  </style>\n",
              "\n",
              "    <script>\n",
              "      const buttonEl =\n",
              "        document.querySelector('#df-02fb97e0-bc57-4697-9970-3699817598f9 button.colab-df-convert');\n",
              "      buttonEl.style.display =\n",
              "        google.colab.kernel.accessAllowed ? 'block' : 'none';\n",
              "\n",
              "      async function convertToInteractive(key) {\n",
              "        const element = document.querySelector('#df-02fb97e0-bc57-4697-9970-3699817598f9');\n",
              "        const dataTable =\n",
              "          await google.colab.kernel.invokeFunction('convertToInteractive',\n",
              "                                                    [key], {});\n",
              "        if (!dataTable) return;\n",
              "\n",
              "        const docLinkHtml = 'Like what you see? Visit the ' +\n",
              "          '<a target=\"_blank\" href=https://colab.research.google.com/notebooks/data_table.ipynb>data table notebook</a>'\n",
              "          + ' to learn more about interactive tables.';\n",
              "        element.innerHTML = '';\n",
              "        dataTable['output_type'] = 'display_data';\n",
              "        await google.colab.output.renderOutput(dataTable, element);\n",
              "        const docLink = document.createElement('div');\n",
              "        docLink.innerHTML = docLinkHtml;\n",
              "        element.appendChild(docLink);\n",
              "      }\n",
              "    </script>\n",
              "  </div>\n",
              "\n",
              "\n",
              "<div id=\"df-b6078139-b722-4902-9197-7606600b6ebc\">\n",
              "  <button class=\"colab-df-quickchart\" onclick=\"quickchart('df-b6078139-b722-4902-9197-7606600b6ebc')\"\n",
              "            title=\"Suggest charts\"\n",
              "            style=\"display:none;\">\n",
              "\n",
              "<svg xmlns=\"http://www.w3.org/2000/svg\" height=\"24px\"viewBox=\"0 0 24 24\"\n",
              "     width=\"24px\">\n",
              "    <g>\n",
              "        <path d=\"M19 3H5c-1.1 0-2 .9-2 2v14c0 1.1.9 2 2 2h14c1.1 0 2-.9 2-2V5c0-1.1-.9-2-2-2zM9 17H7v-7h2v7zm4 0h-2V7h2v10zm4 0h-2v-4h2v4z\"/>\n",
              "    </g>\n",
              "</svg>\n",
              "  </button>\n",
              "\n",
              "<style>\n",
              "  .colab-df-quickchart {\n",
              "      --bg-color: #E8F0FE;\n",
              "      --fill-color: #1967D2;\n",
              "      --hover-bg-color: #E2EBFA;\n",
              "      --hover-fill-color: #174EA6;\n",
              "      --disabled-fill-color: #AAA;\n",
              "      --disabled-bg-color: #DDD;\n",
              "  }\n",
              "\n",
              "  [theme=dark] .colab-df-quickchart {\n",
              "      --bg-color: #3B4455;\n",
              "      --fill-color: #D2E3FC;\n",
              "      --hover-bg-color: #434B5C;\n",
              "      --hover-fill-color: #FFFFFF;\n",
              "      --disabled-bg-color: #3B4455;\n",
              "      --disabled-fill-color: #666;\n",
              "  }\n",
              "\n",
              "  .colab-df-quickchart {\n",
              "    background-color: var(--bg-color);\n",
              "    border: none;\n",
              "    border-radius: 50%;\n",
              "    cursor: pointer;\n",
              "    display: none;\n",
              "    fill: var(--fill-color);\n",
              "    height: 32px;\n",
              "    padding: 0;\n",
              "    width: 32px;\n",
              "  }\n",
              "\n",
              "  .colab-df-quickchart:hover {\n",
              "    background-color: var(--hover-bg-color);\n",
              "    box-shadow: 0 1px 2px rgba(60, 64, 67, 0.3), 0 1px 3px 1px rgba(60, 64, 67, 0.15);\n",
              "    fill: var(--button-hover-fill-color);\n",
              "  }\n",
              "\n",
              "  .colab-df-quickchart-complete:disabled,\n",
              "  .colab-df-quickchart-complete:disabled:hover {\n",
              "    background-color: var(--disabled-bg-color);\n",
              "    fill: var(--disabled-fill-color);\n",
              "    box-shadow: none;\n",
              "  }\n",
              "\n",
              "  .colab-df-spinner {\n",
              "    border: 2px solid var(--fill-color);\n",
              "    border-color: transparent;\n",
              "    border-bottom-color: var(--fill-color);\n",
              "    animation:\n",
              "      spin 1s steps(1) infinite;\n",
              "  }\n",
              "\n",
              "  @keyframes spin {\n",
              "    0% {\n",
              "      border-color: transparent;\n",
              "      border-bottom-color: var(--fill-color);\n",
              "      border-left-color: var(--fill-color);\n",
              "    }\n",
              "    20% {\n",
              "      border-color: transparent;\n",
              "      border-left-color: var(--fill-color);\n",
              "      border-top-color: var(--fill-color);\n",
              "    }\n",
              "    30% {\n",
              "      border-color: transparent;\n",
              "      border-left-color: var(--fill-color);\n",
              "      border-top-color: var(--fill-color);\n",
              "      border-right-color: var(--fill-color);\n",
              "    }\n",
              "    40% {\n",
              "      border-color: transparent;\n",
              "      border-right-color: var(--fill-color);\n",
              "      border-top-color: var(--fill-color);\n",
              "    }\n",
              "    60% {\n",
              "      border-color: transparent;\n",
              "      border-right-color: var(--fill-color);\n",
              "    }\n",
              "    80% {\n",
              "      border-color: transparent;\n",
              "      border-right-color: var(--fill-color);\n",
              "      border-bottom-color: var(--fill-color);\n",
              "    }\n",
              "    90% {\n",
              "      border-color: transparent;\n",
              "      border-bottom-color: var(--fill-color);\n",
              "    }\n",
              "  }\n",
              "</style>\n",
              "\n",
              "  <script>\n",
              "    async function quickchart(key) {\n",
              "      const quickchartButtonEl =\n",
              "        document.querySelector('#' + key + ' button');\n",
              "      quickchartButtonEl.disabled = true;  // To prevent multiple clicks.\n",
              "      quickchartButtonEl.classList.add('colab-df-spinner');\n",
              "      try {\n",
              "        const charts = await google.colab.kernel.invokeFunction(\n",
              "            'suggestCharts', [key], {});\n",
              "      } catch (error) {\n",
              "        console.error('Error during call to suggestCharts:', error);\n",
              "      }\n",
              "      quickchartButtonEl.classList.remove('colab-df-spinner');\n",
              "      quickchartButtonEl.classList.add('colab-df-quickchart-complete');\n",
              "    }\n",
              "    (() => {\n",
              "      let quickchartButtonEl =\n",
              "        document.querySelector('#df-b6078139-b722-4902-9197-7606600b6ebc button');\n",
              "      quickchartButtonEl.style.display =\n",
              "        google.colab.kernel.accessAllowed ? 'block' : 'none';\n",
              "    })();\n",
              "  </script>\n",
              "</div>\n",
              "    </div>\n",
              "  </div>\n"
            ],
            "application/vnd.google.colaboratory.intrinsic+json": {
              "type": "dataframe",
              "variable_name": "test_df"
            }
          },
          "metadata": {},
          "execution_count": 25
        }
      ]
    },
    {
      "cell_type": "code",
      "source": [
        "train_mode_values= train_df.mode()\n",
        "train_mode_values= train_mode_values.loc[0].to_dict()\n",
        "train_mode_values"
      ],
      "metadata": {
        "id": "XXaMAt1PxdGi",
        "outputId": "adc26477-4b25-412e-db18-6682bfce6356",
        "colab": {
          "base_uri": "https://localhost:8080/"
        }
      },
      "execution_count": 26,
      "outputs": [
        {
          "output_type": "execute_result",
          "data": {
            "text/plain": [
              "{'class': 'p',\n",
              " 'cap-diameter': 1.49,\n",
              " 'cap-shape': 'x',\n",
              " 'cap-surface': 't',\n",
              " 'cap-color': 'n',\n",
              " 'does-bruise-or-bleed': 'f',\n",
              " 'gill-attachment': 'a',\n",
              " 'gill-spacing': 'c',\n",
              " 'gill-color': 'w',\n",
              " 'stem-height': 5.24,\n",
              " 'stem-width': 2.41,\n",
              " 'stem-surface': 's',\n",
              " 'stem-color': 'w',\n",
              " 'has-ring': 'f',\n",
              " 'ring-type': 'f',\n",
              " 'habitat': 'd',\n",
              " 'season': 'a'}"
            ]
          },
          "metadata": {},
          "execution_count": 26
        }
      ]
    },
    {
      "cell_type": "code",
      "source": [
        "test_mode_values= test_df.mode()\n",
        "test_mode_values= test_mode_values.loc[0].to_dict()\n",
        "test_mode_values"
      ],
      "metadata": {
        "colab": {
          "base_uri": "https://localhost:8080/"
        },
        "id": "KfL9rFWhbtGK",
        "outputId": "b6b6cc04-a327-4a8b-ebc8-7273e67b7edd"
      },
      "execution_count": 27,
      "outputs": [
        {
          "output_type": "execute_result",
          "data": {
            "text/plain": [
              "{'class': 'z',\n",
              " 'cap-diameter': 1.49,\n",
              " 'cap-shape': 'x',\n",
              " 'cap-surface': 't',\n",
              " 'cap-color': 'n',\n",
              " 'does-bruise-or-bleed': 'f',\n",
              " 'gill-attachment': 'a',\n",
              " 'gill-spacing': 'c',\n",
              " 'gill-color': 'w',\n",
              " 'stem-height': 5.24,\n",
              " 'stem-width': 2.41,\n",
              " 'stem-surface': 's',\n",
              " 'stem-color': 'w',\n",
              " 'has-ring': 'f',\n",
              " 'ring-type': 'f',\n",
              " 'habitat': 'd',\n",
              " 'season': 'a'}"
            ]
          },
          "metadata": {},
          "execution_count": 27
        }
      ]
    },
    {
      "cell_type": "code",
      "source": [
        "train_median_values= train_df.median(numeric_only= True).to_dict()\n",
        "train_median_values"
      ],
      "metadata": {
        "id": "V8kDJGFwycVh",
        "outputId": "828849a7-1dfd-4584-db0b-4da7bbde26ad",
        "colab": {
          "base_uri": "https://localhost:8080/"
        }
      },
      "execution_count": 28,
      "outputs": [
        {
          "output_type": "execute_result",
          "data": {
            "text/plain": [
              "{'cap-diameter': 5.75, 'stem-height': 5.88, 'stem-width': 9.65}"
            ]
          },
          "metadata": {},
          "execution_count": 28
        }
      ]
    },
    {
      "cell_type": "code",
      "source": [
        "test_median_values= test_df.median(numeric_only= True).to_dict()\n",
        "test_median_values"
      ],
      "metadata": {
        "colab": {
          "base_uri": "https://localhost:8080/"
        },
        "id": "7k5YE73Lb_F-",
        "outputId": "920d4f4f-ef99-4982-87c4-d5e91df46859"
      },
      "execution_count": 29,
      "outputs": [
        {
          "output_type": "execute_result",
          "data": {
            "text/plain": [
              "{'cap-diameter': 5.74, 'stem-height': 5.88, 'stem-width': 9.64}"
            ]
          },
          "metadata": {},
          "execution_count": 29
        }
      ]
    },
    {
      "cell_type": "code",
      "source": [
        "for column in train_df:\n",
        "  if train_df[column].isna().any():\n",
        "    if train_df[column].dtype== 'object':\n",
        "      train_df[column]= train_df[column].fillna(train_mode_values[column])\n",
        "    else:\n",
        "      train_df[column]= train_df[column].fillna(train_median_values[column])\n",
        "\n",
        "train_df.isna().median()"
      ],
      "metadata": {
        "id": "FKRGV0_ZZ_1B",
        "outputId": "c92a2d5d-ff0e-4801-a2b7-0602b08b3692",
        "colab": {
          "base_uri": "https://localhost:8080/",
          "height": 617
        }
      },
      "execution_count": 30,
      "outputs": [
        {
          "output_type": "execute_result",
          "data": {
            "text/plain": [
              "class                   0.0\n",
              "cap-diameter            0.0\n",
              "cap-shape               0.0\n",
              "cap-surface             0.0\n",
              "cap-color               0.0\n",
              "does-bruise-or-bleed    0.0\n",
              "gill-attachment         0.0\n",
              "gill-spacing            0.0\n",
              "gill-color              0.0\n",
              "stem-height             0.0\n",
              "stem-width              0.0\n",
              "stem-surface            0.0\n",
              "stem-color              0.0\n",
              "has-ring                0.0\n",
              "ring-type               0.0\n",
              "habitat                 0.0\n",
              "season                  0.0\n",
              "dtype: float64"
            ],
            "text/html": [
              "<div>\n",
              "<style scoped>\n",
              "    .dataframe tbody tr th:only-of-type {\n",
              "        vertical-align: middle;\n",
              "    }\n",
              "\n",
              "    .dataframe tbody tr th {\n",
              "        vertical-align: top;\n",
              "    }\n",
              "\n",
              "    .dataframe thead th {\n",
              "        text-align: right;\n",
              "    }\n",
              "</style>\n",
              "<table border=\"1\" class=\"dataframe\">\n",
              "  <thead>\n",
              "    <tr style=\"text-align: right;\">\n",
              "      <th></th>\n",
              "      <th>0</th>\n",
              "    </tr>\n",
              "  </thead>\n",
              "  <tbody>\n",
              "    <tr>\n",
              "      <th>class</th>\n",
              "      <td>0.0</td>\n",
              "    </tr>\n",
              "    <tr>\n",
              "      <th>cap-diameter</th>\n",
              "      <td>0.0</td>\n",
              "    </tr>\n",
              "    <tr>\n",
              "      <th>cap-shape</th>\n",
              "      <td>0.0</td>\n",
              "    </tr>\n",
              "    <tr>\n",
              "      <th>cap-surface</th>\n",
              "      <td>0.0</td>\n",
              "    </tr>\n",
              "    <tr>\n",
              "      <th>cap-color</th>\n",
              "      <td>0.0</td>\n",
              "    </tr>\n",
              "    <tr>\n",
              "      <th>does-bruise-or-bleed</th>\n",
              "      <td>0.0</td>\n",
              "    </tr>\n",
              "    <tr>\n",
              "      <th>gill-attachment</th>\n",
              "      <td>0.0</td>\n",
              "    </tr>\n",
              "    <tr>\n",
              "      <th>gill-spacing</th>\n",
              "      <td>0.0</td>\n",
              "    </tr>\n",
              "    <tr>\n",
              "      <th>gill-color</th>\n",
              "      <td>0.0</td>\n",
              "    </tr>\n",
              "    <tr>\n",
              "      <th>stem-height</th>\n",
              "      <td>0.0</td>\n",
              "    </tr>\n",
              "    <tr>\n",
              "      <th>stem-width</th>\n",
              "      <td>0.0</td>\n",
              "    </tr>\n",
              "    <tr>\n",
              "      <th>stem-surface</th>\n",
              "      <td>0.0</td>\n",
              "    </tr>\n",
              "    <tr>\n",
              "      <th>stem-color</th>\n",
              "      <td>0.0</td>\n",
              "    </tr>\n",
              "    <tr>\n",
              "      <th>has-ring</th>\n",
              "      <td>0.0</td>\n",
              "    </tr>\n",
              "    <tr>\n",
              "      <th>ring-type</th>\n",
              "      <td>0.0</td>\n",
              "    </tr>\n",
              "    <tr>\n",
              "      <th>habitat</th>\n",
              "      <td>0.0</td>\n",
              "    </tr>\n",
              "    <tr>\n",
              "      <th>season</th>\n",
              "      <td>0.0</td>\n",
              "    </tr>\n",
              "  </tbody>\n",
              "</table>\n",
              "</div><br><label><b>dtype:</b> float64</label>"
            ]
          },
          "metadata": {},
          "execution_count": 30
        }
      ]
    },
    {
      "cell_type": "code",
      "source": [
        "for column in test_df:\n",
        "  if test_df[column].isna().any():\n",
        "    if test_df[column].dtype== 'object':\n",
        "      test_df[column]= test_df[column].fillna(test_mode_values[column])\n",
        "    else:\n",
        "      test_df[column]= test_df[column].fillna(test_median_values[column])\n",
        "\n",
        "test_df.isna().median()"
      ],
      "metadata": {
        "colab": {
          "base_uri": "https://localhost:8080/",
          "height": 617
        },
        "id": "zY_CupO8cG9n",
        "outputId": "6c903d7e-e0de-4f2a-d4fa-a0566b9f4f15"
      },
      "execution_count": 31,
      "outputs": [
        {
          "output_type": "execute_result",
          "data": {
            "text/plain": [
              "class                   0.0\n",
              "cap-diameter            0.0\n",
              "cap-shape               0.0\n",
              "cap-surface             0.0\n",
              "cap-color               0.0\n",
              "does-bruise-or-bleed    0.0\n",
              "gill-attachment         0.0\n",
              "gill-spacing            0.0\n",
              "gill-color              0.0\n",
              "stem-height             0.0\n",
              "stem-width              0.0\n",
              "stem-surface            0.0\n",
              "stem-color              0.0\n",
              "has-ring                0.0\n",
              "ring-type               0.0\n",
              "habitat                 0.0\n",
              "season                  0.0\n",
              "dtype: float64"
            ],
            "text/html": [
              "<div>\n",
              "<style scoped>\n",
              "    .dataframe tbody tr th:only-of-type {\n",
              "        vertical-align: middle;\n",
              "    }\n",
              "\n",
              "    .dataframe tbody tr th {\n",
              "        vertical-align: top;\n",
              "    }\n",
              "\n",
              "    .dataframe thead th {\n",
              "        text-align: right;\n",
              "    }\n",
              "</style>\n",
              "<table border=\"1\" class=\"dataframe\">\n",
              "  <thead>\n",
              "    <tr style=\"text-align: right;\">\n",
              "      <th></th>\n",
              "      <th>0</th>\n",
              "    </tr>\n",
              "  </thead>\n",
              "  <tbody>\n",
              "    <tr>\n",
              "      <th>class</th>\n",
              "      <td>0.0</td>\n",
              "    </tr>\n",
              "    <tr>\n",
              "      <th>cap-diameter</th>\n",
              "      <td>0.0</td>\n",
              "    </tr>\n",
              "    <tr>\n",
              "      <th>cap-shape</th>\n",
              "      <td>0.0</td>\n",
              "    </tr>\n",
              "    <tr>\n",
              "      <th>cap-surface</th>\n",
              "      <td>0.0</td>\n",
              "    </tr>\n",
              "    <tr>\n",
              "      <th>cap-color</th>\n",
              "      <td>0.0</td>\n",
              "    </tr>\n",
              "    <tr>\n",
              "      <th>does-bruise-or-bleed</th>\n",
              "      <td>0.0</td>\n",
              "    </tr>\n",
              "    <tr>\n",
              "      <th>gill-attachment</th>\n",
              "      <td>0.0</td>\n",
              "    </tr>\n",
              "    <tr>\n",
              "      <th>gill-spacing</th>\n",
              "      <td>0.0</td>\n",
              "    </tr>\n",
              "    <tr>\n",
              "      <th>gill-color</th>\n",
              "      <td>0.0</td>\n",
              "    </tr>\n",
              "    <tr>\n",
              "      <th>stem-height</th>\n",
              "      <td>0.0</td>\n",
              "    </tr>\n",
              "    <tr>\n",
              "      <th>stem-width</th>\n",
              "      <td>0.0</td>\n",
              "    </tr>\n",
              "    <tr>\n",
              "      <th>stem-surface</th>\n",
              "      <td>0.0</td>\n",
              "    </tr>\n",
              "    <tr>\n",
              "      <th>stem-color</th>\n",
              "      <td>0.0</td>\n",
              "    </tr>\n",
              "    <tr>\n",
              "      <th>has-ring</th>\n",
              "      <td>0.0</td>\n",
              "    </tr>\n",
              "    <tr>\n",
              "      <th>ring-type</th>\n",
              "      <td>0.0</td>\n",
              "    </tr>\n",
              "    <tr>\n",
              "      <th>habitat</th>\n",
              "      <td>0.0</td>\n",
              "    </tr>\n",
              "    <tr>\n",
              "      <th>season</th>\n",
              "      <td>0.0</td>\n",
              "    </tr>\n",
              "  </tbody>\n",
              "</table>\n",
              "</div><br><label><b>dtype:</b> float64</label>"
            ]
          },
          "metadata": {},
          "execution_count": 31
        }
      ]
    },
    {
      "cell_type": "markdown",
      "source": [
        "### *Split Dataframe to train and validation*"
      ],
      "metadata": {
        "id": "mreY_G_RkFXF"
      }
    },
    {
      "cell_type": "code",
      "source": [
        "num_samples, num_features= train_df.shape\n",
        "num_features-= 1\n",
        "num_classes= len(train_df['class'].unique())\n",
        "print(f'num_sample: {num_samples}, num_features: {num_features}, num_classes: {num_classes}')"
      ],
      "metadata": {
        "id": "f8HWG3TRnGwR",
        "outputId": "2aff4ce2-794c-4443-eae2-89c5c7775057",
        "colab": {
          "base_uri": "https://localhost:8080/"
        }
      },
      "execution_count": 32,
      "outputs": [
        {
          "output_type": "stream",
          "name": "stdout",
          "text": [
            "num_sample: 3116945, num_features: 16, num_classes: 2\n"
          ]
        }
      ]
    },
    {
      "cell_type": "code",
      "source": [
        "train_df, val_df= train_test_split(train_df, test_size=0.2, random_state=42, stratify= train_df['class'])\n",
        "print(f'train_df: {train_df.shape}, val_df: {val_df.shape}')"
      ],
      "metadata": {
        "id": "DHL6x0UOblfr",
        "outputId": "92a12cdd-7b7d-41e7-de49-d14192df70ed",
        "colab": {
          "base_uri": "https://localhost:8080/"
        }
      },
      "execution_count": 33,
      "outputs": [
        {
          "output_type": "stream",
          "name": "stdout",
          "text": [
            "train_df: (2493556, 17), val_df: (623389, 17)\n"
          ]
        }
      ]
    },
    {
      "cell_type": "markdown",
      "source": [
        "### *Encoding*"
      ],
      "metadata": {
        "id": "eAenCkbcopup"
      }
    },
    {
      "cell_type": "code",
      "source": [
        "ordinal_encoder= OrdinalEncoder(handle_unknown='use_encoded_value', unknown_value= -1)\n",
        "cat_col_name= train_df.select_dtypes(include=['object']).columns\n",
        "\n",
        "print(cat_col_name)\n",
        "\n",
        "train_df[cat_col_name]= ordinal_encoder.fit_transform(train_df[cat_col_name].astype(str))\n",
        "val_df[cat_col_name]= ordinal_encoder.transform(val_df[cat_col_name].astype(str))\n",
        "\n",
        "print(train_df.head())"
      ],
      "metadata": {
        "id": "FYczavgkk4wR",
        "outputId": "2d0d94db-1971-4d5c-aa58-0b3e7b81f636",
        "colab": {
          "base_uri": "https://localhost:8080/"
        }
      },
      "execution_count": 34,
      "outputs": [
        {
          "output_type": "stream",
          "name": "stdout",
          "text": [
            "Index(['class', 'cap-shape', 'cap-surface', 'cap-color',\n",
            "       'does-bruise-or-bleed', 'gill-attachment', 'gill-spacing', 'gill-color',\n",
            "       'stem-surface', 'stem-color', 'has-ring', 'ring-type', 'habitat',\n",
            "       'season'],\n",
            "      dtype='object')\n",
            "         class  cap-diameter  cap-shape  cap-surface  cap-color  \\\n",
            "586767     1.0          4.95       61.0         69.0       61.0   \n",
            "2665706    1.0          1.47       39.0         74.0       59.0   \n",
            "1270574    0.0         10.29       61.0         46.0       57.0   \n",
            "2935630    1.0          7.45       57.0         40.0       59.0   \n",
            "3113991    1.0          5.44       61.0         69.0       51.0   \n",
            "\n",
            "         does-bruise-or-bleed  gill-attachment  gill-spacing  gill-color  \\\n",
            "586767                    8.0             36.0          22.0        53.0   \n",
            "2665706                   8.0             36.0          22.0        37.0   \n",
            "1270574                   8.0             64.0          22.0        53.0   \n",
            "2935630                  19.0             39.0          22.0        40.0   \n",
            "3113991                   8.0             36.0          22.0        43.0   \n",
            "\n",
            "         stem-height  stem-width  stem-surface  stem-color  has-ring  \\\n",
            "586767          3.80       12.36          43.0        47.0       4.0   \n",
            "2665706         5.23        3.09          43.0        45.0       4.0   \n",
            "1270574         7.17       20.57          43.0        45.0       4.0   \n",
            "2935630         6.20        8.83          43.0        25.0       4.0   \n",
            "3113991         3.23       12.29          43.0        47.0       4.0   \n",
            "\n",
            "         ring-type  habitat  season  \n",
            "586767        14.0     20.0     0.0  \n",
            "2665706       14.0     20.0     2.0  \n",
            "1270574       14.0     20.0     0.0  \n",
            "2935630       14.0     20.0     0.0  \n",
            "3113991       14.0     20.0     0.0  \n"
          ]
        }
      ]
    },
    {
      "cell_type": "code",
      "source": [
        "test_df[cat_col_name]= ordinal_encoder.transform(test_df[cat_col_name].astype(str))\n",
        "test_df[cat_col_name]\n",
        "\n",
        "print(train_df.head())"
      ],
      "metadata": {
        "colab": {
          "base_uri": "https://localhost:8080/"
        },
        "id": "SapXP8EdwZYS",
        "outputId": "1c2f3784-4bc9-4c57-b4d9-b75b6ba22179"
      },
      "execution_count": 35,
      "outputs": [
        {
          "output_type": "stream",
          "name": "stdout",
          "text": [
            "         class  cap-diameter  cap-shape  cap-surface  cap-color  \\\n",
            "586767     1.0          4.95       61.0         69.0       61.0   \n",
            "2665706    1.0          1.47       39.0         74.0       59.0   \n",
            "1270574    0.0         10.29       61.0         46.0       57.0   \n",
            "2935630    1.0          7.45       57.0         40.0       59.0   \n",
            "3113991    1.0          5.44       61.0         69.0       51.0   \n",
            "\n",
            "         does-bruise-or-bleed  gill-attachment  gill-spacing  gill-color  \\\n",
            "586767                    8.0             36.0          22.0        53.0   \n",
            "2665706                   8.0             36.0          22.0        37.0   \n",
            "1270574                   8.0             64.0          22.0        53.0   \n",
            "2935630                  19.0             39.0          22.0        40.0   \n",
            "3113991                   8.0             36.0          22.0        43.0   \n",
            "\n",
            "         stem-height  stem-width  stem-surface  stem-color  has-ring  \\\n",
            "586767          3.80       12.36          43.0        47.0       4.0   \n",
            "2665706         5.23        3.09          43.0        45.0       4.0   \n",
            "1270574         7.17       20.57          43.0        45.0       4.0   \n",
            "2935630         6.20        8.83          43.0        25.0       4.0   \n",
            "3113991         3.23       12.29          43.0        47.0       4.0   \n",
            "\n",
            "         ring-type  habitat  season  \n",
            "586767        14.0     20.0     0.0  \n",
            "2665706       14.0     20.0     2.0  \n",
            "1270574       14.0     20.0     0.0  \n",
            "2935630       14.0     20.0     0.0  \n",
            "3113991       14.0     20.0     0.0  \n"
          ]
        }
      ]
    },
    {
      "cell_type": "code",
      "source": [
        "# # Delete unused variable\n",
        "# del train_df\n",
        "\n",
        "# # Force  garbage collection\n",
        "# import gc\n",
        "# gc.collect()"
      ],
      "metadata": {
        "id": "xqRTMyv8sbKZ"
      },
      "execution_count": 36,
      "outputs": []
    },
    {
      "cell_type": "code",
      "source": [
        "# Check current RAM usage\n",
        "import psutil\n",
        "ram_usage = psutil.virtual_memory()\n",
        "print(f\"Used RAM: {ram_usage.used / (1024 ** 3):.2f} GB\")\n",
        "print(f\"Available RAM: {ram_usage.available / (1024 ** 3):.2f} GB\")"
      ],
      "metadata": {
        "id": "ndWK-tIJu-U2",
        "outputId": "a3d77a9c-2c75-49d4-8855-e35a92b9827a",
        "colab": {
          "base_uri": "https://localhost:8080/"
        }
      },
      "execution_count": 37,
      "outputs": [
        {
          "output_type": "stream",
          "name": "stdout",
          "text": [
            "Used RAM: 3.61 GB\n",
            "Available RAM: 8.75 GB\n"
          ]
        }
      ]
    },
    {
      "cell_type": "markdown",
      "source": [
        "### *Normalization*"
      ],
      "metadata": {
        "id": "hq2Ft3OTrZ2M"
      }
    },
    {
      "cell_type": "code",
      "source": [
        "# scaler= StandardScaler()\n",
        "# num_features_list= list(train_median_values.keys())\n",
        "# num_features_list\n",
        "\n",
        "# train_df[num_features_list]= scaler.fit_transform(train_df[num_features_list])\n",
        "# val_df[num_features_list]= scaler.transform(val_df[num_features_list])\n",
        "\n",
        "# test_df[num_features_list]= scaler.transform(test_df[num_features_list])\n",
        "# train_df.head(2)\n",
        "# test_df.head(2)"
      ],
      "metadata": {
        "id": "mLsfnslQu-4y"
      },
      "execution_count": 38,
      "outputs": []
    },
    {
      "cell_type": "markdown",
      "source": [
        "### *HiTorch*"
      ],
      "metadata": {
        "id": "jRfCgFOT5MwS"
      }
    },
    {
      "cell_type": "code",
      "source": [
        "X_train = train_df.drop(columns=['class'], axis=1).values\n",
        "y_train= train_df['class'].values.reshape(-1,1)\n",
        "\n",
        "X_val= val_df.drop(columns=['class'], axis=1).values\n",
        "y_val= val_df['class'].values.reshape(-1, 1)\n",
        "\n",
        "X_train.shape, y_train.shape, X_val.shape, y_val.shape"
      ],
      "metadata": {
        "id": "d3C0ae1gu6aV",
        "colab": {
          "base_uri": "https://localhost:8080/"
        },
        "outputId": "aa0228f0-ea0b-4487-da50-b4715a67ffdb"
      },
      "execution_count": 39,
      "outputs": [
        {
          "output_type": "execute_result",
          "data": {
            "text/plain": [
              "((2493556, 16), (2493556, 1), (623389, 16), (623389, 1))"
            ]
          },
          "metadata": {},
          "execution_count": 39
        }
      ]
    },
    {
      "cell_type": "code",
      "source": [
        "X_train= torch.tensor(X_train, dtype= torch.float32)\n",
        "y_train= torch.tensor(y_train, dtype= torch.float32)\n",
        "\n",
        "X_val= torch.tensor(X_val, dtype= torch.float32)\n",
        "y_val= torch.tensor(y_val, dtype= torch.float32)\n",
        "\n",
        "X_train.shape, y_train.shape, X_val.shape, y_val.shape, X_train[1]"
      ],
      "metadata": {
        "colab": {
          "base_uri": "https://localhost:8080/"
        },
        "id": "oY7DiHjF4Zns",
        "outputId": "b2abe72c-8759-40ef-d9a9-783e26e11743"
      },
      "execution_count": 40,
      "outputs": [
        {
          "output_type": "execute_result",
          "data": {
            "text/plain": [
              "(torch.Size([2493556, 16]),\n",
              " torch.Size([2493556, 1]),\n",
              " torch.Size([623389, 16]),\n",
              " torch.Size([623389, 1]),\n",
              " tensor([ 1.4700, 39.0000, 74.0000, 59.0000,  8.0000, 36.0000, 22.0000, 37.0000,\n",
              "          5.2300,  3.0900, 43.0000, 45.0000,  4.0000, 14.0000, 20.0000,  2.0000]))"
            ]
          },
          "metadata": {},
          "execution_count": 40
        }
      ]
    },
    {
      "cell_type": "code",
      "source": [
        "X_test= test_df.drop(columns=['class'],axis=1).values\n",
        "y_test= test_df['class'].values.reshape(-1, 1)\n",
        "\n",
        "X_test.shape, y_test.shape"
      ],
      "metadata": {
        "colab": {
          "base_uri": "https://localhost:8080/"
        },
        "id": "94fZ5H-2w3bo",
        "outputId": "884d3c88-79c0-4efb-813b-ad0f155a46f9"
      },
      "execution_count": 41,
      "outputs": [
        {
          "output_type": "execute_result",
          "data": {
            "text/plain": [
              "((2077964, 16), (2077964, 1))"
            ]
          },
          "metadata": {},
          "execution_count": 41
        }
      ]
    },
    {
      "cell_type": "code",
      "source": [
        "X_test= torch.tensor(X_test, dtype= torch.float32)\n",
        "y_test= torch.tensor(y_test, dtype= torch.float32)"
      ],
      "metadata": {
        "id": "9lvGSrINxLnI"
      },
      "execution_count": 42,
      "outputs": []
    },
    {
      "cell_type": "code",
      "source": [
        "train_set= TensorDataset(X_train, y_train)\n",
        "val_set= TensorDataset(X_val, y_val)\n",
        "test_set= TensorDataset(X_test, y_test)\n",
        "\n",
        "X_train.shape, y_train.shape, X_val.shape, y_val.shape, X_test.shape, y_test.shape"
      ],
      "metadata": {
        "colab": {
          "base_uri": "https://localhost:8080/"
        },
        "id": "h1VL8l6S89C6",
        "outputId": "3b516c1c-cfdb-48c8-d28a-7a3cad9c3efb"
      },
      "execution_count": 43,
      "outputs": [
        {
          "output_type": "execute_result",
          "data": {
            "text/plain": [
              "(torch.Size([2493556, 16]),\n",
              " torch.Size([2493556, 1]),\n",
              " torch.Size([623389, 16]),\n",
              " torch.Size([623389, 1]),\n",
              " torch.Size([2077964, 16]),\n",
              " torch.Size([2077964, 1]))"
            ]
          },
          "metadata": {},
          "execution_count": 43
        }
      ]
    },
    {
      "cell_type": "code",
      "source": [
        "train_loader= DataLoader(train_set, batch_size=128, shuffle= True)\n",
        "val_loader= DataLoader(val_set, batch_size= 128)\n",
        "test_loader= DataLoader(test_set, batch_size= 128)"
      ],
      "metadata": {
        "id": "MORQDMprCqqQ"
      },
      "execution_count": 44,
      "outputs": []
    },
    {
      "cell_type": "markdown",
      "source": [
        "# **Step2: Model**"
      ],
      "metadata": {
        "id": "blGkW9Psz5N8"
      }
    },
    {
      "cell_type": "code",
      "source": [
        "nf_hidden_layer1= 32 * num_features\n",
        "nf_hidden_layer2= 16 * num_features\n",
        "nf_hidden_layer3= 4 * num_features\n",
        "\n",
        "model = nn.Sequential(\n",
        "    nn.Linear(in_features= num_features, out_features= nf_hidden_layer1),\n",
        "    nn.ReLU(),\n",
        "    nn.Linear(in_features= nf_hidden_layer1, out_features= nf_hidden_layer2),\n",
        "    nn.ReLU(),\n",
        "    nn.Linear(in_features= nf_hidden_layer2, out_features= nf_hidden_layer3),\n",
        "    nn.ReLU(),\n",
        "    nn.Linear(in_features= nf_hidden_layer3, out_features= num_features),\n",
        "    nn.ReLU(),\n",
        "    nn.Linear(num_features, num_classes-1),\n",
        "    nn.Sigmoid()\n",
        ")\n",
        "\n",
        "model.to(device)"
      ],
      "metadata": {
        "colab": {
          "base_uri": "https://localhost:8080/"
        },
        "id": "Z0CB9KvIz8om",
        "outputId": "15364dea-df7b-44b0-849b-1cff66be9a0a"
      },
      "execution_count": 74,
      "outputs": [
        {
          "output_type": "execute_result",
          "data": {
            "text/plain": [
              "Sequential(\n",
              "  (0): Linear(in_features=16, out_features=512, bias=True)\n",
              "  (1): ReLU()\n",
              "  (2): Linear(in_features=512, out_features=256, bias=True)\n",
              "  (3): ReLU()\n",
              "  (4): Linear(in_features=256, out_features=64, bias=True)\n",
              "  (5): ReLU()\n",
              "  (6): Linear(in_features=64, out_features=16, bias=True)\n",
              "  (7): ReLU()\n",
              "  (8): Linear(in_features=16, out_features=1, bias=True)\n",
              "  (9): Sigmoid()\n",
              ")"
            ]
          },
          "metadata": {},
          "execution_count": 74
        }
      ]
    },
    {
      "cell_type": "markdown",
      "source": [
        "# **Step3: Loss function**"
      ],
      "metadata": {
        "id": "ihdVZwBUD3WO"
      }
    },
    {
      "cell_type": "code",
      "source": [
        "loss_fn= nn.BCELoss()\n",
        "loss_fn"
      ],
      "metadata": {
        "id": "mhx2QpGGGHgy",
        "colab": {
          "base_uri": "https://localhost:8080/"
        },
        "outputId": "ca554799-4d71-438b-e686-28dfbc3f8f58"
      },
      "execution_count": 75,
      "outputs": [
        {
          "output_type": "execute_result",
          "data": {
            "text/plain": [
              "BCELoss()"
            ]
          },
          "metadata": {},
          "execution_count": 75
        }
      ]
    },
    {
      "cell_type": "markdown",
      "source": [
        "# **Step4: Optimizer**"
      ],
      "metadata": {
        "id": "6cfEKpvFGpoc"
      }
    },
    {
      "cell_type": "code",
      "source": [
        "opt= torch.optim.SGD(model.parameters(), lr=0.0001, momentum=0.9)\n",
        "opt= torch.optim.Adam(model.parameters(), lr=0.0001)\n",
        "opt"
      ],
      "metadata": {
        "colab": {
          "base_uri": "https://localhost:8080/"
        },
        "id": "9vc3w1rHGo-l",
        "outputId": "a5587283-09e0-41dc-ad5b-3a5966b151ad"
      },
      "execution_count": 76,
      "outputs": [
        {
          "output_type": "execute_result",
          "data": {
            "text/plain": [
              "Adam (\n",
              "Parameter Group 0\n",
              "    amsgrad: False\n",
              "    betas: (0.9, 0.999)\n",
              "    capturable: False\n",
              "    differentiable: False\n",
              "    eps: 1e-08\n",
              "    foreach: None\n",
              "    fused: None\n",
              "    lr: 0.0001\n",
              "    maximize: False\n",
              "    weight_decay: 0\n",
              ")"
            ]
          },
          "metadata": {},
          "execution_count": 76
        }
      ]
    },
    {
      "cell_type": "markdown",
      "source": [
        "# **Step5: Train loop**"
      ],
      "metadata": {
        "id": "8eilUsCEHUGw"
      }
    },
    {
      "cell_type": "code",
      "source": [
        "def matthews_correlation_coefficient(y_true, y_pred):\n",
        "    \"\"\"\n",
        "    Calculate Matthews Correlation Coefficient (MCC) on GPU using PyTorch.\n",
        "\n",
        "    Args:\n",
        "        y_true (torch.Tensor): Ground truth labels (binary, 0 or 1).\n",
        "        y_pred (torch.Tensor): Predicted labels (binary, 0 or 1).\n",
        "\n",
        "    Returns:\n",
        "        mcc (torch.Tensor): MCC value.\n",
        "    \"\"\"\n",
        "\n",
        "    # Calculate confusion matrix components\n",
        "    TP = ((y_true == 1) & (y_pred == 1)).sum().float()\n",
        "    TN = ((y_true == 0) & (y_pred == 0)).sum().float()\n",
        "    FP = ((y_true == 0) & (y_pred == 1)).sum().float()\n",
        "    FN = ((y_true == 1) & (y_pred == 0)).sum().float()\n",
        "\n",
        "    # Calculate numerator and denominator\n",
        "    numerator = (TP * TN) - (FP * FN)\n",
        "    denominator = torch.sqrt((TP + FP) * (TP + FN) * (TN + FP) * (TN + FN))\n",
        "\n",
        "    # Handle division by zero\n",
        "    if denominator == 0:\n",
        "        return torch.tensor(0.0, device=y_true.device)\n",
        "    else:\n",
        "        return numerator / denominator"
      ],
      "metadata": {
        "id": "0XsO895og_CK"
      },
      "execution_count": 48,
      "outputs": []
    },
    {
      "cell_type": "code",
      "source": [
        "best_loss_val = 10000\n",
        "loss_train_hist, loss_val_hist =[], []\n",
        "acc_train_hist, acc_val_hist= [], []"
      ],
      "metadata": {
        "id": "2wolHbtEZXNO"
      },
      "execution_count": 77,
      "outputs": []
    },
    {
      "cell_type": "code",
      "source": [
        "epochs= 2\n",
        "\n",
        "for epoch in range(epochs):\n",
        "  mean_loss_train, mean_acc_train, train_mcc= 0, 0, 0\n",
        "  mean_loss_val, mean_acc_val, val_mcc= 0, 0, 0\n",
        "\n",
        "  for x_batch, y_batch in train_loader:\n",
        "\n",
        "    #GPU\n",
        "    x_batch = x_batch.to(device)\n",
        "    y_batch= y_batch.to(device)\n",
        "\n",
        "    #model\n",
        "    y_hat= model(x_batch)\n",
        "\n",
        "    #loss\n",
        "    loss= loss_fn(y_hat, y_batch)\n",
        "\n",
        "    # gradient\n",
        "    loss.backward()\n",
        "\n",
        "    # update\n",
        "    opt.step()\n",
        "    opt.zero_grad()\n",
        "\n",
        "    mean_loss_train += loss.item() * len(x_batch)\n",
        "    mean_acc_train += torch.sum(y_hat.round() == y_batch).item()\n",
        "    # train_mcc += matthews_correlation_coefficient(y_batch, y_hat.round())\n",
        "\n",
        "  mean_loss_train /= len(train_set)\n",
        "  mean_acc_train /= len(train_set)\n",
        "  # train_mcc /= len(train_set)\n",
        "  loss_train_hist.append(mean_loss_train)\n",
        "  acc_train_hist.append(mean_acc_train)\n",
        "\n",
        "\n",
        "  with torch.no_grad():\n",
        "    for x_batch, y_batch in val_loader:\n",
        "\n",
        "      #GPU\n",
        "      x_batch = x_batch.to(device)\n",
        "      y_batch= y_batch.to(device)\n",
        "\n",
        "      y_hat= model(x_batch)\n",
        "\n",
        "      loss= loss_fn(y_hat, y_batch)\n",
        "\n",
        "      mean_loss_val += loss.item() * len(x_batch)\n",
        "      mean_acc_val += torch.sum(y_hat.round() == y_batch).item()\n",
        "      # val_mcc += matthews_correlation_coefficient(y_batch, y_hat.round())\n",
        "      # print(f'Matthews Correlation Coefficient: {val_mcc:.3f}')\n",
        "\n",
        "    mean_loss_val /= len(val_set)\n",
        "    mean_acc_val /= len(val_set)\n",
        "    # val_mcc /= len(val_set)\n",
        "    loss_val_hist.append(mean_loss_val)\n",
        "    acc_val_hist.append(mean_acc_val)\n",
        "\n",
        "  print(f'epoch[{epoch}]: '\n",
        "      f'Train_loss: {mean_loss_train:.3f} ,'\n",
        "      f'Train_acc: {mean_acc_train:.3f} ,'\n",
        "      # f'mcc: {train_mcc:.3f} '\n",
        "      f'val_loss: {mean_loss_val:.3f} ,'\n",
        "      f'val_acc: {mean_acc_val:.3f} '\n",
        "      # f'mcc: {val_mcc:.3f}'\n",
        "      )\n",
        "\n",
        "  if mean_loss_val < best_loss_val:\n",
        "    best_loss_val = mean_loss_val\n",
        "    print('model saved!')\n",
        "    print()\n",
        "    torch.save(model,'/content/drive/MyDrive/Projects/best_model.pt')"
      ],
      "metadata": {
        "colab": {
          "base_uri": "https://localhost:8080/"
        },
        "id": "qgUuzj-RHTHa",
        "outputId": "20442341-ad24-4223-d56e-972cd904f47b"
      },
      "execution_count": 79,
      "outputs": [
        {
          "output_type": "stream",
          "name": "stdout",
          "text": [
            "epoch[0]: Train_loss: 0.049 ,Train_acc: 0.988 ,val_loss: 0.049 ,val_acc: 0.988 \n",
            "model saved!\n",
            "\n",
            "epoch[1]: Train_loss: 0.048 ,Train_acc: 0.988 ,val_loss: 0.049 ,val_acc: 0.988 \n",
            "model saved!\n",
            "\n"
          ]
        }
      ]
    },
    {
      "cell_type": "code",
      "source": [
        "plt.plot(torch.arange(len(loss_train_hist)), loss_train_hist)\n",
        "plt.plot(torch.arange(len(loss_val_hist)), loss_val_hist)\n",
        "\n",
        "plt.legend([\"Train\", \"Valid\"]);"
      ],
      "metadata": {
        "colab": {
          "base_uri": "https://localhost:8080/",
          "height": 430
        },
        "id": "HS4TXCP-NOdb",
        "outputId": "8b7c5046-cb14-40a9-a2e4-f797d6bce7fa"
      },
      "execution_count": 80,
      "outputs": [
        {
          "output_type": "display_data",
          "data": {
            "text/plain": [
              "<Figure size 640x480 with 1 Axes>"
            ],
            "image/png": "[encoded data removed]"
          },
          "metadata": {}
        }
      ]
    },
    {
      "cell_type": "code",
      "source": [
        "plt.plot(torch.arange(len(acc_train_hist)), acc_train_hist)\n",
        "plt.plot(torch.arange(len(acc_val_hist)), acc_val_hist)\n",
        "plt.legend([\"Train\", \"Valid\"]);"
      ],
      "metadata": {
        "colab": {
          "base_uri": "https://localhost:8080/",
          "height": 435
        },
        "id": "5ErXc8n1aNpG",
        "outputId": "b77702c1-5f7a-47ef-8f7c-373ee2cc0d59"
      },
      "execution_count": 81,
      "outputs": [
        {
          "output_type": "display_data",
          "data": {
            "text/plain": [
              "<Figure size 640x480 with 1 Axes>"
            ],
            "image/png": "[encoded data removed]"
          },
          "metadata": {}
        }
      ]
    },
    {
      "cell_type": "code",
      "source": [
        "model = torch.load(\"/content/drive/MyDrive/Projects/best_model.pt\")"
      ],
      "metadata": {
        "id": "HqGEq_7CbXPr"
      },
      "execution_count": 82,
      "outputs": []
    },
    {
      "cell_type": "code",
      "source": [
        "predictions = []\n",
        "\n",
        "with torch.no_grad():\n",
        "  for x_batch, _ in test_loader:\n",
        "    x_batch= x_batch.to(device)\n",
        "    y_hat = model(x_batch)\n",
        "    predictions.extend(y_hat.round().cpu().numpy())\n",
        "\n",
        "\n",
        "# Generate IDs starting from 3116945\n",
        "start_id = 3116945\n",
        "ids = list(range(start_id, start_id + len(predictions)))\n",
        "\n",
        "# Convert predictions to a DataFrame\n",
        "predictions_df = pd.DataFrame({\n",
        "    'ID': ids,  # Add ID column\n",
        "    'Prediction': predictions  # Add prediction column\n",
        "})\n"
      ],
      "metadata": {
        "id": "Zbp57H0lyKDy"
      },
      "execution_count": null,
      "outputs": []
    },
    {
      "cell_type": "code",
      "source": [
        "import ast"
      ],
      "metadata": {
        "id": "G2882WE6rdUh"
      },
      "execution_count": null,
      "outputs": []
    },
    {
      "cell_type": "code",
      "source": [
        "predictions_df.info()"
      ],
      "metadata": {
        "id": "zR7XK_eBYa76"
      },
      "execution_count": null,
      "outputs": []
    },
    {
      "cell_type": "code",
      "source": [
        "# predictions_df['Prediction'] = predictions_df['Prediction'].apply(lambda x: int(ast.literal_eval(x)[0]))\n",
        "predictions_df['Prediction'] = predictions_df['Prediction'].apply(lambda x: int(x))\n",
        "predictions_df"
      ],
      "metadata": {
        "id": "1-MkNU1Mrvom"
      },
      "execution_count": null,
      "outputs": []
    },
    {
      "cell_type": "code",
      "source": [
        "label_map= {0: 'e', 1: 'p'}\n",
        "\n",
        "predictions_df['Prediction']= predictions_df['Prediction'].apply(lambda x: label_map[x])\n",
        "predictions_df"
      ],
      "metadata": {
        "id": "c1WIFT9UvQHr"
      },
      "execution_count": null,
      "outputs": []
    },
    {
      "cell_type": "code",
      "source": [
        "predictions_df= predictions_df.rename(columns= {'ID': 'id', 'Prediction': 'class'})\n",
        "predictions_df"
      ],
      "metadata": {
        "id": "eHJQMPSGzgGo"
      },
      "execution_count": null,
      "outputs": []
    },
    {
      "cell_type": "code",
      "source": [
        "# Save to Excel\n",
        "predictions_df.to_csv('/content/drive/MyDrive/dataset/playground-series-s4e8_v2.csv', index=False)\n",
        "\n",
        "print(\"Predictions with IDs saved to 'playground-series-s4e8_v2.csv'\")"
      ],
      "metadata": {
        "id": "XI63N1W2r9Bf"
      },
      "execution_count": null,
      "outputs": []
    }
  ]
}