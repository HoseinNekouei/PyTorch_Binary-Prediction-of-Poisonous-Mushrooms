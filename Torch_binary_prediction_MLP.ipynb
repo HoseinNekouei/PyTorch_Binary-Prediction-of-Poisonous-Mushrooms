{
  "nbformat": 4,
  "nbformat_minor": 0,
  "metadata": {
    "colab": {
      "provenance": [],
      "mount_file_id": "1yyeiVXypOdRpfhunEihIOY7_d80gn4ky",
      "authorship_tag": "ABX9TyNVEiB1Kj+5Aot83ve8srVX",
      "include_colab_link": true
    },
    "kernelspec": {
      "name": "python3",
      "display_name": "Python 3"
    },
    "language_info": {
      "name": "python"
    }
  },
  "cells": [
    {
      "cell_type": "markdown",
      "metadata": {
        "id": "view-in-github",
        "colab_type": "text"
      },
      "source": [
        "<a href=\"https://colab.research.google.com/github/HoseinNekouei/PyTorch_Binary-Prediction-of-Poisonous-Mushrooms/blob/main/Torch_binary_prediction_MLP.ipynb\" target=\"_parent\"><img src=\"https://colab.research.google.com/assets/colab-badge.svg\" alt=\"Open In Colab\"/></a>"
      ]
    },
    {
      "cell_type": "markdown",
      "source": [
        "# **Import Dataset**"
      ],
      "metadata": {
        "id": "6xog5znB3_bt"
      }
    },
    {
      "cell_type": "code",
      "execution_count": null,
      "metadata": {
        "id": "WNUCNUR-kOhm"
      },
      "outputs": [],
      "source": [
        "from google.colab import drive\n",
        "\n",
        "drive.mount('/content/drive')"
      ]
    },
    {
      "cell_type": "code",
      "source": [
        "!mkdir /content/data"
      ],
      "metadata": {
        "id": "kxP1SbrFs1uN"
      },
      "execution_count": null,
      "outputs": []
    },
    {
      "cell_type": "code",
      "source": [
        "!cp /content/drive/MyDrive/dataset/playground-series-s4e8_2.zip /content/data"
      ],
      "metadata": {
        "id": "OEVAVPV6kvFi"
      },
      "execution_count": null,
      "outputs": []
    },
    {
      "cell_type": "code",
      "source": [
        "!unzip /content/data/playground-series-s4e8_2.zip -d /content/data"
      ],
      "metadata": {
        "id": "NcDDVmvQs7t-"
      },
      "execution_count": null,
      "outputs": []
    },
    {
      "cell_type": "code",
      "source": [
        "# !rm /content/test.csv\n",
        "# !rm /content/train.csv\n",
        "# !rm /content/sample_submission.csv"
      ],
      "metadata": {
        "id": "BrctzKQttAm0"
      },
      "execution_count": null,
      "outputs": []
    },
    {
      "cell_type": "markdown",
      "source": [
        "# **Import Library**"
      ],
      "metadata": {
        "id": "wZMvzMcl4Jfg"
      }
    },
    {
      "cell_type": "code",
      "source": [
        "import pandas as pd\n",
        "import numpy as np\n",
        "import matplotlib.pyplot as plt\n",
        "\n",
        "from sklearn.model_selection import train_test_split\n",
        "from sklearn.preprocessing import StandardScaler, LabelEncoder, OrdinalEncoder"
      ],
      "metadata": {
        "id": "ux12uwaUtzC1"
      },
      "execution_count": null,
      "outputs": []
    },
    {
      "cell_type": "code",
      "source": [
        "import torch\n",
        "import torch.nn as nn\n",
        "from torch.utils.data import TensorDataset, DataLoader\n"
      ],
      "metadata": {
        "id": "RKJri4_6u-bo"
      },
      "execution_count": null,
      "outputs": []
    },
    {
      "cell_type": "markdown",
      "source": [
        "# **Preprocessing**"
      ],
      "metadata": {
        "id": "Tr_8LGsd2_uD"
      }
    },
    {
      "cell_type": "markdown",
      "source": [
        "  # *Load Train set*"
      ],
      "metadata": {
        "id": "eaLnBlsK2_Zc"
      }
    },
    {
      "cell_type": "code",
      "source": [
        "train_df= pd.read_csv('/content/data/train.csv')\n",
        "train_df"
      ],
      "metadata": {
        "id": "5i0hAaSQvTa3"
      },
      "execution_count": null,
      "outputs": []
    },
    {
      "cell_type": "code",
      "source": [
        "train_df[train_df.isna().any(axis=1)]"
      ],
      "metadata": {
        "id": "wcMzXo9CgEKz"
      },
      "execution_count": null,
      "outputs": []
    },
    {
      "cell_type": "markdown",
      "source": [
        "# *NaN*"
      ],
      "metadata": {
        "id": "TGds_O8X3Wxo"
      }
    },
    {
      "cell_type": "code",
      "source": [
        "train_df= train_df.drop(columns= ['id'])\n",
        "train_df.info()"
      ],
      "metadata": {
        "id": "eR-ELbL6vd42"
      },
      "execution_count": null,
      "outputs": []
    },
    {
      "cell_type": "code",
      "source": [
        "train_df.isna().mean()"
      ],
      "metadata": {
        "id": "doVv4vGXvqc-"
      },
      "execution_count": null,
      "outputs": []
    },
    {
      "cell_type": "code",
      "source": [
        "missing_treshold= 0.85\n",
        "\n",
        "high_missing_columns= train_df.columns[train_df.isna().mean() > missing_treshold]\n",
        "high_missing_columns\n",
        "\n",
        "train_df= train_df.drop(columns= high_missing_columns)\n",
        "train_df.head()"
      ],
      "metadata": {
        "id": "Fv0NuuIBvvvm"
      },
      "execution_count": null,
      "outputs": []
    },
    {
      "cell_type": "code",
      "source": [
        "mode_values= train_df.mode()\n",
        "mode_values= mode_values.loc[0].to_dict()\n",
        "mode_values"
      ],
      "metadata": {
        "id": "XXaMAt1PxdGi"
      },
      "execution_count": null,
      "outputs": []
    },
    {
      "cell_type": "code",
      "source": [
        "median_values= train_df.median(numeric_only= True).to_dict()\n",
        "median_values"
      ],
      "metadata": {
        "id": "V8kDJGFwycVh"
      },
      "execution_count": null,
      "outputs": []
    },
    {
      "cell_type": "code",
      "source": [
        "for column in train_df:\n",
        "  if train_df[column].isna().any():\n",
        "    if train_df[column].dtype== 'object':\n",
        "      train_df[column]= train_df[column].fillna(mode_values[column])\n",
        "    else:\n",
        "      train_df[column]= train_df[column].fillna(median_values[column])\n",
        "\n",
        "train_df.isna().median()"
      ],
      "metadata": {
        "id": "FKRGV0_ZZ_1B"
      },
      "execution_count": null,
      "outputs": []
    },
    {
      "cell_type": "code",
      "source": [
        "train_df[train_df.isna().any(axis=1)]"
      ],
      "metadata": {
        "id": "8AdRGDlCbOf0"
      },
      "execution_count": null,
      "outputs": []
    },
    {
      "cell_type": "markdown",
      "source": [
        "# *Split Dataframe to train and validation*"
      ],
      "metadata": {
        "id": "mreY_G_RkFXF"
      }
    },
    {
      "cell_type": "code",
      "source": [
        "num_samples, num_features= train_df.shape\n",
        "num_features-= 1\n",
        "num_classes= len(train_df['class'].unique())\n",
        "print(f'num_sample: {num_samples}, num_features: {num_features}, num_classes: {num_classes}')"
      ],
      "metadata": {
        "id": "f8HWG3TRnGwR"
      },
      "execution_count": null,
      "outputs": []
    },
    {
      "cell_type": "code",
      "source": [
        "train_set, val_set= train_test_split(train_df, test_size=0.2, random_state=42)\n",
        "print(f'train_set: {train_set.shape}, val_set: {val_set.shape}')"
      ],
      "metadata": {
        "id": "DHL6x0UOblfr"
      },
      "execution_count": null,
      "outputs": []
    },
    {
      "cell_type": "markdown",
      "source": [
        "# *Encoding*"
      ],
      "metadata": {
        "id": "eAenCkbcopup"
      }
    },
    {
      "cell_type": "code",
      "source": [
        "ordinal_encoder= OrdinalEncoder(handle_unknown='use_encoded_value', unknown_value= -1)\n",
        "cat_col_train= train_set.select_dtypes(include=['object']).columns\n",
        "print(cat_col_train)\n",
        "\n",
        "train_set[cat_col_train]= ordinal_encoder.fit_transform(train_set[cat_col_train]).astype(str)\n",
        "val_set[cat_col_train]= ordinal_encoder.transform(val_set[cat_col_train]).astype(str)\n",
        "\n",
        "train_set.head(), val_set.head()"
      ],
      "metadata": {
        "id": "FYczavgkk4wR"
      },
      "execution_count": null,
      "outputs": []
    },
    {
      "cell_type": "code",
      "source": [
        "# Delete unused variable\n",
        "del train_df\n",
        "\n",
        "# Force  garbage collection\n",
        "import gc\n",
        "gc.collect()"
      ],
      "metadata": {
        "id": "xqRTMyv8sbKZ"
      },
      "execution_count": null,
      "outputs": []
    },
    {
      "cell_type": "code",
      "source": [
        "# Check current RAM usage\n",
        "import psutil\n",
        "ram_usage = psutil.virtual_memory()\n",
        "print(f\"Used RAM: {ram_usage.used / (1024 ** 3):.2f} GB\")\n",
        "print(f\"Available RAM: {ram_usage.available / (1024 ** 3):.2f} GB\")"
      ],
      "metadata": {
        "id": "ndWK-tIJu-U2",
        "outputId": "93d11b90-1ab1-41e6-84cf-0390bea7d3d1",
        "colab": {
          "base_uri": "https://localhost:8080/"
        }
      },
      "execution_count": 26,
      "outputs": [
        {
          "output_type": "stream",
          "name": "stdout",
          "text": [
            "Used RAM: 7.27 GB\n",
            "Available RAM: 5.10 GB\n"
          ]
        }
      ]
    },
    {
      "cell_type": "code",
      "source": [],
      "metadata": {
        "id": "mLsfnslQu-4y"
      },
      "execution_count": null,
      "outputs": []
    }
  ]
}