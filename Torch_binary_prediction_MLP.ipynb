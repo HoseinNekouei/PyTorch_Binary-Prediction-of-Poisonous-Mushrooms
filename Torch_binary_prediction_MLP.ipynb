{
  "nbformat": 4,
  "nbformat_minor": 0,
  "metadata": {
    "colab": {
      "provenance": [],
      "gpuType": "T4",
      "mount_file_id": "1yyeiVXypOdRpfhunEihIOY7_d80gn4ky",
      "authorship_tag": "ABX9TyOHLsZj7PHKSGr8ELI1oIGE",
      "include_colab_link": true
    },
    "kernelspec": {
      "name": "python3",
      "display_name": "Python 3"
    },
    "language_info": {
      "name": "python"
    },
    "accelerator": "GPU"
  },
  "cells": [
    {
      "cell_type": "markdown",
      "metadata": {
        "id": "view-in-github",
        "colab_type": "text"
      },
      "source": [
        "<a href=\"https://colab.research.google.com/github/HoseinNekouei/PyTorch_Binary-Prediction-of-Poisonous-Mushrooms/blob/main/Torch_binary_prediction_MLP.ipynb\" target=\"_parent\"><img src=\"https://colab.research.google.com/assets/colab-badge.svg\" alt=\"Open In Colab\"/></a>"
      ]
    },
    {
      "cell_type": "markdown",
      "source": [
        "# **Import Dataset**"
      ],
      "metadata": {
        "id": "6xog5znB3_bt"
      }
    },
    {
      "cell_type": "code",
      "execution_count": 2,
      "metadata": {
        "id": "WNUCNUR-kOhm",
        "colab": {
          "base_uri": "https://localhost:8080/"
        },
        "outputId": "c33ea7e3-81eb-4216-b917-f0ee4c729e3b"
      },
      "outputs": [
        {
          "output_type": "stream",
          "name": "stdout",
          "text": [
            "Mounted at /content/drive\n"
          ]
        }
      ],
      "source": [
        "from google.colab import drive\n",
        "\n",
        "drive.mount('/content/drive')"
      ]
    },
    {
      "cell_type": "code",
      "source": [
        "!mkdir /content/data"
      ],
      "metadata": {
        "id": "kxP1SbrFs1uN"
      },
      "execution_count": 3,
      "outputs": []
    },
    {
      "cell_type": "code",
      "source": [
        "!cp /content/drive/MyDrive/dataset/playground-series-s4e8_2.zip /content/data"
      ],
      "metadata": {
        "id": "OEVAVPV6kvFi"
      },
      "execution_count": 4,
      "outputs": []
    },
    {
      "cell_type": "code",
      "source": [
        "!unzip /content/data/playground-series-s4e8_2.zip -d /content/data"
      ],
      "metadata": {
        "id": "NcDDVmvQs7t-",
        "colab": {
          "base_uri": "https://localhost:8080/"
        },
        "outputId": "e06a71c7-4705-46cb-a8a9-ebbdc15c6ead"
      },
      "execution_count": 5,
      "outputs": [
        {
          "output_type": "stream",
          "name": "stdout",
          "text": [
            "Archive:  /content/data/playground-series-s4e8_2.zip\n",
            "  inflating: /content/data/sample_submission.csv  \n",
            "  inflating: /content/data/test.csv  \n",
            "  inflating: /content/data/train.csv  \n"
          ]
        }
      ]
    },
    {
      "cell_type": "code",
      "source": [
        "# !rm /content/test.csv\n",
        "# !rm /content/train.csv\n",
        "# !rm /content/sample_submission.csv"
      ],
      "metadata": {
        "id": "BrctzKQttAm0"
      },
      "execution_count": 6,
      "outputs": []
    },
    {
      "cell_type": "markdown",
      "source": [
        "# **Import Library**"
      ],
      "metadata": {
        "id": "wZMvzMcl4Jfg"
      }
    },
    {
      "cell_type": "code",
      "source": [
        "import pandas as pd\n",
        "import numpy as np\n",
        "import matplotlib.pyplot as plt\n",
        "\n",
        "from sklearn.model_selection import train_test_split\n",
        "from sklearn.preprocessing import StandardScaler, LabelEncoder, OrdinalEncoder"
      ],
      "metadata": {
        "id": "ux12uwaUtzC1"
      },
      "execution_count": 7,
      "outputs": []
    },
    {
      "cell_type": "code",
      "source": [
        "import torch\n",
        "import torch.nn as nn\n",
        "from torch.utils.data import TensorDataset, DataLoader"
      ],
      "metadata": {
        "id": "RKJri4_6u-bo"
      },
      "execution_count": 8,
      "outputs": []
    },
    {
      "cell_type": "code",
      "source": [
        "device = 'cuda' if torch.cuda.is_available() else 'cpu'\n",
        "device"
      ],
      "metadata": {
        "colab": {
          "base_uri": "https://localhost:8080/",
          "height": 36
        },
        "id": "yhp5K0_ATAOE",
        "outputId": "69c767a9-31ed-4d10-ca6d-6dbcb3d26668"
      },
      "execution_count": 9,
      "outputs": [
        {
          "output_type": "execute_result",
          "data": {
            "text/plain": [
              "'cuda'"
            ],
            "application/vnd.google.colaboratory.intrinsic+json": {
              "type": "string"
            }
          },
          "metadata": {},
          "execution_count": 9
        }
      ]
    },
    {
      "cell_type": "markdown",
      "source": [
        "# **Step1: Data**\n",
        "\n",
        "\n"
      ],
      "metadata": {
        "id": "NlvdkgJqxzgu"
      }
    },
    {
      "cell_type": "markdown",
      "source": [
        "## **Preprocessing**"
      ],
      "metadata": {
        "id": "sKsvCrKgyjci"
      }
    },
    {
      "cell_type": "markdown",
      "source": [
        "### *Load Train set*\n",
        "\n",
        "\n"
      ],
      "metadata": {
        "id": "eaLnBlsK2_Zc"
      }
    },
    {
      "cell_type": "code",
      "source": [
        "train_df= pd.read_csv('/content/data/train.csv')\n",
        "train_df"
      ],
      "metadata": {
        "id": "5i0hAaSQvTa3",
        "outputId": "c54dd053-03bc-4d26-af62-96d5f7eacc79",
        "colab": {
          "base_uri": "https://localhost:8080/",
          "height": 495
        }
      },
      "execution_count": 10,
      "outputs": [
        {
          "output_type": "execute_result",
          "data": {
            "text/plain": [
              "              id class  cap-diameter cap-shape cap-surface cap-color  \\\n",
              "0              0     e          8.80         f           s         u   \n",
              "1              1     p          4.51         x           h         o   \n",
              "2              2     e          6.94         f           s         b   \n",
              "3              3     e          3.88         f           y         g   \n",
              "4              4     e          5.85         x           l         w   \n",
              "...          ...   ...           ...       ...         ...       ...   \n",
              "3116940  3116940     e          9.29         f         NaN         n   \n",
              "3116941  3116941     e         10.88         s         NaN         w   \n",
              "3116942  3116942     p          7.82         x           e         e   \n",
              "3116943  3116943     e          9.45         p           i         n   \n",
              "3116944  3116944     p          3.20         x           s         g   \n",
              "\n",
              "        does-bruise-or-bleed gill-attachment gill-spacing gill-color  ...  \\\n",
              "0                          f               a            c          w  ...   \n",
              "1                          f               a            c          n  ...   \n",
              "2                          f               x            c          w  ...   \n",
              "3                          f               s          NaN          g  ...   \n",
              "4                          f               d          NaN          w  ...   \n",
              "...                      ...             ...          ...        ...  ...   \n",
              "3116940                    t             NaN          NaN          w  ...   \n",
              "3116941                    t               d            c          p  ...   \n",
              "3116942                    f               a          NaN          w  ...   \n",
              "3116943                    t               e          NaN          p  ...   \n",
              "3116944                    f               d            c          w  ...   \n",
              "\n",
              "         stem-root  stem-surface stem-color veil-type veil-color has-ring  \\\n",
              "0              NaN           NaN          w       NaN        NaN        f   \n",
              "1              NaN             y          o       NaN        NaN        t   \n",
              "2              NaN             s          n       NaN        NaN        f   \n",
              "3              NaN           NaN          w       NaN        NaN        f   \n",
              "4              NaN           NaN          w       NaN        NaN        f   \n",
              "...            ...           ...        ...       ...        ...      ...   \n",
              "3116940          b           NaN          w         u          w        t   \n",
              "3116941        NaN           NaN          w       NaN        NaN        f   \n",
              "3116942        NaN           NaN          y       NaN          w        t   \n",
              "3116943        NaN             y          w       NaN        NaN        t   \n",
              "3116944        NaN           NaN          w       NaN        NaN        f   \n",
              "\n",
              "        ring-type spore-print-color habitat season  \n",
              "0               f               NaN       d      a  \n",
              "1               z               NaN       d      w  \n",
              "2               f               NaN       l      w  \n",
              "3               f               NaN       d      u  \n",
              "4               f               NaN       g      a  \n",
              "...           ...               ...     ...    ...  \n",
              "3116940         g               NaN       d      u  \n",
              "3116941         f               NaN       d      u  \n",
              "3116942         z               NaN       d      a  \n",
              "3116943         p               NaN       d      u  \n",
              "3116944         f               NaN       g      u  \n",
              "\n",
              "[3116945 rows x 22 columns]"
            ],
            "text/html": [
              "\n",
              "  <div id=\"df-eec0ca73-6943-45bb-aa46-27d648192a8d\" class=\"colab-df-container\">\n",
              "    <div>\n",
              "<style scoped>\n",
              "    .dataframe tbody tr th:only-of-type {\n",
              "        vertical-align: middle;\n",
              "    }\n",
              "\n",
              "    .dataframe tbody tr th {\n",
              "        vertical-align: top;\n",
              "    }\n",
              "\n",
              "    .dataframe thead th {\n",
              "        text-align: right;\n",
              "    }\n",
              "</style>\n",
              "<table border=\"1\" class=\"dataframe\">\n",
              "  <thead>\n",
              "    <tr style=\"text-align: right;\">\n",
              "      <th></th>\n",
              "      <th>id</th>\n",
              "      <th>class</th>\n",
              "      <th>cap-diameter</th>\n",
              "      <th>cap-shape</th>\n",
              "      <th>cap-surface</th>\n",
              "      <th>cap-color</th>\n",
              "      <th>does-bruise-or-bleed</th>\n",
              "      <th>gill-attachment</th>\n",
              "      <th>gill-spacing</th>\n",
              "      <th>gill-color</th>\n",
              "      <th>...</th>\n",
              "      <th>stem-root</th>\n",
              "      <th>stem-surface</th>\n",
              "      <th>stem-color</th>\n",
              "      <th>veil-type</th>\n",
              "      <th>veil-color</th>\n",
              "      <th>has-ring</th>\n",
              "      <th>ring-type</th>\n",
              "      <th>spore-print-color</th>\n",
              "      <th>habitat</th>\n",
              "      <th>season</th>\n",
              "    </tr>\n",
              "  </thead>\n",
              "  <tbody>\n",
              "    <tr>\n",
              "      <th>0</th>\n",
              "      <td>0</td>\n",
              "      <td>e</td>\n",
              "      <td>8.80</td>\n",
              "      <td>f</td>\n",
              "      <td>s</td>\n",
              "      <td>u</td>\n",
              "      <td>f</td>\n",
              "      <td>a</td>\n",
              "      <td>c</td>\n",
              "      <td>w</td>\n",
              "      <td>...</td>\n",
              "      <td>NaN</td>\n",
              "      <td>NaN</td>\n",
              "      <td>w</td>\n",
              "      <td>NaN</td>\n",
              "      <td>NaN</td>\n",
              "      <td>f</td>\n",
              "      <td>f</td>\n",
              "      <td>NaN</td>\n",
              "      <td>d</td>\n",
              "      <td>a</td>\n",
              "    </tr>\n",
              "    <tr>\n",
              "      <th>1</th>\n",
              "      <td>1</td>\n",
              "      <td>p</td>\n",
              "      <td>4.51</td>\n",
              "      <td>x</td>\n",
              "      <td>h</td>\n",
              "      <td>o</td>\n",
              "      <td>f</td>\n",
              "      <td>a</td>\n",
              "      <td>c</td>\n",
              "      <td>n</td>\n",
              "      <td>...</td>\n",
              "      <td>NaN</td>\n",
              "      <td>y</td>\n",
              "      <td>o</td>\n",
              "      <td>NaN</td>\n",
              "      <td>NaN</td>\n",
              "      <td>t</td>\n",
              "      <td>z</td>\n",
              "      <td>NaN</td>\n",
              "      <td>d</td>\n",
              "      <td>w</td>\n",
              "    </tr>\n",
              "    <tr>\n",
              "      <th>2</th>\n",
              "      <td>2</td>\n",
              "      <td>e</td>\n",
              "      <td>6.94</td>\n",
              "      <td>f</td>\n",
              "      <td>s</td>\n",
              "      <td>b</td>\n",
              "      <td>f</td>\n",
              "      <td>x</td>\n",
              "      <td>c</td>\n",
              "      <td>w</td>\n",
              "      <td>...</td>\n",
              "      <td>NaN</td>\n",
              "      <td>s</td>\n",
              "      <td>n</td>\n",
              "      <td>NaN</td>\n",
              "      <td>NaN</td>\n",
              "      <td>f</td>\n",
              "      <td>f</td>\n",
              "      <td>NaN</td>\n",
              "      <td>l</td>\n",
              "      <td>w</td>\n",
              "    </tr>\n",
              "    <tr>\n",
              "      <th>3</th>\n",
              "      <td>3</td>\n",
              "      <td>e</td>\n",
              "      <td>3.88</td>\n",
              "      <td>f</td>\n",
              "      <td>y</td>\n",
              "      <td>g</td>\n",
              "      <td>f</td>\n",
              "      <td>s</td>\n",
              "      <td>NaN</td>\n",
              "      <td>g</td>\n",
              "      <td>...</td>\n",
              "      <td>NaN</td>\n",
              "      <td>NaN</td>\n",
              "      <td>w</td>\n",
              "      <td>NaN</td>\n",
              "      <td>NaN</td>\n",
              "      <td>f</td>\n",
              "      <td>f</td>\n",
              "      <td>NaN</td>\n",
              "      <td>d</td>\n",
              "      <td>u</td>\n",
              "    </tr>\n",
              "    <tr>\n",
              "      <th>4</th>\n",
              "      <td>4</td>\n",
              "      <td>e</td>\n",
              "      <td>5.85</td>\n",
              "      <td>x</td>\n",
              "      <td>l</td>\n",
              "      <td>w</td>\n",
              "      <td>f</td>\n",
              "      <td>d</td>\n",
              "      <td>NaN</td>\n",
              "      <td>w</td>\n",
              "      <td>...</td>\n",
              "      <td>NaN</td>\n",
              "      <td>NaN</td>\n",
              "      <td>w</td>\n",
              "      <td>NaN</td>\n",
              "      <td>NaN</td>\n",
              "      <td>f</td>\n",
              "      <td>f</td>\n",
              "      <td>NaN</td>\n",
              "      <td>g</td>\n",
              "      <td>a</td>\n",
              "    </tr>\n",
              "    <tr>\n",
              "      <th>...</th>\n",
              "      <td>...</td>\n",
              "      <td>...</td>\n",
              "      <td>...</td>\n",
              "      <td>...</td>\n",
              "      <td>...</td>\n",
              "      <td>...</td>\n",
              "      <td>...</td>\n",
              "      <td>...</td>\n",
              "      <td>...</td>\n",
              "      <td>...</td>\n",
              "      <td>...</td>\n",
              "      <td>...</td>\n",
              "      <td>...</td>\n",
              "      <td>...</td>\n",
              "      <td>...</td>\n",
              "      <td>...</td>\n",
              "      <td>...</td>\n",
              "      <td>...</td>\n",
              "      <td>...</td>\n",
              "      <td>...</td>\n",
              "      <td>...</td>\n",
              "    </tr>\n",
              "    <tr>\n",
              "      <th>3116940</th>\n",
              "      <td>3116940</td>\n",
              "      <td>e</td>\n",
              "      <td>9.29</td>\n",
              "      <td>f</td>\n",
              "      <td>NaN</td>\n",
              "      <td>n</td>\n",
              "      <td>t</td>\n",
              "      <td>NaN</td>\n",
              "      <td>NaN</td>\n",
              "      <td>w</td>\n",
              "      <td>...</td>\n",
              "      <td>b</td>\n",
              "      <td>NaN</td>\n",
              "      <td>w</td>\n",
              "      <td>u</td>\n",
              "      <td>w</td>\n",
              "      <td>t</td>\n",
              "      <td>g</td>\n",
              "      <td>NaN</td>\n",
              "      <td>d</td>\n",
              "      <td>u</td>\n",
              "    </tr>\n",
              "    <tr>\n",
              "      <th>3116941</th>\n",
              "      <td>3116941</td>\n",
              "      <td>e</td>\n",
              "      <td>10.88</td>\n",
              "      <td>s</td>\n",
              "      <td>NaN</td>\n",
              "      <td>w</td>\n",
              "      <td>t</td>\n",
              "      <td>d</td>\n",
              "      <td>c</td>\n",
              "      <td>p</td>\n",
              "      <td>...</td>\n",
              "      <td>NaN</td>\n",
              "      <td>NaN</td>\n",
              "      <td>w</td>\n",
              "      <td>NaN</td>\n",
              "      <td>NaN</td>\n",
              "      <td>f</td>\n",
              "      <td>f</td>\n",
              "      <td>NaN</td>\n",
              "      <td>d</td>\n",
              "      <td>u</td>\n",
              "    </tr>\n",
              "    <tr>\n",
              "      <th>3116942</th>\n",
              "      <td>3116942</td>\n",
              "      <td>p</td>\n",
              "      <td>7.82</td>\n",
              "      <td>x</td>\n",
              "      <td>e</td>\n",
              "      <td>e</td>\n",
              "      <td>f</td>\n",
              "      <td>a</td>\n",
              "      <td>NaN</td>\n",
              "      <td>w</td>\n",
              "      <td>...</td>\n",
              "      <td>NaN</td>\n",
              "      <td>NaN</td>\n",
              "      <td>y</td>\n",
              "      <td>NaN</td>\n",
              "      <td>w</td>\n",
              "      <td>t</td>\n",
              "      <td>z</td>\n",
              "      <td>NaN</td>\n",
              "      <td>d</td>\n",
              "      <td>a</td>\n",
              "    </tr>\n",
              "    <tr>\n",
              "      <th>3116943</th>\n",
              "      <td>3116943</td>\n",
              "      <td>e</td>\n",
              "      <td>9.45</td>\n",
              "      <td>p</td>\n",
              "      <td>i</td>\n",
              "      <td>n</td>\n",
              "      <td>t</td>\n",
              "      <td>e</td>\n",
              "      <td>NaN</td>\n",
              "      <td>p</td>\n",
              "      <td>...</td>\n",
              "      <td>NaN</td>\n",
              "      <td>y</td>\n",
              "      <td>w</td>\n",
              "      <td>NaN</td>\n",
              "      <td>NaN</td>\n",
              "      <td>t</td>\n",
              "      <td>p</td>\n",
              "      <td>NaN</td>\n",
              "      <td>d</td>\n",
              "      <td>u</td>\n",
              "    </tr>\n",
              "    <tr>\n",
              "      <th>3116944</th>\n",
              "      <td>3116944</td>\n",
              "      <td>p</td>\n",
              "      <td>3.20</td>\n",
              "      <td>x</td>\n",
              "      <td>s</td>\n",
              "      <td>g</td>\n",
              "      <td>f</td>\n",
              "      <td>d</td>\n",
              "      <td>c</td>\n",
              "      <td>w</td>\n",
              "      <td>...</td>\n",
              "      <td>NaN</td>\n",
              "      <td>NaN</td>\n",
              "      <td>w</td>\n",
              "      <td>NaN</td>\n",
              "      <td>NaN</td>\n",
              "      <td>f</td>\n",
              "      <td>f</td>\n",
              "      <td>NaN</td>\n",
              "      <td>g</td>\n",
              "      <td>u</td>\n",
              "    </tr>\n",
              "  </tbody>\n",
              "</table>\n",
              "<p>3116945 rows × 22 columns</p>\n",
              "</div>\n",
              "    <div class=\"colab-df-buttons\">\n",
              "\n",
              "  <div class=\"colab-df-container\">\n",
              "    <button class=\"colab-df-convert\" onclick=\"convertToInteractive('df-eec0ca73-6943-45bb-aa46-27d648192a8d')\"\n",
              "            title=\"Convert this dataframe to an interactive table.\"\n",
              "            style=\"display:none;\">\n",
              "\n",
              "  <svg xmlns=\"http://www.w3.org/2000/svg\" height=\"24px\" viewBox=\"0 -960 960 960\">\n",
              "    <path d=\"M120-120v-720h720v720H120Zm60-500h600v-160H180v160Zm220 220h160v-160H400v160Zm0 220h160v-160H400v160ZM180-400h160v-160H180v160Zm440 0h160v-160H620v160ZM180-180h160v-160H180v160Zm440 0h160v-160H620v160Z\"/>\n",
              "  </svg>\n",
              "    </button>\n",
              "\n",
              "  <style>\n",
              "    .colab-df-container {\n",
              "      display:flex;\n",
              "      gap: 12px;\n",
              "    }\n",
              "\n",
              "    .colab-df-convert {\n",
              "      background-color: #E8F0FE;\n",
              "      border: none;\n",
              "      border-radius: 50%;\n",
              "      cursor: pointer;\n",
              "      display: none;\n",
              "      fill: #1967D2;\n",
              "      height: 32px;\n",
              "      padding: 0 0 0 0;\n",
              "      width: 32px;\n",
              "    }\n",
              "\n",
              "    .colab-df-convert:hover {\n",
              "      background-color: #E2EBFA;\n",
              "      box-shadow: 0px 1px 2px rgba(60, 64, 67, 0.3), 0px 1px 3px 1px rgba(60, 64, 67, 0.15);\n",
              "      fill: #174EA6;\n",
              "    }\n",
              "\n",
              "    .colab-df-buttons div {\n",
              "      margin-bottom: 4px;\n",
              "    }\n",
              "\n",
              "    [theme=dark] .colab-df-convert {\n",
              "      background-color: #3B4455;\n",
              "      fill: #D2E3FC;\n",
              "    }\n",
              "\n",
              "    [theme=dark] .colab-df-convert:hover {\n",
              "      background-color: #434B5C;\n",
              "      box-shadow: 0px 1px 3px 1px rgba(0, 0, 0, 0.15);\n",
              "      filter: drop-shadow(0px 1px 2px rgba(0, 0, 0, 0.3));\n",
              "      fill: #FFFFFF;\n",
              "    }\n",
              "  </style>\n",
              "\n",
              "    <script>\n",
              "      const buttonEl =\n",
              "        document.querySelector('#df-eec0ca73-6943-45bb-aa46-27d648192a8d button.colab-df-convert');\n",
              "      buttonEl.style.display =\n",
              "        google.colab.kernel.accessAllowed ? 'block' : 'none';\n",
              "\n",
              "      async function convertToInteractive(key) {\n",
              "        const element = document.querySelector('#df-eec0ca73-6943-45bb-aa46-27d648192a8d');\n",
              "        const dataTable =\n",
              "          await google.colab.kernel.invokeFunction('convertToInteractive',\n",
              "                                                    [key], {});\n",
              "        if (!dataTable) return;\n",
              "\n",
              "        const docLinkHtml = 'Like what you see? Visit the ' +\n",
              "          '<a target=\"_blank\" href=https://colab.research.google.com/notebooks/data_table.ipynb>data table notebook</a>'\n",
              "          + ' to learn more about interactive tables.';\n",
              "        element.innerHTML = '';\n",
              "        dataTable['output_type'] = 'display_data';\n",
              "        await google.colab.output.renderOutput(dataTable, element);\n",
              "        const docLink = document.createElement('div');\n",
              "        docLink.innerHTML = docLinkHtml;\n",
              "        element.appendChild(docLink);\n",
              "      }\n",
              "    </script>\n",
              "  </div>\n",
              "\n",
              "\n",
              "<div id=\"df-58b6fa3c-e60f-4bc9-9734-9fb0f04a77d9\">\n",
              "  <button class=\"colab-df-quickchart\" onclick=\"quickchart('df-58b6fa3c-e60f-4bc9-9734-9fb0f04a77d9')\"\n",
              "            title=\"Suggest charts\"\n",
              "            style=\"display:none;\">\n",
              "\n",
              "<svg xmlns=\"http://www.w3.org/2000/svg\" height=\"24px\"viewBox=\"0 0 24 24\"\n",
              "     width=\"24px\">\n",
              "    <g>\n",
              "        <path d=\"M19 3H5c-1.1 0-2 .9-2 2v14c0 1.1.9 2 2 2h14c1.1 0 2-.9 2-2V5c0-1.1-.9-2-2-2zM9 17H7v-7h2v7zm4 0h-2V7h2v10zm4 0h-2v-4h2v4z\"/>\n",
              "    </g>\n",
              "</svg>\n",
              "  </button>\n",
              "\n",
              "<style>\n",
              "  .colab-df-quickchart {\n",
              "      --bg-color: #E8F0FE;\n",
              "      --fill-color: #1967D2;\n",
              "      --hover-bg-color: #E2EBFA;\n",
              "      --hover-fill-color: #174EA6;\n",
              "      --disabled-fill-color: #AAA;\n",
              "      --disabled-bg-color: #DDD;\n",
              "  }\n",
              "\n",
              "  [theme=dark] .colab-df-quickchart {\n",
              "      --bg-color: #3B4455;\n",
              "      --fill-color: #D2E3FC;\n",
              "      --hover-bg-color: #434B5C;\n",
              "      --hover-fill-color: #FFFFFF;\n",
              "      --disabled-bg-color: #3B4455;\n",
              "      --disabled-fill-color: #666;\n",
              "  }\n",
              "\n",
              "  .colab-df-quickchart {\n",
              "    background-color: var(--bg-color);\n",
              "    border: none;\n",
              "    border-radius: 50%;\n",
              "    cursor: pointer;\n",
              "    display: none;\n",
              "    fill: var(--fill-color);\n",
              "    height: 32px;\n",
              "    padding: 0;\n",
              "    width: 32px;\n",
              "  }\n",
              "\n",
              "  .colab-df-quickchart:hover {\n",
              "    background-color: var(--hover-bg-color);\n",
              "    box-shadow: 0 1px 2px rgba(60, 64, 67, 0.3), 0 1px 3px 1px rgba(60, 64, 67, 0.15);\n",
              "    fill: var(--button-hover-fill-color);\n",
              "  }\n",
              "\n",
              "  .colab-df-quickchart-complete:disabled,\n",
              "  .colab-df-quickchart-complete:disabled:hover {\n",
              "    background-color: var(--disabled-bg-color);\n",
              "    fill: var(--disabled-fill-color);\n",
              "    box-shadow: none;\n",
              "  }\n",
              "\n",
              "  .colab-df-spinner {\n",
              "    border: 2px solid var(--fill-color);\n",
              "    border-color: transparent;\n",
              "    border-bottom-color: var(--fill-color);\n",
              "    animation:\n",
              "      spin 1s steps(1) infinite;\n",
              "  }\n",
              "\n",
              "  @keyframes spin {\n",
              "    0% {\n",
              "      border-color: transparent;\n",
              "      border-bottom-color: var(--fill-color);\n",
              "      border-left-color: var(--fill-color);\n",
              "    }\n",
              "    20% {\n",
              "      border-color: transparent;\n",
              "      border-left-color: var(--fill-color);\n",
              "      border-top-color: var(--fill-color);\n",
              "    }\n",
              "    30% {\n",
              "      border-color: transparent;\n",
              "      border-left-color: var(--fill-color);\n",
              "      border-top-color: var(--fill-color);\n",
              "      border-right-color: var(--fill-color);\n",
              "    }\n",
              "    40% {\n",
              "      border-color: transparent;\n",
              "      border-right-color: var(--fill-color);\n",
              "      border-top-color: var(--fill-color);\n",
              "    }\n",
              "    60% {\n",
              "      border-color: transparent;\n",
              "      border-right-color: var(--fill-color);\n",
              "    }\n",
              "    80% {\n",
              "      border-color: transparent;\n",
              "      border-right-color: var(--fill-color);\n",
              "      border-bottom-color: var(--fill-color);\n",
              "    }\n",
              "    90% {\n",
              "      border-color: transparent;\n",
              "      border-bottom-color: var(--fill-color);\n",
              "    }\n",
              "  }\n",
              "</style>\n",
              "\n",
              "  <script>\n",
              "    async function quickchart(key) {\n",
              "      const quickchartButtonEl =\n",
              "        document.querySelector('#' + key + ' button');\n",
              "      quickchartButtonEl.disabled = true;  // To prevent multiple clicks.\n",
              "      quickchartButtonEl.classList.add('colab-df-spinner');\n",
              "      try {\n",
              "        const charts = await google.colab.kernel.invokeFunction(\n",
              "            'suggestCharts', [key], {});\n",
              "      } catch (error) {\n",
              "        console.error('Error during call to suggestCharts:', error);\n",
              "      }\n",
              "      quickchartButtonEl.classList.remove('colab-df-spinner');\n",
              "      quickchartButtonEl.classList.add('colab-df-quickchart-complete');\n",
              "    }\n",
              "    (() => {\n",
              "      let quickchartButtonEl =\n",
              "        document.querySelector('#df-58b6fa3c-e60f-4bc9-9734-9fb0f04a77d9 button');\n",
              "      quickchartButtonEl.style.display =\n",
              "        google.colab.kernel.accessAllowed ? 'block' : 'none';\n",
              "    })();\n",
              "  </script>\n",
              "</div>\n",
              "    </div>\n",
              "  </div>\n"
            ],
            "application/vnd.google.colaboratory.intrinsic+json": {
              "type": "dataframe",
              "variable_name": "train_df"
            }
          },
          "metadata": {},
          "execution_count": 10
        }
      ]
    },
    {
      "cell_type": "markdown",
      "source": [
        "### *NaN*"
      ],
      "metadata": {
        "id": "TGds_O8X3Wxo"
      }
    },
    {
      "cell_type": "code",
      "source": [
        "train_df= train_df.drop(columns= ['id'])\n",
        "train_df.info()"
      ],
      "metadata": {
        "id": "eR-ELbL6vd42",
        "outputId": "43a159cf-5110-43b8-b125-1ced40c2695e",
        "colab": {
          "base_uri": "https://localhost:8080/"
        }
      },
      "execution_count": 11,
      "outputs": [
        {
          "output_type": "stream",
          "name": "stdout",
          "text": [
            "<class 'pandas.core.frame.DataFrame'>\n",
            "RangeIndex: 3116945 entries, 0 to 3116944\n",
            "Data columns (total 21 columns):\n",
            " #   Column                Dtype  \n",
            "---  ------                -----  \n",
            " 0   class                 object \n",
            " 1   cap-diameter          float64\n",
            " 2   cap-shape             object \n",
            " 3   cap-surface           object \n",
            " 4   cap-color             object \n",
            " 5   does-bruise-or-bleed  object \n",
            " 6   gill-attachment       object \n",
            " 7   gill-spacing          object \n",
            " 8   gill-color            object \n",
            " 9   stem-height           float64\n",
            " 10  stem-width            float64\n",
            " 11  stem-root             object \n",
            " 12  stem-surface          object \n",
            " 13  stem-color            object \n",
            " 14  veil-type             object \n",
            " 15  veil-color            object \n",
            " 16  has-ring              object \n",
            " 17  ring-type             object \n",
            " 18  spore-print-color     object \n",
            " 19  habitat               object \n",
            " 20  season                object \n",
            "dtypes: float64(3), object(18)\n",
            "memory usage: 499.4+ MB\n"
          ]
        }
      ]
    },
    {
      "cell_type": "code",
      "source": [
        "train_df.isna().mean()"
      ],
      "metadata": {
        "id": "doVv4vGXvqc-",
        "outputId": "748b9707-29a9-408a-e3a4-aaca03746ffd",
        "colab": {
          "base_uri": "https://localhost:8080/",
          "height": 742
        }
      },
      "execution_count": 12,
      "outputs": [
        {
          "output_type": "execute_result",
          "data": {
            "text/plain": [
              "class                   0.000000\n",
              "cap-diameter            0.000001\n",
              "cap-shape               0.000013\n",
              "cap-surface             0.215282\n",
              "cap-color               0.000004\n",
              "does-bruise-or-bleed    0.000003\n",
              "gill-attachment         0.168093\n",
              "gill-spacing            0.403740\n",
              "gill-color              0.000018\n",
              "stem-height             0.000000\n",
              "stem-width              0.000000\n",
              "stem-root               0.884527\n",
              "stem-surface            0.635514\n",
              "stem-color              0.000012\n",
              "veil-type               0.948843\n",
              "veil-color              0.879370\n",
              "has-ring                0.000008\n",
              "ring-type               0.041348\n",
              "spore-print-color       0.914255\n",
              "habitat                 0.000014\n",
              "season                  0.000000\n",
              "dtype: float64"
            ],
            "text/html": [
              "<div>\n",
              "<style scoped>\n",
              "    .dataframe tbody tr th:only-of-type {\n",
              "        vertical-align: middle;\n",
              "    }\n",
              "\n",
              "    .dataframe tbody tr th {\n",
              "        vertical-align: top;\n",
              "    }\n",
              "\n",
              "    .dataframe thead th {\n",
              "        text-align: right;\n",
              "    }\n",
              "</style>\n",
              "<table border=\"1\" class=\"dataframe\">\n",
              "  <thead>\n",
              "    <tr style=\"text-align: right;\">\n",
              "      <th></th>\n",
              "      <th>0</th>\n",
              "    </tr>\n",
              "  </thead>\n",
              "  <tbody>\n",
              "    <tr>\n",
              "      <th>class</th>\n",
              "      <td>0.000000</td>\n",
              "    </tr>\n",
              "    <tr>\n",
              "      <th>cap-diameter</th>\n",
              "      <td>0.000001</td>\n",
              "    </tr>\n",
              "    <tr>\n",
              "      <th>cap-shape</th>\n",
              "      <td>0.000013</td>\n",
              "    </tr>\n",
              "    <tr>\n",
              "      <th>cap-surface</th>\n",
              "      <td>0.215282</td>\n",
              "    </tr>\n",
              "    <tr>\n",
              "      <th>cap-color</th>\n",
              "      <td>0.000004</td>\n",
              "    </tr>\n",
              "    <tr>\n",
              "      <th>does-bruise-or-bleed</th>\n",
              "      <td>0.000003</td>\n",
              "    </tr>\n",
              "    <tr>\n",
              "      <th>gill-attachment</th>\n",
              "      <td>0.168093</td>\n",
              "    </tr>\n",
              "    <tr>\n",
              "      <th>gill-spacing</th>\n",
              "      <td>0.403740</td>\n",
              "    </tr>\n",
              "    <tr>\n",
              "      <th>gill-color</th>\n",
              "      <td>0.000018</td>\n",
              "    </tr>\n",
              "    <tr>\n",
              "      <th>stem-height</th>\n",
              "      <td>0.000000</td>\n",
              "    </tr>\n",
              "    <tr>\n",
              "      <th>stem-width</th>\n",
              "      <td>0.000000</td>\n",
              "    </tr>\n",
              "    <tr>\n",
              "      <th>stem-root</th>\n",
              "      <td>0.884527</td>\n",
              "    </tr>\n",
              "    <tr>\n",
              "      <th>stem-surface</th>\n",
              "      <td>0.635514</td>\n",
              "    </tr>\n",
              "    <tr>\n",
              "      <th>stem-color</th>\n",
              "      <td>0.000012</td>\n",
              "    </tr>\n",
              "    <tr>\n",
              "      <th>veil-type</th>\n",
              "      <td>0.948843</td>\n",
              "    </tr>\n",
              "    <tr>\n",
              "      <th>veil-color</th>\n",
              "      <td>0.879370</td>\n",
              "    </tr>\n",
              "    <tr>\n",
              "      <th>has-ring</th>\n",
              "      <td>0.000008</td>\n",
              "    </tr>\n",
              "    <tr>\n",
              "      <th>ring-type</th>\n",
              "      <td>0.041348</td>\n",
              "    </tr>\n",
              "    <tr>\n",
              "      <th>spore-print-color</th>\n",
              "      <td>0.914255</td>\n",
              "    </tr>\n",
              "    <tr>\n",
              "      <th>habitat</th>\n",
              "      <td>0.000014</td>\n",
              "    </tr>\n",
              "    <tr>\n",
              "      <th>season</th>\n",
              "      <td>0.000000</td>\n",
              "    </tr>\n",
              "  </tbody>\n",
              "</table>\n",
              "</div><br><label><b>dtype:</b> float64</label>"
            ]
          },
          "metadata": {},
          "execution_count": 12
        }
      ]
    },
    {
      "cell_type": "code",
      "source": [
        "missing_treshold= 0.85\n",
        "\n",
        "high_missing_columns= train_df.columns[train_df.isna().mean() > missing_treshold]\n",
        "high_missing_columns\n",
        "\n",
        "train_df= train_df.drop(columns= high_missing_columns)\n",
        "train_df.head()"
      ],
      "metadata": {
        "id": "Fv0NuuIBvvvm",
        "outputId": "db91a856-eb2c-448d-c844-b71109170814",
        "colab": {
          "base_uri": "https://localhost:8080/",
          "height": 258
        }
      },
      "execution_count": 13,
      "outputs": [
        {
          "output_type": "execute_result",
          "data": {
            "text/plain": [
              "  class  cap-diameter cap-shape cap-surface cap-color does-bruise-or-bleed  \\\n",
              "0     e          8.80         f           s         u                    f   \n",
              "1     p          4.51         x           h         o                    f   \n",
              "2     e          6.94         f           s         b                    f   \n",
              "3     e          3.88         f           y         g                    f   \n",
              "4     e          5.85         x           l         w                    f   \n",
              "\n",
              "  gill-attachment gill-spacing gill-color  stem-height  stem-width  \\\n",
              "0               a            c          w         4.51       15.39   \n",
              "1               a            c          n         4.79        6.48   \n",
              "2               x            c          w         6.85        9.93   \n",
              "3               s          NaN          g         4.16        6.53   \n",
              "4               d          NaN          w         3.37        8.36   \n",
              "\n",
              "  stem-surface stem-color has-ring ring-type habitat season  \n",
              "0          NaN          w        f         f       d      a  \n",
              "1            y          o        t         z       d      w  \n",
              "2            s          n        f         f       l      w  \n",
              "3          NaN          w        f         f       d      u  \n",
              "4          NaN          w        f         f       g      a  "
            ],
            "text/html": [
              "\n",
              "  <div id=\"df-cf4ed9af-c0ac-4962-bb81-4c767a91f19a\" class=\"colab-df-container\">\n",
              "    <div>\n",
              "<style scoped>\n",
              "    .dataframe tbody tr th:only-of-type {\n",
              "        vertical-align: middle;\n",
              "    }\n",
              "\n",
              "    .dataframe tbody tr th {\n",
              "        vertical-align: top;\n",
              "    }\n",
              "\n",
              "    .dataframe thead th {\n",
              "        text-align: right;\n",
              "    }\n",
              "</style>\n",
              "<table border=\"1\" class=\"dataframe\">\n",
              "  <thead>\n",
              "    <tr style=\"text-align: right;\">\n",
              "      <th></th>\n",
              "      <th>class</th>\n",
              "      <th>cap-diameter</th>\n",
              "      <th>cap-shape</th>\n",
              "      <th>cap-surface</th>\n",
              "      <th>cap-color</th>\n",
              "      <th>does-bruise-or-bleed</th>\n",
              "      <th>gill-attachment</th>\n",
              "      <th>gill-spacing</th>\n",
              "      <th>gill-color</th>\n",
              "      <th>stem-height</th>\n",
              "      <th>stem-width</th>\n",
              "      <th>stem-surface</th>\n",
              "      <th>stem-color</th>\n",
              "      <th>has-ring</th>\n",
              "      <th>ring-type</th>\n",
              "      <th>habitat</th>\n",
              "      <th>season</th>\n",
              "    </tr>\n",
              "  </thead>\n",
              "  <tbody>\n",
              "    <tr>\n",
              "      <th>0</th>\n",
              "      <td>e</td>\n",
              "      <td>8.80</td>\n",
              "      <td>f</td>\n",
              "      <td>s</td>\n",
              "      <td>u</td>\n",
              "      <td>f</td>\n",
              "      <td>a</td>\n",
              "      <td>c</td>\n",
              "      <td>w</td>\n",
              "      <td>4.51</td>\n",
              "      <td>15.39</td>\n",
              "      <td>NaN</td>\n",
              "      <td>w</td>\n",
              "      <td>f</td>\n",
              "      <td>f</td>\n",
              "      <td>d</td>\n",
              "      <td>a</td>\n",
              "    </tr>\n",
              "    <tr>\n",
              "      <th>1</th>\n",
              "      <td>p</td>\n",
              "      <td>4.51</td>\n",
              "      <td>x</td>\n",
              "      <td>h</td>\n",
              "      <td>o</td>\n",
              "      <td>f</td>\n",
              "      <td>a</td>\n",
              "      <td>c</td>\n",
              "      <td>n</td>\n",
              "      <td>4.79</td>\n",
              "      <td>6.48</td>\n",
              "      <td>y</td>\n",
              "      <td>o</td>\n",
              "      <td>t</td>\n",
              "      <td>z</td>\n",
              "      <td>d</td>\n",
              "      <td>w</td>\n",
              "    </tr>\n",
              "    <tr>\n",
              "      <th>2</th>\n",
              "      <td>e</td>\n",
              "      <td>6.94</td>\n",
              "      <td>f</td>\n",
              "      <td>s</td>\n",
              "      <td>b</td>\n",
              "      <td>f</td>\n",
              "      <td>x</td>\n",
              "      <td>c</td>\n",
              "      <td>w</td>\n",
              "      <td>6.85</td>\n",
              "      <td>9.93</td>\n",
              "      <td>s</td>\n",
              "      <td>n</td>\n",
              "      <td>f</td>\n",
              "      <td>f</td>\n",
              "      <td>l</td>\n",
              "      <td>w</td>\n",
              "    </tr>\n",
              "    <tr>\n",
              "      <th>3</th>\n",
              "      <td>e</td>\n",
              "      <td>3.88</td>\n",
              "      <td>f</td>\n",
              "      <td>y</td>\n",
              "      <td>g</td>\n",
              "      <td>f</td>\n",
              "      <td>s</td>\n",
              "      <td>NaN</td>\n",
              "      <td>g</td>\n",
              "      <td>4.16</td>\n",
              "      <td>6.53</td>\n",
              "      <td>NaN</td>\n",
              "      <td>w</td>\n",
              "      <td>f</td>\n",
              "      <td>f</td>\n",
              "      <td>d</td>\n",
              "      <td>u</td>\n",
              "    </tr>\n",
              "    <tr>\n",
              "      <th>4</th>\n",
              "      <td>e</td>\n",
              "      <td>5.85</td>\n",
              "      <td>x</td>\n",
              "      <td>l</td>\n",
              "      <td>w</td>\n",
              "      <td>f</td>\n",
              "      <td>d</td>\n",
              "      <td>NaN</td>\n",
              "      <td>w</td>\n",
              "      <td>3.37</td>\n",
              "      <td>8.36</td>\n",
              "      <td>NaN</td>\n",
              "      <td>w</td>\n",
              "      <td>f</td>\n",
              "      <td>f</td>\n",
              "      <td>g</td>\n",
              "      <td>a</td>\n",
              "    </tr>\n",
              "  </tbody>\n",
              "</table>\n",
              "</div>\n",
              "    <div class=\"colab-df-buttons\">\n",
              "\n",
              "  <div class=\"colab-df-container\">\n",
              "    <button class=\"colab-df-convert\" onclick=\"convertToInteractive('df-cf4ed9af-c0ac-4962-bb81-4c767a91f19a')\"\n",
              "            title=\"Convert this dataframe to an interactive table.\"\n",
              "            style=\"display:none;\">\n",
              "\n",
              "  <svg xmlns=\"http://www.w3.org/2000/svg\" height=\"24px\" viewBox=\"0 -960 960 960\">\n",
              "    <path d=\"M120-120v-720h720v720H120Zm60-500h600v-160H180v160Zm220 220h160v-160H400v160Zm0 220h160v-160H400v160ZM180-400h160v-160H180v160Zm440 0h160v-160H620v160ZM180-180h160v-160H180v160Zm440 0h160v-160H620v160Z\"/>\n",
              "  </svg>\n",
              "    </button>\n",
              "\n",
              "  <style>\n",
              "    .colab-df-container {\n",
              "      display:flex;\n",
              "      gap: 12px;\n",
              "    }\n",
              "\n",
              "    .colab-df-convert {\n",
              "      background-color: #E8F0FE;\n",
              "      border: none;\n",
              "      border-radius: 50%;\n",
              "      cursor: pointer;\n",
              "      display: none;\n",
              "      fill: #1967D2;\n",
              "      height: 32px;\n",
              "      padding: 0 0 0 0;\n",
              "      width: 32px;\n",
              "    }\n",
              "\n",
              "    .colab-df-convert:hover {\n",
              "      background-color: #E2EBFA;\n",
              "      box-shadow: 0px 1px 2px rgba(60, 64, 67, 0.3), 0px 1px 3px 1px rgba(60, 64, 67, 0.15);\n",
              "      fill: #174EA6;\n",
              "    }\n",
              "\n",
              "    .colab-df-buttons div {\n",
              "      margin-bottom: 4px;\n",
              "    }\n",
              "\n",
              "    [theme=dark] .colab-df-convert {\n",
              "      background-color: #3B4455;\n",
              "      fill: #D2E3FC;\n",
              "    }\n",
              "\n",
              "    [theme=dark] .colab-df-convert:hover {\n",
              "      background-color: #434B5C;\n",
              "      box-shadow: 0px 1px 3px 1px rgba(0, 0, 0, 0.15);\n",
              "      filter: drop-shadow(0px 1px 2px rgba(0, 0, 0, 0.3));\n",
              "      fill: #FFFFFF;\n",
              "    }\n",
              "  </style>\n",
              "\n",
              "    <script>\n",
              "      const buttonEl =\n",
              "        document.querySelector('#df-cf4ed9af-c0ac-4962-bb81-4c767a91f19a button.colab-df-convert');\n",
              "      buttonEl.style.display =\n",
              "        google.colab.kernel.accessAllowed ? 'block' : 'none';\n",
              "\n",
              "      async function convertToInteractive(key) {\n",
              "        const element = document.querySelector('#df-cf4ed9af-c0ac-4962-bb81-4c767a91f19a');\n",
              "        const dataTable =\n",
              "          await google.colab.kernel.invokeFunction('convertToInteractive',\n",
              "                                                    [key], {});\n",
              "        if (!dataTable) return;\n",
              "\n",
              "        const docLinkHtml = 'Like what you see? Visit the ' +\n",
              "          '<a target=\"_blank\" href=https://colab.research.google.com/notebooks/data_table.ipynb>data table notebook</a>'\n",
              "          + ' to learn more about interactive tables.';\n",
              "        element.innerHTML = '';\n",
              "        dataTable['output_type'] = 'display_data';\n",
              "        await google.colab.output.renderOutput(dataTable, element);\n",
              "        const docLink = document.createElement('div');\n",
              "        docLink.innerHTML = docLinkHtml;\n",
              "        element.appendChild(docLink);\n",
              "      }\n",
              "    </script>\n",
              "  </div>\n",
              "\n",
              "\n",
              "<div id=\"df-b88e240a-41bd-4fe2-a4e3-3a23b56c696d\">\n",
              "  <button class=\"colab-df-quickchart\" onclick=\"quickchart('df-b88e240a-41bd-4fe2-a4e3-3a23b56c696d')\"\n",
              "            title=\"Suggest charts\"\n",
              "            style=\"display:none;\">\n",
              "\n",
              "<svg xmlns=\"http://www.w3.org/2000/svg\" height=\"24px\"viewBox=\"0 0 24 24\"\n",
              "     width=\"24px\">\n",
              "    <g>\n",
              "        <path d=\"M19 3H5c-1.1 0-2 .9-2 2v14c0 1.1.9 2 2 2h14c1.1 0 2-.9 2-2V5c0-1.1-.9-2-2-2zM9 17H7v-7h2v7zm4 0h-2V7h2v10zm4 0h-2v-4h2v4z\"/>\n",
              "    </g>\n",
              "</svg>\n",
              "  </button>\n",
              "\n",
              "<style>\n",
              "  .colab-df-quickchart {\n",
              "      --bg-color: #E8F0FE;\n",
              "      --fill-color: #1967D2;\n",
              "      --hover-bg-color: #E2EBFA;\n",
              "      --hover-fill-color: #174EA6;\n",
              "      --disabled-fill-color: #AAA;\n",
              "      --disabled-bg-color: #DDD;\n",
              "  }\n",
              "\n",
              "  [theme=dark] .colab-df-quickchart {\n",
              "      --bg-color: #3B4455;\n",
              "      --fill-color: #D2E3FC;\n",
              "      --hover-bg-color: #434B5C;\n",
              "      --hover-fill-color: #FFFFFF;\n",
              "      --disabled-bg-color: #3B4455;\n",
              "      --disabled-fill-color: #666;\n",
              "  }\n",
              "\n",
              "  .colab-df-quickchart {\n",
              "    background-color: var(--bg-color);\n",
              "    border: none;\n",
              "    border-radius: 50%;\n",
              "    cursor: pointer;\n",
              "    display: none;\n",
              "    fill: var(--fill-color);\n",
              "    height: 32px;\n",
              "    padding: 0;\n",
              "    width: 32px;\n",
              "  }\n",
              "\n",
              "  .colab-df-quickchart:hover {\n",
              "    background-color: var(--hover-bg-color);\n",
              "    box-shadow: 0 1px 2px rgba(60, 64, 67, 0.3), 0 1px 3px 1px rgba(60, 64, 67, 0.15);\n",
              "    fill: var(--button-hover-fill-color);\n",
              "  }\n",
              "\n",
              "  .colab-df-quickchart-complete:disabled,\n",
              "  .colab-df-quickchart-complete:disabled:hover {\n",
              "    background-color: var(--disabled-bg-color);\n",
              "    fill: var(--disabled-fill-color);\n",
              "    box-shadow: none;\n",
              "  }\n",
              "\n",
              "  .colab-df-spinner {\n",
              "    border: 2px solid var(--fill-color);\n",
              "    border-color: transparent;\n",
              "    border-bottom-color: var(--fill-color);\n",
              "    animation:\n",
              "      spin 1s steps(1) infinite;\n",
              "  }\n",
              "\n",
              "  @keyframes spin {\n",
              "    0% {\n",
              "      border-color: transparent;\n",
              "      border-bottom-color: var(--fill-color);\n",
              "      border-left-color: var(--fill-color);\n",
              "    }\n",
              "    20% {\n",
              "      border-color: transparent;\n",
              "      border-left-color: var(--fill-color);\n",
              "      border-top-color: var(--fill-color);\n",
              "    }\n",
              "    30% {\n",
              "      border-color: transparent;\n",
              "      border-left-color: var(--fill-color);\n",
              "      border-top-color: var(--fill-color);\n",
              "      border-right-color: var(--fill-color);\n",
              "    }\n",
              "    40% {\n",
              "      border-color: transparent;\n",
              "      border-right-color: var(--fill-color);\n",
              "      border-top-color: var(--fill-color);\n",
              "    }\n",
              "    60% {\n",
              "      border-color: transparent;\n",
              "      border-right-color: var(--fill-color);\n",
              "    }\n",
              "    80% {\n",
              "      border-color: transparent;\n",
              "      border-right-color: var(--fill-color);\n",
              "      border-bottom-color: var(--fill-color);\n",
              "    }\n",
              "    90% {\n",
              "      border-color: transparent;\n",
              "      border-bottom-color: var(--fill-color);\n",
              "    }\n",
              "  }\n",
              "</style>\n",
              "\n",
              "  <script>\n",
              "    async function quickchart(key) {\n",
              "      const quickchartButtonEl =\n",
              "        document.querySelector('#' + key + ' button');\n",
              "      quickchartButtonEl.disabled = true;  // To prevent multiple clicks.\n",
              "      quickchartButtonEl.classList.add('colab-df-spinner');\n",
              "      try {\n",
              "        const charts = await google.colab.kernel.invokeFunction(\n",
              "            'suggestCharts', [key], {});\n",
              "      } catch (error) {\n",
              "        console.error('Error during call to suggestCharts:', error);\n",
              "      }\n",
              "      quickchartButtonEl.classList.remove('colab-df-spinner');\n",
              "      quickchartButtonEl.classList.add('colab-df-quickchart-complete');\n",
              "    }\n",
              "    (() => {\n",
              "      let quickchartButtonEl =\n",
              "        document.querySelector('#df-b88e240a-41bd-4fe2-a4e3-3a23b56c696d button');\n",
              "      quickchartButtonEl.style.display =\n",
              "        google.colab.kernel.accessAllowed ? 'block' : 'none';\n",
              "    })();\n",
              "  </script>\n",
              "</div>\n",
              "    </div>\n",
              "  </div>\n"
            ],
            "application/vnd.google.colaboratory.intrinsic+json": {
              "type": "dataframe",
              "variable_name": "train_df"
            }
          },
          "metadata": {},
          "execution_count": 13
        }
      ]
    },
    {
      "cell_type": "code",
      "source": [
        "mode_values= train_df.mode()\n",
        "mode_values= mode_values.loc[0].to_dict()\n",
        "mode_values"
      ],
      "metadata": {
        "id": "XXaMAt1PxdGi",
        "outputId": "8d863e20-43c2-4bd8-fcdf-9b7c9fea1d54",
        "colab": {
          "base_uri": "https://localhost:8080/"
        }
      },
      "execution_count": 14,
      "outputs": [
        {
          "output_type": "execute_result",
          "data": {
            "text/plain": [
              "{'class': 'p',\n",
              " 'cap-diameter': 1.49,\n",
              " 'cap-shape': 'x',\n",
              " 'cap-surface': 't',\n",
              " 'cap-color': 'n',\n",
              " 'does-bruise-or-bleed': 'f',\n",
              " 'gill-attachment': 'a',\n",
              " 'gill-spacing': 'c',\n",
              " 'gill-color': 'w',\n",
              " 'stem-height': 5.24,\n",
              " 'stem-width': 2.41,\n",
              " 'stem-surface': 's',\n",
              " 'stem-color': 'w',\n",
              " 'has-ring': 'f',\n",
              " 'ring-type': 'f',\n",
              " 'habitat': 'd',\n",
              " 'season': 'a'}"
            ]
          },
          "metadata": {},
          "execution_count": 14
        }
      ]
    },
    {
      "cell_type": "code",
      "source": [
        "median_values= train_df.median(numeric_only= True).to_dict()\n",
        "median_values"
      ],
      "metadata": {
        "id": "V8kDJGFwycVh",
        "outputId": "bdaf6cb5-24a4-4d5f-fbd6-da4ef71ffe28",
        "colab": {
          "base_uri": "https://localhost:8080/"
        }
      },
      "execution_count": 15,
      "outputs": [
        {
          "output_type": "execute_result",
          "data": {
            "text/plain": [
              "{'cap-diameter': 5.75, 'stem-height': 5.88, 'stem-width': 9.65}"
            ]
          },
          "metadata": {},
          "execution_count": 15
        }
      ]
    },
    {
      "cell_type": "code",
      "source": [
        "list(median_values.keys())"
      ],
      "metadata": {
        "colab": {
          "base_uri": "https://localhost:8080/"
        },
        "id": "vF-yJBO2BGh9",
        "outputId": "678ca07c-ac81-41da-b17a-7b774a52d047"
      },
      "execution_count": 16,
      "outputs": [
        {
          "output_type": "execute_result",
          "data": {
            "text/plain": [
              "['cap-diameter', 'stem-height', 'stem-width']"
            ]
          },
          "metadata": {},
          "execution_count": 16
        }
      ]
    },
    {
      "cell_type": "code",
      "source": [
        "for column in train_df:\n",
        "  if train_df[column].isna().any():\n",
        "    if train_df[column].dtype== 'object':\n",
        "      train_df[column]= train_df[column].fillna(mode_values[column])\n",
        "    else:\n",
        "      train_df[column]= train_df[column].fillna(median_values[column])\n",
        "\n",
        "train_df.isna().median()"
      ],
      "metadata": {
        "id": "FKRGV0_ZZ_1B",
        "outputId": "2bd7bea2-9be5-42c8-ed74-aa55e7cd7986",
        "colab": {
          "base_uri": "https://localhost:8080/",
          "height": 617
        }
      },
      "execution_count": 17,
      "outputs": [
        {
          "output_type": "execute_result",
          "data": {
            "text/plain": [
              "class                   0.0\n",
              "cap-diameter            0.0\n",
              "cap-shape               0.0\n",
              "cap-surface             0.0\n",
              "cap-color               0.0\n",
              "does-bruise-or-bleed    0.0\n",
              "gill-attachment         0.0\n",
              "gill-spacing            0.0\n",
              "gill-color              0.0\n",
              "stem-height             0.0\n",
              "stem-width              0.0\n",
              "stem-surface            0.0\n",
              "stem-color              0.0\n",
              "has-ring                0.0\n",
              "ring-type               0.0\n",
              "habitat                 0.0\n",
              "season                  0.0\n",
              "dtype: float64"
            ],
            "text/html": [
              "<div>\n",
              "<style scoped>\n",
              "    .dataframe tbody tr th:only-of-type {\n",
              "        vertical-align: middle;\n",
              "    }\n",
              "\n",
              "    .dataframe tbody tr th {\n",
              "        vertical-align: top;\n",
              "    }\n",
              "\n",
              "    .dataframe thead th {\n",
              "        text-align: right;\n",
              "    }\n",
              "</style>\n",
              "<table border=\"1\" class=\"dataframe\">\n",
              "  <thead>\n",
              "    <tr style=\"text-align: right;\">\n",
              "      <th></th>\n",
              "      <th>0</th>\n",
              "    </tr>\n",
              "  </thead>\n",
              "  <tbody>\n",
              "    <tr>\n",
              "      <th>class</th>\n",
              "      <td>0.0</td>\n",
              "    </tr>\n",
              "    <tr>\n",
              "      <th>cap-diameter</th>\n",
              "      <td>0.0</td>\n",
              "    </tr>\n",
              "    <tr>\n",
              "      <th>cap-shape</th>\n",
              "      <td>0.0</td>\n",
              "    </tr>\n",
              "    <tr>\n",
              "      <th>cap-surface</th>\n",
              "      <td>0.0</td>\n",
              "    </tr>\n",
              "    <tr>\n",
              "      <th>cap-color</th>\n",
              "      <td>0.0</td>\n",
              "    </tr>\n",
              "    <tr>\n",
              "      <th>does-bruise-or-bleed</th>\n",
              "      <td>0.0</td>\n",
              "    </tr>\n",
              "    <tr>\n",
              "      <th>gill-attachment</th>\n",
              "      <td>0.0</td>\n",
              "    </tr>\n",
              "    <tr>\n",
              "      <th>gill-spacing</th>\n",
              "      <td>0.0</td>\n",
              "    </tr>\n",
              "    <tr>\n",
              "      <th>gill-color</th>\n",
              "      <td>0.0</td>\n",
              "    </tr>\n",
              "    <tr>\n",
              "      <th>stem-height</th>\n",
              "      <td>0.0</td>\n",
              "    </tr>\n",
              "    <tr>\n",
              "      <th>stem-width</th>\n",
              "      <td>0.0</td>\n",
              "    </tr>\n",
              "    <tr>\n",
              "      <th>stem-surface</th>\n",
              "      <td>0.0</td>\n",
              "    </tr>\n",
              "    <tr>\n",
              "      <th>stem-color</th>\n",
              "      <td>0.0</td>\n",
              "    </tr>\n",
              "    <tr>\n",
              "      <th>has-ring</th>\n",
              "      <td>0.0</td>\n",
              "    </tr>\n",
              "    <tr>\n",
              "      <th>ring-type</th>\n",
              "      <td>0.0</td>\n",
              "    </tr>\n",
              "    <tr>\n",
              "      <th>habitat</th>\n",
              "      <td>0.0</td>\n",
              "    </tr>\n",
              "    <tr>\n",
              "      <th>season</th>\n",
              "      <td>0.0</td>\n",
              "    </tr>\n",
              "  </tbody>\n",
              "</table>\n",
              "</div><br><label><b>dtype:</b> float64</label>"
            ]
          },
          "metadata": {},
          "execution_count": 17
        }
      ]
    },
    {
      "cell_type": "code",
      "source": [
        "train_df[train_df.isna().any(axis=1)]"
      ],
      "metadata": {
        "id": "8AdRGDlCbOf0",
        "outputId": "b3f9d6fb-6f24-42d2-b5ff-cab64e7f6806",
        "colab": {
          "base_uri": "https://localhost:8080/",
          "height": 101
        }
      },
      "execution_count": 18,
      "outputs": [
        {
          "output_type": "execute_result",
          "data": {
            "text/plain": [
              "Empty DataFrame\n",
              "Columns: [class, cap-diameter, cap-shape, cap-surface, cap-color, does-bruise-or-bleed, gill-attachment, gill-spacing, gill-color, stem-height, stem-width, stem-surface, stem-color, has-ring, ring-type, habitat, season]\n",
              "Index: []"
            ],
            "text/html": [
              "\n",
              "  <div id=\"df-419466a0-702b-478d-b25a-fbb2fd632ac3\" class=\"colab-df-container\">\n",
              "    <div>\n",
              "<style scoped>\n",
              "    .dataframe tbody tr th:only-of-type {\n",
              "        vertical-align: middle;\n",
              "    }\n",
              "\n",
              "    .dataframe tbody tr th {\n",
              "        vertical-align: top;\n",
              "    }\n",
              "\n",
              "    .dataframe thead th {\n",
              "        text-align: right;\n",
              "    }\n",
              "</style>\n",
              "<table border=\"1\" class=\"dataframe\">\n",
              "  <thead>\n",
              "    <tr style=\"text-align: right;\">\n",
              "      <th></th>\n",
              "      <th>class</th>\n",
              "      <th>cap-diameter</th>\n",
              "      <th>cap-shape</th>\n",
              "      <th>cap-surface</th>\n",
              "      <th>cap-color</th>\n",
              "      <th>does-bruise-or-bleed</th>\n",
              "      <th>gill-attachment</th>\n",
              "      <th>gill-spacing</th>\n",
              "      <th>gill-color</th>\n",
              "      <th>stem-height</th>\n",
              "      <th>stem-width</th>\n",
              "      <th>stem-surface</th>\n",
              "      <th>stem-color</th>\n",
              "      <th>has-ring</th>\n",
              "      <th>ring-type</th>\n",
              "      <th>habitat</th>\n",
              "      <th>season</th>\n",
              "    </tr>\n",
              "  </thead>\n",
              "  <tbody>\n",
              "  </tbody>\n",
              "</table>\n",
              "</div>\n",
              "    <div class=\"colab-df-buttons\">\n",
              "\n",
              "  <div class=\"colab-df-container\">\n",
              "    <button class=\"colab-df-convert\" onclick=\"convertToInteractive('df-419466a0-702b-478d-b25a-fbb2fd632ac3')\"\n",
              "            title=\"Convert this dataframe to an interactive table.\"\n",
              "            style=\"display:none;\">\n",
              "\n",
              "  <svg xmlns=\"http://www.w3.org/2000/svg\" height=\"24px\" viewBox=\"0 -960 960 960\">\n",
              "    <path d=\"M120-120v-720h720v720H120Zm60-500h600v-160H180v160Zm220 220h160v-160H400v160Zm0 220h160v-160H400v160ZM180-400h160v-160H180v160Zm440 0h160v-160H620v160ZM180-180h160v-160H180v160Zm440 0h160v-160H620v160Z\"/>\n",
              "  </svg>\n",
              "    </button>\n",
              "\n",
              "  <style>\n",
              "    .colab-df-container {\n",
              "      display:flex;\n",
              "      gap: 12px;\n",
              "    }\n",
              "\n",
              "    .colab-df-convert {\n",
              "      background-color: #E8F0FE;\n",
              "      border: none;\n",
              "      border-radius: 50%;\n",
              "      cursor: pointer;\n",
              "      display: none;\n",
              "      fill: #1967D2;\n",
              "      height: 32px;\n",
              "      padding: 0 0 0 0;\n",
              "      width: 32px;\n",
              "    }\n",
              "\n",
              "    .colab-df-convert:hover {\n",
              "      background-color: #E2EBFA;\n",
              "      box-shadow: 0px 1px 2px rgba(60, 64, 67, 0.3), 0px 1px 3px 1px rgba(60, 64, 67, 0.15);\n",
              "      fill: #174EA6;\n",
              "    }\n",
              "\n",
              "    .colab-df-buttons div {\n",
              "      margin-bottom: 4px;\n",
              "    }\n",
              "\n",
              "    [theme=dark] .colab-df-convert {\n",
              "      background-color: #3B4455;\n",
              "      fill: #D2E3FC;\n",
              "    }\n",
              "\n",
              "    [theme=dark] .colab-df-convert:hover {\n",
              "      background-color: #434B5C;\n",
              "      box-shadow: 0px 1px 3px 1px rgba(0, 0, 0, 0.15);\n",
              "      filter: drop-shadow(0px 1px 2px rgba(0, 0, 0, 0.3));\n",
              "      fill: #FFFFFF;\n",
              "    }\n",
              "  </style>\n",
              "\n",
              "    <script>\n",
              "      const buttonEl =\n",
              "        document.querySelector('#df-419466a0-702b-478d-b25a-fbb2fd632ac3 button.colab-df-convert');\n",
              "      buttonEl.style.display =\n",
              "        google.colab.kernel.accessAllowed ? 'block' : 'none';\n",
              "\n",
              "      async function convertToInteractive(key) {\n",
              "        const element = document.querySelector('#df-419466a0-702b-478d-b25a-fbb2fd632ac3');\n",
              "        const dataTable =\n",
              "          await google.colab.kernel.invokeFunction('convertToInteractive',\n",
              "                                                    [key], {});\n",
              "        if (!dataTable) return;\n",
              "\n",
              "        const docLinkHtml = 'Like what you see? Visit the ' +\n",
              "          '<a target=\"_blank\" href=https://colab.research.google.com/notebooks/data_table.ipynb>data table notebook</a>'\n",
              "          + ' to learn more about interactive tables.';\n",
              "        element.innerHTML = '';\n",
              "        dataTable['output_type'] = 'display_data';\n",
              "        await google.colab.output.renderOutput(dataTable, element);\n",
              "        const docLink = document.createElement('div');\n",
              "        docLink.innerHTML = docLinkHtml;\n",
              "        element.appendChild(docLink);\n",
              "      }\n",
              "    </script>\n",
              "  </div>\n",
              "\n",
              "    </div>\n",
              "  </div>\n"
            ],
            "application/vnd.google.colaboratory.intrinsic+json": {
              "type": "dataframe",
              "repr_error": "Out of range float values are not JSON compliant: nan"
            }
          },
          "metadata": {},
          "execution_count": 18
        }
      ]
    },
    {
      "cell_type": "markdown",
      "source": [
        "### *Split Dataframe to train and validation*"
      ],
      "metadata": {
        "id": "mreY_G_RkFXF"
      }
    },
    {
      "cell_type": "code",
      "source": [
        "num_samples, num_features= train_df.shape\n",
        "num_features-= 1\n",
        "num_classes= len(train_df['class'].unique())\n",
        "print(f'num_sample: {num_samples}, num_features: {num_features}, num_classes: {num_classes}')"
      ],
      "metadata": {
        "id": "f8HWG3TRnGwR",
        "outputId": "03f42eb4-f15f-4a0a-d80f-ca81a6137a24",
        "colab": {
          "base_uri": "https://localhost:8080/"
        }
      },
      "execution_count": 19,
      "outputs": [
        {
          "output_type": "stream",
          "name": "stdout",
          "text": [
            "num_sample: 3116945, num_features: 16, num_classes: 2\n"
          ]
        }
      ]
    },
    {
      "cell_type": "code",
      "source": [
        "train_df, val_df= train_test_split(train_df, test_size=0.2, random_state=42, stratify= train_df['class'])\n",
        "print(f'train_df: {train_df.shape}, val_df: {val_df.shape}')"
      ],
      "metadata": {
        "id": "DHL6x0UOblfr",
        "outputId": "ad6292f3-71d3-4a18-eee2-104ed4fb6711",
        "colab": {
          "base_uri": "https://localhost:8080/"
        }
      },
      "execution_count": 20,
      "outputs": [
        {
          "output_type": "stream",
          "name": "stdout",
          "text": [
            "train_df: (2493556, 17), val_df: (623389, 17)\n"
          ]
        }
      ]
    },
    {
      "cell_type": "markdown",
      "source": [
        "### *Encoding*"
      ],
      "metadata": {
        "id": "eAenCkbcopup"
      }
    },
    {
      "cell_type": "code",
      "source": [
        "ordinal_encoder= OrdinalEncoder(handle_unknown='use_encoded_value', unknown_value= -1)\n",
        "cat_col_train= train_df.select_dtypes(include=['object']).columns\n",
        "\n",
        "print(cat_col_train)\n",
        "\n",
        "train_df[cat_col_train]= ordinal_encoder.fit_transform(train_df[cat_col_train].astype(str))\n",
        "val_df[cat_col_train]= ordinal_encoder.transform(val_df[cat_col_train].astype(str))\n",
        "\n",
        "print(train_df.head(2))\n"
      ],
      "metadata": {
        "id": "FYczavgkk4wR",
        "outputId": "e0d60c8a-b02b-4a4f-860d-307dfd0c5fb2",
        "colab": {
          "base_uri": "https://localhost:8080/"
        }
      },
      "execution_count": 21,
      "outputs": [
        {
          "output_type": "stream",
          "name": "stdout",
          "text": [
            "Index(['class', 'cap-shape', 'cap-surface', 'cap-color',\n",
            "       'does-bruise-or-bleed', 'gill-attachment', 'gill-spacing', 'gill-color',\n",
            "       'stem-surface', 'stem-color', 'has-ring', 'ring-type', 'habitat',\n",
            "       'season'],\n",
            "      dtype='object')\n",
            "         class  cap-diameter  cap-shape  cap-surface  cap-color  \\\n",
            "586767     1.0          4.95       61.0         69.0       61.0   \n",
            "2665706    1.0          1.47       39.0         74.0       59.0   \n",
            "\n",
            "         does-bruise-or-bleed  gill-attachment  gill-spacing  gill-color  \\\n",
            "586767                    8.0             36.0          22.0        53.0   \n",
            "2665706                   8.0             36.0          22.0        37.0   \n",
            "\n",
            "         stem-height  stem-width  stem-surface  stem-color  has-ring  \\\n",
            "586767          3.80       12.36          43.0        47.0       4.0   \n",
            "2665706         5.23        3.09          43.0        45.0       4.0   \n",
            "\n",
            "         ring-type  habitat  season  \n",
            "586767        14.0     20.0     0.0  \n",
            "2665706       14.0     20.0     2.0  \n"
          ]
        }
      ]
    },
    {
      "cell_type": "code",
      "source": [
        "# # Delete unused variable\n",
        "# del train_df\n",
        "\n",
        "# # Force  garbage collection\n",
        "# import gc\n",
        "# gc.collect()"
      ],
      "metadata": {
        "id": "xqRTMyv8sbKZ"
      },
      "execution_count": 22,
      "outputs": []
    },
    {
      "cell_type": "code",
      "source": [
        "# Check current RAM usage\n",
        "import psutil\n",
        "ram_usage = psutil.virtual_memory()\n",
        "print(f\"Used RAM: {ram_usage.used / (1024 ** 3):.2f} GB\")\n",
        "print(f\"Available RAM: {ram_usage.available / (1024 ** 3):.2f} GB\")"
      ],
      "metadata": {
        "id": "ndWK-tIJu-U2",
        "outputId": "a2c68fb1-db1c-4541-a802-89f2d7bff1ff",
        "colab": {
          "base_uri": "https://localhost:8080/"
        }
      },
      "execution_count": 23,
      "outputs": [
        {
          "output_type": "stream",
          "name": "stdout",
          "text": [
            "Used RAM: 3.46 GB\n",
            "Available RAM: 8.91 GB\n"
          ]
        }
      ]
    },
    {
      "cell_type": "markdown",
      "source": [
        "### *Normalization*"
      ],
      "metadata": {
        "id": "hq2Ft3OTrZ2M"
      }
    },
    {
      "cell_type": "code",
      "source": [
        "scaler= StandardScaler()\n",
        "num_features_list= list(median_values.keys())\n",
        "num_features_list\n",
        "\n",
        "train_df[num_features_list]= scaler.fit_transform(train_df[num_features_list])\n",
        "val_df[num_features_list]= scaler.transform(val_df[num_features_list])\n",
        "\n",
        "train_df.head(2)"
      ],
      "metadata": {
        "id": "mLsfnslQu-4y",
        "outputId": "0f88f519-fef0-4a35-e28a-685ce238687e",
        "colab": {
          "base_uri": "https://localhost:8080/",
          "height": 184
        }
      },
      "execution_count": 24,
      "outputs": [
        {
          "output_type": "execute_result",
          "data": {
            "text/plain": [
              "         class  cap-diameter  cap-shape  cap-surface  cap-color  \\\n",
              "586767     1.0     -0.292220       61.0         69.0       61.0   \n",
              "2665706    1.0     -1.039734       39.0         74.0       59.0   \n",
              "\n",
              "         does-bruise-or-bleed  gill-attachment  gill-spacing  gill-color  \\\n",
              "586767                    8.0             36.0          22.0        53.0   \n",
              "2665706                   8.0             36.0          22.0        37.0   \n",
              "\n",
              "         stem-height  stem-width  stem-surface  stem-color  has-ring  \\\n",
              "586767     -0.943942    0.148783          43.0        47.0       4.0   \n",
              "2665706    -0.414434   -0.996164          43.0        45.0       4.0   \n",
              "\n",
              "         ring-type  habitat  season  \n",
              "586767        14.0     20.0     0.0  \n",
              "2665706       14.0     20.0     2.0  "
            ],
            "text/html": [
              "\n",
              "  <div id=\"df-b1980385-85aa-4d05-9d65-860a65910c2b\" class=\"colab-df-container\">\n",
              "    <div>\n",
              "<style scoped>\n",
              "    .dataframe tbody tr th:only-of-type {\n",
              "        vertical-align: middle;\n",
              "    }\n",
              "\n",
              "    .dataframe tbody tr th {\n",
              "        vertical-align: top;\n",
              "    }\n",
              "\n",
              "    .dataframe thead th {\n",
              "        text-align: right;\n",
              "    }\n",
              "</style>\n",
              "<table border=\"1\" class=\"dataframe\">\n",
              "  <thead>\n",
              "    <tr style=\"text-align: right;\">\n",
              "      <th></th>\n",
              "      <th>class</th>\n",
              "      <th>cap-diameter</th>\n",
              "      <th>cap-shape</th>\n",
              "      <th>cap-surface</th>\n",
              "      <th>cap-color</th>\n",
              "      <th>does-bruise-or-bleed</th>\n",
              "      <th>gill-attachment</th>\n",
              "      <th>gill-spacing</th>\n",
              "      <th>gill-color</th>\n",
              "      <th>stem-height</th>\n",
              "      <th>stem-width</th>\n",
              "      <th>stem-surface</th>\n",
              "      <th>stem-color</th>\n",
              "      <th>has-ring</th>\n",
              "      <th>ring-type</th>\n",
              "      <th>habitat</th>\n",
              "      <th>season</th>\n",
              "    </tr>\n",
              "  </thead>\n",
              "  <tbody>\n",
              "    <tr>\n",
              "      <th>586767</th>\n",
              "      <td>1.0</td>\n",
              "      <td>-0.292220</td>\n",
              "      <td>61.0</td>\n",
              "      <td>69.0</td>\n",
              "      <td>61.0</td>\n",
              "      <td>8.0</td>\n",
              "      <td>36.0</td>\n",
              "      <td>22.0</td>\n",
              "      <td>53.0</td>\n",
              "      <td>-0.943942</td>\n",
              "      <td>0.148783</td>\n",
              "      <td>43.0</td>\n",
              "      <td>47.0</td>\n",
              "      <td>4.0</td>\n",
              "      <td>14.0</td>\n",
              "      <td>20.0</td>\n",
              "      <td>0.0</td>\n",
              "    </tr>\n",
              "    <tr>\n",
              "      <th>2665706</th>\n",
              "      <td>1.0</td>\n",
              "      <td>-1.039734</td>\n",
              "      <td>39.0</td>\n",
              "      <td>74.0</td>\n",
              "      <td>59.0</td>\n",
              "      <td>8.0</td>\n",
              "      <td>36.0</td>\n",
              "      <td>22.0</td>\n",
              "      <td>37.0</td>\n",
              "      <td>-0.414434</td>\n",
              "      <td>-0.996164</td>\n",
              "      <td>43.0</td>\n",
              "      <td>45.0</td>\n",
              "      <td>4.0</td>\n",
              "      <td>14.0</td>\n",
              "      <td>20.0</td>\n",
              "      <td>2.0</td>\n",
              "    </tr>\n",
              "  </tbody>\n",
              "</table>\n",
              "</div>\n",
              "    <div class=\"colab-df-buttons\">\n",
              "\n",
              "  <div class=\"colab-df-container\">\n",
              "    <button class=\"colab-df-convert\" onclick=\"convertToInteractive('df-b1980385-85aa-4d05-9d65-860a65910c2b')\"\n",
              "            title=\"Convert this dataframe to an interactive table.\"\n",
              "            style=\"display:none;\">\n",
              "\n",
              "  <svg xmlns=\"http://www.w3.org/2000/svg\" height=\"24px\" viewBox=\"0 -960 960 960\">\n",
              "    <path d=\"M120-120v-720h720v720H120Zm60-500h600v-160H180v160Zm220 220h160v-160H400v160Zm0 220h160v-160H400v160ZM180-400h160v-160H180v160Zm440 0h160v-160H620v160ZM180-180h160v-160H180v160Zm440 0h160v-160H620v160Z\"/>\n",
              "  </svg>\n",
              "    </button>\n",
              "\n",
              "  <style>\n",
              "    .colab-df-container {\n",
              "      display:flex;\n",
              "      gap: 12px;\n",
              "    }\n",
              "\n",
              "    .colab-df-convert {\n",
              "      background-color: #E8F0FE;\n",
              "      border: none;\n",
              "      border-radius: 50%;\n",
              "      cursor: pointer;\n",
              "      display: none;\n",
              "      fill: #1967D2;\n",
              "      height: 32px;\n",
              "      padding: 0 0 0 0;\n",
              "      width: 32px;\n",
              "    }\n",
              "\n",
              "    .colab-df-convert:hover {\n",
              "      background-color: #E2EBFA;\n",
              "      box-shadow: 0px 1px 2px rgba(60, 64, 67, 0.3), 0px 1px 3px 1px rgba(60, 64, 67, 0.15);\n",
              "      fill: #174EA6;\n",
              "    }\n",
              "\n",
              "    .colab-df-buttons div {\n",
              "      margin-bottom: 4px;\n",
              "    }\n",
              "\n",
              "    [theme=dark] .colab-df-convert {\n",
              "      background-color: #3B4455;\n",
              "      fill: #D2E3FC;\n",
              "    }\n",
              "\n",
              "    [theme=dark] .colab-df-convert:hover {\n",
              "      background-color: #434B5C;\n",
              "      box-shadow: 0px 1px 3px 1px rgba(0, 0, 0, 0.15);\n",
              "      filter: drop-shadow(0px 1px 2px rgba(0, 0, 0, 0.3));\n",
              "      fill: #FFFFFF;\n",
              "    }\n",
              "  </style>\n",
              "\n",
              "    <script>\n",
              "      const buttonEl =\n",
              "        document.querySelector('#df-b1980385-85aa-4d05-9d65-860a65910c2b button.colab-df-convert');\n",
              "      buttonEl.style.display =\n",
              "        google.colab.kernel.accessAllowed ? 'block' : 'none';\n",
              "\n",
              "      async function convertToInteractive(key) {\n",
              "        const element = document.querySelector('#df-b1980385-85aa-4d05-9d65-860a65910c2b');\n",
              "        const dataTable =\n",
              "          await google.colab.kernel.invokeFunction('convertToInteractive',\n",
              "                                                    [key], {});\n",
              "        if (!dataTable) return;\n",
              "\n",
              "        const docLinkHtml = 'Like what you see? Visit the ' +\n",
              "          '<a target=\"_blank\" href=https://colab.research.google.com/notebooks/data_table.ipynb>data table notebook</a>'\n",
              "          + ' to learn more about interactive tables.';\n",
              "        element.innerHTML = '';\n",
              "        dataTable['output_type'] = 'display_data';\n",
              "        await google.colab.output.renderOutput(dataTable, element);\n",
              "        const docLink = document.createElement('div');\n",
              "        docLink.innerHTML = docLinkHtml;\n",
              "        element.appendChild(docLink);\n",
              "      }\n",
              "    </script>\n",
              "  </div>\n",
              "\n",
              "\n",
              "<div id=\"df-91203a41-221b-4498-b670-6e28f1ea141e\">\n",
              "  <button class=\"colab-df-quickchart\" onclick=\"quickchart('df-91203a41-221b-4498-b670-6e28f1ea141e')\"\n",
              "            title=\"Suggest charts\"\n",
              "            style=\"display:none;\">\n",
              "\n",
              "<svg xmlns=\"http://www.w3.org/2000/svg\" height=\"24px\"viewBox=\"0 0 24 24\"\n",
              "     width=\"24px\">\n",
              "    <g>\n",
              "        <path d=\"M19 3H5c-1.1 0-2 .9-2 2v14c0 1.1.9 2 2 2h14c1.1 0 2-.9 2-2V5c0-1.1-.9-2-2-2zM9 17H7v-7h2v7zm4 0h-2V7h2v10zm4 0h-2v-4h2v4z\"/>\n",
              "    </g>\n",
              "</svg>\n",
              "  </button>\n",
              "\n",
              "<style>\n",
              "  .colab-df-quickchart {\n",
              "      --bg-color: #E8F0FE;\n",
              "      --fill-color: #1967D2;\n",
              "      --hover-bg-color: #E2EBFA;\n",
              "      --hover-fill-color: #174EA6;\n",
              "      --disabled-fill-color: #AAA;\n",
              "      --disabled-bg-color: #DDD;\n",
              "  }\n",
              "\n",
              "  [theme=dark] .colab-df-quickchart {\n",
              "      --bg-color: #3B4455;\n",
              "      --fill-color: #D2E3FC;\n",
              "      --hover-bg-color: #434B5C;\n",
              "      --hover-fill-color: #FFFFFF;\n",
              "      --disabled-bg-color: #3B4455;\n",
              "      --disabled-fill-color: #666;\n",
              "  }\n",
              "\n",
              "  .colab-df-quickchart {\n",
              "    background-color: var(--bg-color);\n",
              "    border: none;\n",
              "    border-radius: 50%;\n",
              "    cursor: pointer;\n",
              "    display: none;\n",
              "    fill: var(--fill-color);\n",
              "    height: 32px;\n",
              "    padding: 0;\n",
              "    width: 32px;\n",
              "  }\n",
              "\n",
              "  .colab-df-quickchart:hover {\n",
              "    background-color: var(--hover-bg-color);\n",
              "    box-shadow: 0 1px 2px rgba(60, 64, 67, 0.3), 0 1px 3px 1px rgba(60, 64, 67, 0.15);\n",
              "    fill: var(--button-hover-fill-color);\n",
              "  }\n",
              "\n",
              "  .colab-df-quickchart-complete:disabled,\n",
              "  .colab-df-quickchart-complete:disabled:hover {\n",
              "    background-color: var(--disabled-bg-color);\n",
              "    fill: var(--disabled-fill-color);\n",
              "    box-shadow: none;\n",
              "  }\n",
              "\n",
              "  .colab-df-spinner {\n",
              "    border: 2px solid var(--fill-color);\n",
              "    border-color: transparent;\n",
              "    border-bottom-color: var(--fill-color);\n",
              "    animation:\n",
              "      spin 1s steps(1) infinite;\n",
              "  }\n",
              "\n",
              "  @keyframes spin {\n",
              "    0% {\n",
              "      border-color: transparent;\n",
              "      border-bottom-color: var(--fill-color);\n",
              "      border-left-color: var(--fill-color);\n",
              "    }\n",
              "    20% {\n",
              "      border-color: transparent;\n",
              "      border-left-color: var(--fill-color);\n",
              "      border-top-color: var(--fill-color);\n",
              "    }\n",
              "    30% {\n",
              "      border-color: transparent;\n",
              "      border-left-color: var(--fill-color);\n",
              "      border-top-color: var(--fill-color);\n",
              "      border-right-color: var(--fill-color);\n",
              "    }\n",
              "    40% {\n",
              "      border-color: transparent;\n",
              "      border-right-color: var(--fill-color);\n",
              "      border-top-color: var(--fill-color);\n",
              "    }\n",
              "    60% {\n",
              "      border-color: transparent;\n",
              "      border-right-color: var(--fill-color);\n",
              "    }\n",
              "    80% {\n",
              "      border-color: transparent;\n",
              "      border-right-color: var(--fill-color);\n",
              "      border-bottom-color: var(--fill-color);\n",
              "    }\n",
              "    90% {\n",
              "      border-color: transparent;\n",
              "      border-bottom-color: var(--fill-color);\n",
              "    }\n",
              "  }\n",
              "</style>\n",
              "\n",
              "  <script>\n",
              "    async function quickchart(key) {\n",
              "      const quickchartButtonEl =\n",
              "        document.querySelector('#' + key + ' button');\n",
              "      quickchartButtonEl.disabled = true;  // To prevent multiple clicks.\n",
              "      quickchartButtonEl.classList.add('colab-df-spinner');\n",
              "      try {\n",
              "        const charts = await google.colab.kernel.invokeFunction(\n",
              "            'suggestCharts', [key], {});\n",
              "      } catch (error) {\n",
              "        console.error('Error during call to suggestCharts:', error);\n",
              "      }\n",
              "      quickchartButtonEl.classList.remove('colab-df-spinner');\n",
              "      quickchartButtonEl.classList.add('colab-df-quickchart-complete');\n",
              "    }\n",
              "    (() => {\n",
              "      let quickchartButtonEl =\n",
              "        document.querySelector('#df-91203a41-221b-4498-b670-6e28f1ea141e button');\n",
              "      quickchartButtonEl.style.display =\n",
              "        google.colab.kernel.accessAllowed ? 'block' : 'none';\n",
              "    })();\n",
              "  </script>\n",
              "</div>\n",
              "    </div>\n",
              "  </div>\n"
            ],
            "application/vnd.google.colaboratory.intrinsic+json": {
              "type": "dataframe",
              "variable_name": "train_df"
            }
          },
          "metadata": {},
          "execution_count": 24
        }
      ]
    },
    {
      "cell_type": "markdown",
      "source": [
        "### *HiTorch*"
      ],
      "metadata": {
        "id": "jRfCgFOT5MwS"
      }
    },
    {
      "cell_type": "code",
      "source": [
        "X_train = train_df.drop(columns=['class'], axis=1).values\n",
        "y_train= train_df['class'].values.reshape(-1,1)\n",
        "\n",
        "X_val= val_df.drop(columns=['class'], axis=1).values\n",
        "y_val= val_df['class'].values.reshape(-1, 1)\n",
        "\n",
        "X_train.shape, y_train.shape, X_val.shape, y_val.shape"
      ],
      "metadata": {
        "id": "d3C0ae1gu6aV",
        "colab": {
          "base_uri": "https://localhost:8080/"
        },
        "outputId": "384fc002-8e80-4f09-a761-86ad5c2dc217"
      },
      "execution_count": 25,
      "outputs": [
        {
          "output_type": "execute_result",
          "data": {
            "text/plain": [
              "((2493556, 16), (2493556, 1), (623389, 16), (623389, 1))"
            ]
          },
          "metadata": {},
          "execution_count": 25
        }
      ]
    },
    {
      "cell_type": "code",
      "source": [
        "X_train= torch.tensor(X_train, dtype= torch.float32)\n",
        "y_train= torch.tensor(y_train, dtype= torch.float32)\n",
        "\n",
        "X_val= torch.tensor(X_val, dtype= torch.float32)\n",
        "y_val= torch.tensor(y_val, dtype= torch.float32)\n",
        "\n",
        "X_train.shape, y_train.shape, X_val.shape, y_val.shape, X_train[1]"
      ],
      "metadata": {
        "colab": {
          "base_uri": "https://localhost:8080/"
        },
        "id": "oY7DiHjF4Zns",
        "outputId": "e4f5e0f8-e728-484a-b41e-8b63bc11407c"
      },
      "execution_count": 26,
      "outputs": [
        {
          "output_type": "execute_result",
          "data": {
            "text/plain": [
              "(torch.Size([2493556, 16]),\n",
              " torch.Size([2493556, 1]),\n",
              " torch.Size([623389, 16]),\n",
              " torch.Size([623389, 1]),\n",
              " tensor([-1.0397, 39.0000, 74.0000, 59.0000,  8.0000, 36.0000, 22.0000, 37.0000,\n",
              "         -0.4144, -0.9962, 43.0000, 45.0000,  4.0000, 14.0000, 20.0000,  2.0000]))"
            ]
          },
          "metadata": {},
          "execution_count": 26
        }
      ]
    },
    {
      "cell_type": "code",
      "source": [
        "train_set= TensorDataset(X_train, y_train)\n",
        "val_set= TensorDataset(X_val, y_val)\n",
        "\n",
        "X_train.shape, y_train.shape, X_val.shape, y_val.shape,"
      ],
      "metadata": {
        "colab": {
          "base_uri": "https://localhost:8080/"
        },
        "id": "h1VL8l6S89C6",
        "outputId": "68deeb1f-efd0-4116-c7ce-104e177b2c97"
      },
      "execution_count": 27,
      "outputs": [
        {
          "output_type": "execute_result",
          "data": {
            "text/plain": [
              "(torch.Size([2493556, 16]),\n",
              " torch.Size([2493556, 1]),\n",
              " torch.Size([623389, 16]),\n",
              " torch.Size([623389, 1]))"
            ]
          },
          "metadata": {},
          "execution_count": 27
        }
      ]
    },
    {
      "cell_type": "code",
      "source": [
        "train_loader= DataLoader(train_set, batch_size=256, shuffle= True)\n",
        "val_loader= DataLoader(val_set, batch_size= 256)"
      ],
      "metadata": {
        "id": "MORQDMprCqqQ"
      },
      "execution_count": 28,
      "outputs": []
    },
    {
      "cell_type": "code",
      "source": [
        "x_batch, y_batch= next(iter(train_loader))\n",
        "x_batch.shape, y_batch.shape"
      ],
      "metadata": {
        "colab": {
          "base_uri": "https://localhost:8080/"
        },
        "id": "aBxHJmm6DMyT",
        "outputId": "470176f0-89d5-472a-f0b1-9d36bb9baf24"
      },
      "execution_count": 29,
      "outputs": [
        {
          "output_type": "execute_result",
          "data": {
            "text/plain": [
              "(torch.Size([256, 16]), torch.Size([256, 1]))"
            ]
          },
          "metadata": {},
          "execution_count": 29
        }
      ]
    },
    {
      "cell_type": "markdown",
      "source": [
        "# **Step2: Model**"
      ],
      "metadata": {
        "id": "blGkW9Psz5N8"
      }
    },
    {
      "cell_type": "code",
      "source": [
        "nf_hidden_layer1= 2 * num_features\n",
        "\n",
        "model = nn.Sequential(\n",
        "    nn.Linear(in_features= num_features, out_features= nf_hidden_layer1),\n",
        "    nn.ReLU(),\n",
        "    nn.Linear(nf_hidden_layer1, num_classes-1),\n",
        "    nn.Sigmoid()\n",
        ")\n",
        "\n",
        "model.to(device)"
      ],
      "metadata": {
        "colab": {
          "base_uri": "https://localhost:8080/"
        },
        "id": "Z0CB9KvIz8om",
        "outputId": "e7e158a6-874c-4157-9b98-88845686944a"
      },
      "execution_count": 30,
      "outputs": [
        {
          "output_type": "execute_result",
          "data": {
            "text/plain": [
              "Sequential(\n",
              "  (0): Linear(in_features=16, out_features=32, bias=True)\n",
              "  (1): ReLU()\n",
              "  (2): Linear(in_features=32, out_features=1, bias=True)\n",
              "  (3): Sigmoid()\n",
              ")"
            ]
          },
          "metadata": {},
          "execution_count": 30
        }
      ]
    },
    {
      "cell_type": "markdown",
      "source": [
        "# **Step3: Loss function**"
      ],
      "metadata": {
        "id": "ihdVZwBUD3WO"
      }
    },
    {
      "cell_type": "code",
      "source": [
        "loss_fn= nn.BCELoss()\n",
        "loss_fn"
      ],
      "metadata": {
        "id": "mhx2QpGGGHgy",
        "colab": {
          "base_uri": "https://localhost:8080/"
        },
        "outputId": "13b72ad8-6d04-4962-8413-dfad2c41806e"
      },
      "execution_count": 31,
      "outputs": [
        {
          "output_type": "execute_result",
          "data": {
            "text/plain": [
              "BCELoss()"
            ]
          },
          "metadata": {},
          "execution_count": 31
        }
      ]
    },
    {
      "cell_type": "markdown",
      "source": [
        "# **Step4: Optimizer**"
      ],
      "metadata": {
        "id": "6cfEKpvFGpoc"
      }
    },
    {
      "cell_type": "code",
      "source": [
        "opt= torch.optim.SGD(model.parameters(), lr=0.0001, momentum=0.9)\n",
        "opt"
      ],
      "metadata": {
        "colab": {
          "base_uri": "https://localhost:8080/"
        },
        "id": "9vc3w1rHGo-l",
        "outputId": "0f522a73-e76d-425e-a023-55a0f2a88e27"
      },
      "execution_count": 32,
      "outputs": [
        {
          "output_type": "execute_result",
          "data": {
            "text/plain": [
              "SGD (\n",
              "Parameter Group 0\n",
              "    dampening: 0\n",
              "    differentiable: False\n",
              "    foreach: None\n",
              "    fused: None\n",
              "    lr: 0.0001\n",
              "    maximize: False\n",
              "    momentum: 0.9\n",
              "    nesterov: False\n",
              "    weight_decay: 0\n",
              ")"
            ]
          },
          "metadata": {},
          "execution_count": 32
        }
      ]
    },
    {
      "cell_type": "markdown",
      "source": [
        "# **Step5: Train loop**"
      ],
      "metadata": {
        "id": "8eilUsCEHUGw"
      }
    },
    {
      "cell_type": "code",
      "source": [
        "best_loss_val = 10000\n",
        "loss_train_hist, loss_val_hist =[], []\n",
        "acc_train_hist, acc_val_hist= [], []"
      ],
      "metadata": {
        "id": "2wolHbtEZXNO"
      },
      "execution_count": null,
      "outputs": []
    },
    {
      "cell_type": "code",
      "source": [
        "epochs= 20\n",
        "\n",
        "for epoch in range(epochs):\n",
        "  mean_loss_train, mean_acc_train= 0, 0\n",
        "  mean_loss_val, mean_acc_val= 0, 0\n",
        "\n",
        "  for x_batch, y_batch in train_loader:\n",
        "\n",
        "    #GPU\n",
        "    x_batch = x_batch.to(device)\n",
        "    y_batch= y_batch.to(device)\n",
        "\n",
        "    #model\n",
        "    y_hat= model(x_batch)\n",
        "\n",
        "    #loss\n",
        "    loss= loss_fn(y_hat, y_batch)\n",
        "\n",
        "    # gradient\n",
        "    loss.backward()\n",
        "\n",
        "    # update\n",
        "    opt.step()\n",
        "    opt.zero_grad()\n",
        "\n",
        "    mean_loss_train += loss.item() * len(x_batch)\n",
        "    mean_acc_train += torch.sum(y_hat.round() == y_batch).item()\n",
        "\n",
        "  mean_loss_train /= len(train_set)\n",
        "  mean_acc_train /= len(train_set)\n",
        "  loss_train_hist.append(mean_loss_train)\n",
        "  acc_train_hist.append(mean_acc_train)\n",
        "\n",
        "\n",
        "  with torch.no_grad():\n",
        "    for x_batch, y_batch in val_loader:\n",
        "\n",
        "      #GPU\n",
        "      x_batch = x_batch.to(device)\n",
        "      y_batch= y_batch.to(device)\n",
        "\n",
        "      y_hat= model(x_batch)\n",
        "\n",
        "      loss= loss_fn(y_hat, y_batch)\n",
        "\n",
        "      mean_loss_val += loss.item() * len(x_batch)\n",
        "      mean_acc_val += torch.sum(y_hat.round() == y_batch).item()\n",
        "\n",
        "    mean_loss_val /= len(val_set)\n",
        "    mean_acc_val /= len(val_set)\n",
        "    loss_val_hist.append(mean_loss_train)\n",
        "    acc_val_hist.append(mean_acc_train)\n",
        "\n",
        "  print(f'epoch[{epoch}]: '\n",
        "      f'Train_loss: {mean_loss_train:.3f} ,'\n",
        "      f'Train_acc: {mean_acc_train:.3f} ,'\n",
        "      f'val_loss: {mean_loss_val:.3f} ,'\n",
        "      f'val_acc: {mean_acc_val:.3f}'\n",
        "      )\n",
        "\n",
        "  if mean_loss_val < best_loss_val:\n",
        "    best_loss_val = mean_loss_val\n",
        "    print('model saved!')\n",
        "    torch.save(model,'best_model.pt')"
      ],
      "metadata": {
        "colab": {
          "base_uri": "https://localhost:8080/"
        },
        "id": "qgUuzj-RHTHa",
        "outputId": "524617be-b9dc-4307-e8c4-054f7500d3f2"
      },
      "execution_count": null,
      "outputs": [
        {
          "output_type": "stream",
          "name": "stdout",
          "text": [
            "epoch: [0]:Train_loss: 0.604 ,Train_acc: 0.674 ,val_loss: 0.560 ,val_acc: 0.710\n",
            "model saved!\n",
            "epoch: [1]:Train_loss: 0.530 ,Train_acc: 0.738 ,val_loss: 0.497 ,val_acc: 0.765\n",
            "model saved!\n",
            "epoch: [2]:Train_loss: 0.477 ,Train_acc: 0.776 ,val_loss: 0.460 ,val_acc: 0.782\n",
            "model saved!\n",
            "epoch: [3]:Train_loss: 0.439 ,Train_acc: 0.800 ,val_loss: 0.424 ,val_acc: 0.811\n",
            "model saved!\n",
            "epoch: [4]:Train_loss: 0.417 ,Train_acc: 0.809 ,val_loss: 0.407 ,val_acc: 0.811\n",
            "model saved!\n",
            "epoch: [5]:Train_loss: 0.402 ,Train_acc: 0.817 ,val_loss: 0.392 ,val_acc: 0.823\n",
            "model saved!\n",
            "epoch: [6]:Train_loss: 0.391 ,Train_acc: 0.823 ,val_loss: 0.383 ,val_acc: 0.829\n",
            "model saved!\n",
            "epoch: [7]:Train_loss: 0.384 ,Train_acc: 0.827 ,val_loss: 0.376 ,val_acc: 0.836\n",
            "model saved!\n"
          ]
        }
      ]
    },
    {
      "cell_type": "code",
      "source": [
        "plt.plot(torch.arange(epochs), loss_train_hist)\n",
        "plt.plot(torch.arange(epochs), loss_val_hist)"
      ],
      "metadata": {
        "id": "HS4TXCP-NOdb"
      },
      "execution_count": null,
      "outputs": []
    },
    {
      "cell_type": "code",
      "source": [
        "plt.plot(torch.arange(epochs), acc_train_hist)\n",
        "plt.plot(torch.arange(epochs), acc_val_hist)"
      ],
      "metadata": {
        "id": "5ErXc8n1aNpG"
      },
      "execution_count": null,
      "outputs": []
    }
  ]
}